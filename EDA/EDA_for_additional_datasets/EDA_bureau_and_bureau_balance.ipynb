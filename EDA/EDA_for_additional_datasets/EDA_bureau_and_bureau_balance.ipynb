{
 "cells": [
  {
   "cell_type": "markdown",
   "id": "3b1951dc-8916-4afe-a129-fbce58526e3a",
   "metadata": {},
   "source": [
    "# Home Credit Default Risk - EDA BUREAU & BUREAU_BALANCE"
   ]
  },
  {
   "cell_type": "markdown",
   "id": "43cb92c7-a096-46f1-a9ad-088aa6ee1e7f",
   "metadata": {},
   "source": [
    "## 1. Introduction"
   ]
  },
  {
   "cell_type": "markdown",
   "id": "bfd173ba-afb8-4221-83c8-8c93b62ba357",
   "metadata": {},
   "source": [
    "**Context**\n",
    "\n",
    "This notebook contains basic EDA for BUREAU and BUREAU_BALANCE data sets. \n",
    "\n",
    "These are additional sources of data (application_train/application_test are the main training and testing data).\n",
    "\n",
    "bureau.csv\n",
    "\n",
    "    All client's previous credits provided by other financial institutions that were reported to Credit Bureau (for clients who have a loan in this sample).\n",
    "    For every loan in this sample, there are as many rows as number of credits the client had in Credit Bureau before the application date.\n",
    "\n",
    "\n",
    "bureau_balance.csv\n",
    "\n",
    "    Monthly balances of previous credits in Credit Bureau.\n",
    "    \n",
    "    This table has one row for each month of history of every previous credit reported to Credit Bureau – i.e the table has (#loans in sample * # of relative previous credits * # of months where we have some history observable for the previous credits) rows.\n",
    "\n",
    "\n",
    "**Goals:**\n",
    "\n",
    "    To comprehensively understand the dataset's structure, identify key patterns, and discover meaningful insights that will inform a robust feature engineering and modeling strategy.\n",
    "\n",
    "**Objectives:**\n",
    "\n",
    "    Conduct a comprehensive Exploratory Data Analysis (EDA): Perform an in-depth exploration of the datasets to understand their statistical properties and distributions.\n",
    "\n",
    "    Identify and address data quality issues: Investigate missing values, identify and handle data anomalies.\n",
    "\n",
    "    Analyze feature relationships: Evaluate correlations between features and assess their individual relationships with the target variable to prioritize their importance for the model.\n",
    "\n",
    "    Leverage automated tools for initial insights: Utilize libraries like Sweetviz to quickly generate an initial feature exploration report.\n"
   ]
  },
  {
   "cell_type": "markdown",
   "id": "1323ffeb-25c1-430b-b280-58a2071cfd28",
   "metadata": {},
   "source": []
  },
  {
   "cell_type": "markdown",
   "id": "fcb1999a-3424-4274-b4d8-555f3eeeb22f",
   "metadata": {},
   "source": [
    "## 2. Exploratory Data Analysis (EDA)"
   ]
  },
  {
   "cell_type": "markdown",
   "id": "3086a715-6e0a-4223-8c3f-b635bb9afae0",
   "metadata": {},
   "source": [
    "### A. Data loading"
   ]
  },
  {
   "cell_type": "code",
   "execution_count": 1,
   "id": "3f5e517c-1eb1-48e0-804d-81198e55c1de",
   "metadata": {},
   "outputs": [],
   "source": [
    "%load_ext jupyter_black"
   ]
  },
  {
   "cell_type": "code",
   "execution_count": 5,
   "id": "640fc3cf-a79b-443e-a83f-f11c68324f84",
   "metadata": {},
   "outputs": [],
   "source": [
    "import pandas as pd\n",
    "import numpy as np\n",
    "import sys\n",
    "import os\n",
    "from typing import Dict, Optional, List, Tuple, Union\n",
    "import warnings\n",
    "\n",
    "warnings.filterwarnings(\"ignore\", category=UserWarning, module=\"sweetviz.graph\")\n",
    "import sweetviz as sv\n",
    "from ydata_profiling import ProfileReport\n",
    "from IPython.display import IFrame"
   ]
  },
  {
   "cell_type": "code",
   "execution_count": 6,
   "id": "a70c4000-d50b-4243-a3bf-9a677672bb50",
   "metadata": {},
   "outputs": [],
   "source": [
    "sys.path.append(os.path.abspath(\"..\"))\n",
    "from Data.utils_EDA import feature_types, missing_columns, calculate_missing_rows\n",
    "from Data.utils_modeling import downcast_numeric_col"
   ]
  },
  {
   "cell_type": "markdown",
   "id": "b99bd356-ae52-47cb-8d87-9109cc99a540",
   "metadata": {},
   "source": [
    "**Loading datasets**"
   ]
  },
  {
   "cell_type": "code",
   "execution_count": 4,
   "id": "fc47e949-b947-4cba-90a4-30ff6b4d32ec",
   "metadata": {},
   "outputs": [
    {
     "data": {
      "text/plain": [
       "(1716428, 17)"
      ]
     },
     "execution_count": 4,
     "metadata": {},
     "output_type": "execute_result"
    }
   ],
   "source": [
    "bureau = pd.read_csv(r\"..\\Data\\bureau.csv\")\n",
    "bureau.shape"
   ]
  },
  {
   "cell_type": "code",
   "execution_count": 5,
   "id": "7e1e65dc-00d5-48c2-945b-f1e419aa3b6f",
   "metadata": {},
   "outputs": [
    {
     "data": {
      "text/plain": [
       "(27299925, 3)"
      ]
     },
     "execution_count": 5,
     "metadata": {},
     "output_type": "execute_result"
    }
   ],
   "source": [
    "bureau_balance = pd.read_csv(r\"..\\Data\\bureau_balance.csv\")\n",
    "bureau_balance.shape"
   ]
  },
  {
   "cell_type": "markdown",
   "id": "b107f1bc-6591-4cb6-bb66-4c7a39cbaa64",
   "metadata": {},
   "source": [
    "**Downcasting numeric columns**"
   ]
  },
  {
   "cell_type": "code",
   "execution_count": 8,
   "id": "3b6d8d44-4c46-4ca9-ac7f-b33fec38ad3a",
   "metadata": {},
   "outputs": [
    {
     "data": {
      "text/plain": [
       "array([dtype('int32'), dtype('O'), dtype('int16'), dtype('float32'),\n",
       "       dtype('float64'), dtype('int8')], dtype=object)"
      ]
     },
     "execution_count": 8,
     "metadata": {},
     "output_type": "execute_result"
    }
   ],
   "source": [
    "bureau = bureau.copy()\n",
    "downcast_numeric_col(bureau)\n",
    "bureau.dtypes.unique()"
   ]
  },
  {
   "cell_type": "code",
   "execution_count": 7,
   "id": "f47c0c49-822c-4479-a2a2-10a5e22a72a6",
   "metadata": {},
   "outputs": [
    {
     "data": {
      "text/plain": [
       "array([dtype('int32'), dtype('int8'), dtype('O')], dtype=object)"
      ]
     },
     "execution_count": 7,
     "metadata": {},
     "output_type": "execute_result"
    }
   ],
   "source": [
    "bureau_balance = bureau_balance.copy()\n",
    "downcast_numeric_col(bureau_balance)\n",
    "bureau_balance.dtypes.unique()"
   ]
  },
  {
   "cell_type": "markdown",
   "id": "731bacd7-7f05-454d-84e0-f47acb1ec47e",
   "metadata": {},
   "source": []
  },
  {
   "cell_type": "markdown",
   "id": "8396688f-7c7c-4866-ad13-881de5bf8e2e",
   "metadata": {},
   "source": [
    "### B. Bureau data set"
   ]
  },
  {
   "cell_type": "code",
   "execution_count": 9,
   "id": "a9854d42-e61b-4fd8-8997-c8d9282001e5",
   "metadata": {},
   "outputs": [
    {
     "data": {
      "text/html": [
       "<div>\n",
       "<style scoped>\n",
       "    .dataframe tbody tr th:only-of-type {\n",
       "        vertical-align: middle;\n",
       "    }\n",
       "\n",
       "    .dataframe tbody tr th {\n",
       "        vertical-align: top;\n",
       "    }\n",
       "\n",
       "    .dataframe thead th {\n",
       "        text-align: right;\n",
       "    }\n",
       "</style>\n",
       "<table border=\"1\" class=\"dataframe\">\n",
       "  <thead>\n",
       "    <tr style=\"text-align: right;\">\n",
       "      <th></th>\n",
       "      <th>SK_ID_CURR</th>\n",
       "      <th>SK_ID_BUREAU</th>\n",
       "      <th>CREDIT_ACTIVE</th>\n",
       "      <th>CREDIT_CURRENCY</th>\n",
       "      <th>DAYS_CREDIT</th>\n",
       "      <th>CREDIT_DAY_OVERDUE</th>\n",
       "      <th>DAYS_CREDIT_ENDDATE</th>\n",
       "      <th>DAYS_ENDDATE_FACT</th>\n",
       "      <th>AMT_CREDIT_MAX_OVERDUE</th>\n",
       "      <th>CNT_CREDIT_PROLONG</th>\n",
       "      <th>AMT_CREDIT_SUM</th>\n",
       "      <th>AMT_CREDIT_SUM_DEBT</th>\n",
       "      <th>AMT_CREDIT_SUM_LIMIT</th>\n",
       "      <th>AMT_CREDIT_SUM_OVERDUE</th>\n",
       "      <th>CREDIT_TYPE</th>\n",
       "      <th>DAYS_CREDIT_UPDATE</th>\n",
       "      <th>AMT_ANNUITY</th>\n",
       "    </tr>\n",
       "  </thead>\n",
       "  <tbody>\n",
       "    <tr>\n",
       "      <th>0</th>\n",
       "      <td>215354</td>\n",
       "      <td>5714462</td>\n",
       "      <td>Closed</td>\n",
       "      <td>currency 1</td>\n",
       "      <td>-497</td>\n",
       "      <td>0</td>\n",
       "      <td>-153.0</td>\n",
       "      <td>-153.0</td>\n",
       "      <td>NaN</td>\n",
       "      <td>0</td>\n",
       "      <td>91323.0</td>\n",
       "      <td>0.0</td>\n",
       "      <td>NaN</td>\n",
       "      <td>0.0</td>\n",
       "      <td>Consumer credit</td>\n",
       "      <td>-131</td>\n",
       "      <td>NaN</td>\n",
       "    </tr>\n",
       "    <tr>\n",
       "      <th>1</th>\n",
       "      <td>215354</td>\n",
       "      <td>5714463</td>\n",
       "      <td>Active</td>\n",
       "      <td>currency 1</td>\n",
       "      <td>-208</td>\n",
       "      <td>0</td>\n",
       "      <td>1075.0</td>\n",
       "      <td>NaN</td>\n",
       "      <td>NaN</td>\n",
       "      <td>0</td>\n",
       "      <td>225000.0</td>\n",
       "      <td>171342.0</td>\n",
       "      <td>NaN</td>\n",
       "      <td>0.0</td>\n",
       "      <td>Credit card</td>\n",
       "      <td>-20</td>\n",
       "      <td>NaN</td>\n",
       "    </tr>\n",
       "    <tr>\n",
       "      <th>2</th>\n",
       "      <td>215354</td>\n",
       "      <td>5714464</td>\n",
       "      <td>Active</td>\n",
       "      <td>currency 1</td>\n",
       "      <td>-203</td>\n",
       "      <td>0</td>\n",
       "      <td>528.0</td>\n",
       "      <td>NaN</td>\n",
       "      <td>NaN</td>\n",
       "      <td>0</td>\n",
       "      <td>464323.5</td>\n",
       "      <td>NaN</td>\n",
       "      <td>NaN</td>\n",
       "      <td>0.0</td>\n",
       "      <td>Consumer credit</td>\n",
       "      <td>-16</td>\n",
       "      <td>NaN</td>\n",
       "    </tr>\n",
       "    <tr>\n",
       "      <th>3</th>\n",
       "      <td>215354</td>\n",
       "      <td>5714465</td>\n",
       "      <td>Active</td>\n",
       "      <td>currency 1</td>\n",
       "      <td>-203</td>\n",
       "      <td>0</td>\n",
       "      <td>NaN</td>\n",
       "      <td>NaN</td>\n",
       "      <td>NaN</td>\n",
       "      <td>0</td>\n",
       "      <td>90000.0</td>\n",
       "      <td>NaN</td>\n",
       "      <td>NaN</td>\n",
       "      <td>0.0</td>\n",
       "      <td>Credit card</td>\n",
       "      <td>-16</td>\n",
       "      <td>NaN</td>\n",
       "    </tr>\n",
       "    <tr>\n",
       "      <th>4</th>\n",
       "      <td>215354</td>\n",
       "      <td>5714466</td>\n",
       "      <td>Active</td>\n",
       "      <td>currency 1</td>\n",
       "      <td>-629</td>\n",
       "      <td>0</td>\n",
       "      <td>1197.0</td>\n",
       "      <td>NaN</td>\n",
       "      <td>77674.5</td>\n",
       "      <td>0</td>\n",
       "      <td>2700000.0</td>\n",
       "      <td>NaN</td>\n",
       "      <td>NaN</td>\n",
       "      <td>0.0</td>\n",
       "      <td>Consumer credit</td>\n",
       "      <td>-21</td>\n",
       "      <td>NaN</td>\n",
       "    </tr>\n",
       "  </tbody>\n",
       "</table>\n",
       "</div>"
      ],
      "text/plain": [
       "   SK_ID_CURR  SK_ID_BUREAU CREDIT_ACTIVE CREDIT_CURRENCY  DAYS_CREDIT  \\\n",
       "0      215354       5714462        Closed      currency 1         -497   \n",
       "1      215354       5714463        Active      currency 1         -208   \n",
       "2      215354       5714464        Active      currency 1         -203   \n",
       "3      215354       5714465        Active      currency 1         -203   \n",
       "4      215354       5714466        Active      currency 1         -629   \n",
       "\n",
       "   CREDIT_DAY_OVERDUE  DAYS_CREDIT_ENDDATE  DAYS_ENDDATE_FACT  \\\n",
       "0                   0               -153.0             -153.0   \n",
       "1                   0               1075.0                NaN   \n",
       "2                   0                528.0                NaN   \n",
       "3                   0                  NaN                NaN   \n",
       "4                   0               1197.0                NaN   \n",
       "\n",
       "   AMT_CREDIT_MAX_OVERDUE  CNT_CREDIT_PROLONG  AMT_CREDIT_SUM  \\\n",
       "0                     NaN                   0         91323.0   \n",
       "1                     NaN                   0        225000.0   \n",
       "2                     NaN                   0        464323.5   \n",
       "3                     NaN                   0         90000.0   \n",
       "4                 77674.5                   0       2700000.0   \n",
       "\n",
       "   AMT_CREDIT_SUM_DEBT  AMT_CREDIT_SUM_LIMIT  AMT_CREDIT_SUM_OVERDUE  \\\n",
       "0                  0.0                   NaN                     0.0   \n",
       "1             171342.0                   NaN                     0.0   \n",
       "2                  NaN                   NaN                     0.0   \n",
       "3                  NaN                   NaN                     0.0   \n",
       "4                  NaN                   NaN                     0.0   \n",
       "\n",
       "       CREDIT_TYPE  DAYS_CREDIT_UPDATE  AMT_ANNUITY  \n",
       "0  Consumer credit                -131          NaN  \n",
       "1      Credit card                 -20          NaN  \n",
       "2  Consumer credit                 -16          NaN  \n",
       "3      Credit card                 -16          NaN  \n",
       "4  Consumer credit                 -21          NaN  "
      ]
     },
     "execution_count": 9,
     "metadata": {},
     "output_type": "execute_result"
    }
   ],
   "source": [
    "bureau.head()"
   ]
  },
  {
   "cell_type": "code",
   "execution_count": 10,
   "id": "e6c55d5e-66e1-4166-82cb-dae8d138d8a6",
   "metadata": {
    "scrolled": true
   },
   "outputs": [
    {
     "name": "stdout",
     "output_type": "stream",
     "text": [
      "<class 'pandas.core.frame.DataFrame'>\n",
      "RangeIndex: 1716428 entries, 0 to 1716427\n",
      "Data columns (total 17 columns):\n",
      " #   Column                  Dtype  \n",
      "---  ------                  -----  \n",
      " 0   SK_ID_CURR              int32  \n",
      " 1   SK_ID_BUREAU            int32  \n",
      " 2   CREDIT_ACTIVE           object \n",
      " 3   CREDIT_CURRENCY         object \n",
      " 4   DAYS_CREDIT             int16  \n",
      " 5   CREDIT_DAY_OVERDUE      int16  \n",
      " 6   DAYS_CREDIT_ENDDATE     float32\n",
      " 7   DAYS_ENDDATE_FACT       float32\n",
      " 8   AMT_CREDIT_MAX_OVERDUE  float64\n",
      " 9   CNT_CREDIT_PROLONG      int8   \n",
      " 10  AMT_CREDIT_SUM          float64\n",
      " 11  AMT_CREDIT_SUM_DEBT     float64\n",
      " 12  AMT_CREDIT_SUM_LIMIT    float64\n",
      " 13  AMT_CREDIT_SUM_OVERDUE  float64\n",
      " 14  CREDIT_TYPE             object \n",
      " 15  DAYS_CREDIT_UPDATE      int32  \n",
      " 16  AMT_ANNUITY             float64\n",
      "dtypes: float32(2), float64(6), int16(2), int32(3), int8(1), object(3)\n",
      "memory usage: 158.8+ MB\n"
     ]
    }
   ],
   "source": [
    "bureau.info()"
   ]
  },
  {
   "cell_type": "markdown",
   "id": "6daf47ab-a975-4e05-88d5-d83745139b77",
   "metadata": {},
   "source": [
    "**Feature descriptions:**\n"
   ]
  },
  {
   "cell_type": "markdown",
   "id": "3f142751-8ff2-4eeb-892e-f4a1c57249de",
   "metadata": {},
   "source": [
    "1. SK_ID_CURR,\"ID of loan in our sample - one loan in our sample can have 0,1,2 or more related previous credits in credit bureau \",hashed\n",
    "\n",
    "2. SK_BUREAU_ID,Recoded ID of previous Credit Bureau credit related to our loan (unique coding for each loan application),hashed\n",
    "\n",
    "3. CREDIT_ACTIVE,Status of the Credit Bureau (CB) reported credits,\n",
    "\n",
    "4. CREDIT_CURRENCY,Recoded currency of the Credit Bureau credit,recoded\n",
    "\n",
    "5. DAYS_CREDIT,How many days before current application did client apply for Credit Bureau credit,time only relative to the application\n",
    "\n",
    "6. CREDIT_DAY_OVERDUE,Number of days past due on CB credit at the time of application for related loan in our sample,\n",
    "\n",
    "7. DAYS_CREDIT_ENDDATE,Remaining duration of CB credit (in days) at the time of application in Home Credit,time only relative to the application\n",
    "\n",
    "8. DAYS_ENDDATE_FACT,Days since CB credit ended at the time of application in Home Credit (only for closed credit),time only relative to the application\n",
    "\n",
    "9. AMT_CREDIT_MAX_OVERDUE,Maximal amount overdue on the Credit Bureau credit so far (at application date of loan in our sample),\n",
    "\n",
    "10. CNT_CREDIT_PROLONG,How many times was the Credit Bureau credit prolonged,\n",
    "\n",
    "11. AMT_CREDIT_SUM,Current credit amount for the Credit Bureau credit,\n",
    "\n",
    "12. AMT_CREDIT_SUM_DEBT,Current debt on Credit Bureau credit,\n",
    "\n",
    "13. AMT_CREDIT_SUM_LIMIT,Current credit limit of credit card reported in Credit Bureau,\n",
    "\n",
    "14. AMT_CREDIT_SUM_OVERDUE,Current amount overdue on Credit Bureau credit,\n",
    "\n",
    "15. CREDIT_TYPE,\"Type of Credit Bureau credit (Car, cash,...)\",\n",
    "\n",
    "16. DAYS_CREDIT_UPDATE,How many days before loan application did last information about the Credit Bureau credit come,time only relative to the application\n",
    "\n",
    "17. AMT_ANNUITY,Annuity of the Credit Bureau credit,"
   ]
  },
  {
   "cell_type": "markdown",
   "id": "ef42965d-119b-45c6-8dca-36b4bf94f2da",
   "metadata": {},
   "source": []
  },
  {
   "cell_type": "markdown",
   "id": "29901b46-e4c7-4f04-90e6-1cc14ac32605",
   "metadata": {},
   "source": [
    "**Feature types**"
   ]
  },
  {
   "cell_type": "code",
   "execution_count": 11,
   "id": "a7f8cfea-98fe-49ae-b560-44ea6a6c8877",
   "metadata": {},
   "outputs": [
    {
     "name": "stdout",
     "output_type": "stream",
     "text": [
      "Numerical features: ['SK_ID_CURR', 'SK_ID_BUREAU', 'DAYS_CREDIT', 'CREDIT_DAY_OVERDUE', 'DAYS_CREDIT_ENDDATE', 'DAYS_ENDDATE_FACT', 'AMT_CREDIT_MAX_OVERDUE', 'CNT_CREDIT_PROLONG', 'AMT_CREDIT_SUM', 'AMT_CREDIT_SUM_DEBT', 'AMT_CREDIT_SUM_LIMIT', 'AMT_CREDIT_SUM_OVERDUE', 'DAYS_CREDIT_UPDATE', 'AMT_ANNUITY']\n",
      "Categorical features: ['CREDIT_ACTIVE', 'CREDIT_CURRENCY', 'CREDIT_TYPE']\n",
      "Binary features: []\n"
     ]
    }
   ],
   "source": [
    "feature_types(bureau)"
   ]
  },
  {
   "cell_type": "code",
   "execution_count": 18,
   "id": "10ea283b-5257-43a2-b760-2b7f5b9459de",
   "metadata": {},
   "outputs": [
    {
     "data": {
      "text/plain": [
       "float64    6\n",
       "int32      3\n",
       "object     3\n",
       "int16      2\n",
       "float32    2\n",
       "int8       1\n",
       "Name: count, dtype: int64"
      ]
     },
     "execution_count": 18,
     "metadata": {},
     "output_type": "execute_result"
    }
   ],
   "source": [
    "bureau.dtypes.value_counts()"
   ]
  },
  {
   "cell_type": "markdown",
   "id": "ea639987-e7f6-4cb3-a684-f75b0cb994cb",
   "metadata": {},
   "source": []
  },
  {
   "cell_type": "code",
   "execution_count": 13,
   "id": "9e149642-d4c2-47d5-a6a7-8c16d7d382d9",
   "metadata": {},
   "outputs": [
    {
     "data": {
      "text/html": [
       "<div>\n",
       "<style scoped>\n",
       "    .dataframe tbody tr th:only-of-type {\n",
       "        vertical-align: middle;\n",
       "    }\n",
       "\n",
       "    .dataframe tbody tr th {\n",
       "        vertical-align: top;\n",
       "    }\n",
       "\n",
       "    .dataframe thead th {\n",
       "        text-align: right;\n",
       "    }\n",
       "</style>\n",
       "<table border=\"1\" class=\"dataframe\">\n",
       "  <thead>\n",
       "    <tr style=\"text-align: right;\">\n",
       "      <th></th>\n",
       "      <th>count</th>\n",
       "      <th>mean</th>\n",
       "      <th>std</th>\n",
       "      <th>min</th>\n",
       "      <th>25%</th>\n",
       "      <th>50%</th>\n",
       "      <th>75%</th>\n",
       "      <th>max</th>\n",
       "    </tr>\n",
       "  </thead>\n",
       "  <tbody>\n",
       "    <tr>\n",
       "      <th>SK_ID_CURR</th>\n",
       "      <td>1716428.0</td>\n",
       "      <td>2.782149e+05</td>\n",
       "      <td>1.029386e+05</td>\n",
       "      <td>100001.000</td>\n",
       "      <td>188866.75</td>\n",
       "      <td>278055.0</td>\n",
       "      <td>367426.00</td>\n",
       "      <td>4.562550e+05</td>\n",
       "    </tr>\n",
       "    <tr>\n",
       "      <th>SK_ID_BUREAU</th>\n",
       "      <td>1716428.0</td>\n",
       "      <td>5.924434e+06</td>\n",
       "      <td>5.322657e+05</td>\n",
       "      <td>5000000.000</td>\n",
       "      <td>5463953.75</td>\n",
       "      <td>5926303.5</td>\n",
       "      <td>6385681.25</td>\n",
       "      <td>6.843457e+06</td>\n",
       "    </tr>\n",
       "    <tr>\n",
       "      <th>DAYS_CREDIT</th>\n",
       "      <td>1716428.0</td>\n",
       "      <td>-1.142108e+03</td>\n",
       "      <td>7.951649e+02</td>\n",
       "      <td>-2922.000</td>\n",
       "      <td>-1666.00</td>\n",
       "      <td>-987.0</td>\n",
       "      <td>-474.00</td>\n",
       "      <td>0.000000e+00</td>\n",
       "    </tr>\n",
       "    <tr>\n",
       "      <th>CREDIT_DAY_OVERDUE</th>\n",
       "      <td>1716428.0</td>\n",
       "      <td>8.181666e-01</td>\n",
       "      <td>3.654443e+01</td>\n",
       "      <td>0.000</td>\n",
       "      <td>0.00</td>\n",
       "      <td>0.0</td>\n",
       "      <td>0.00</td>\n",
       "      <td>2.792000e+03</td>\n",
       "    </tr>\n",
       "    <tr>\n",
       "      <th>DAYS_CREDIT_ENDDATE</th>\n",
       "      <td>1610875.0</td>\n",
       "      <td>5.105173e+02</td>\n",
       "      <td>4.994220e+03</td>\n",
       "      <td>-42060.000</td>\n",
       "      <td>-1138.00</td>\n",
       "      <td>-330.0</td>\n",
       "      <td>474.00</td>\n",
       "      <td>3.119900e+04</td>\n",
       "    </tr>\n",
       "    <tr>\n",
       "      <th>DAYS_ENDDATE_FACT</th>\n",
       "      <td>1082775.0</td>\n",
       "      <td>-1.017437e+03</td>\n",
       "      <td>7.140106e+02</td>\n",
       "      <td>-42023.000</td>\n",
       "      <td>-1489.00</td>\n",
       "      <td>-897.0</td>\n",
       "      <td>-425.00</td>\n",
       "      <td>0.000000e+00</td>\n",
       "    </tr>\n",
       "    <tr>\n",
       "      <th>AMT_CREDIT_MAX_OVERDUE</th>\n",
       "      <td>591940.0</td>\n",
       "      <td>3.825418e+03</td>\n",
       "      <td>2.060316e+05</td>\n",
       "      <td>0.000</td>\n",
       "      <td>0.00</td>\n",
       "      <td>0.0</td>\n",
       "      <td>0.00</td>\n",
       "      <td>1.159872e+08</td>\n",
       "    </tr>\n",
       "    <tr>\n",
       "      <th>CNT_CREDIT_PROLONG</th>\n",
       "      <td>1716428.0</td>\n",
       "      <td>6.410406e-03</td>\n",
       "      <td>9.622391e-02</td>\n",
       "      <td>0.000</td>\n",
       "      <td>0.00</td>\n",
       "      <td>0.0</td>\n",
       "      <td>0.00</td>\n",
       "      <td>9.000000e+00</td>\n",
       "    </tr>\n",
       "    <tr>\n",
       "      <th>AMT_CREDIT_SUM</th>\n",
       "      <td>1716415.0</td>\n",
       "      <td>3.549946e+05</td>\n",
       "      <td>1.149811e+06</td>\n",
       "      <td>0.000</td>\n",
       "      <td>51300.00</td>\n",
       "      <td>125518.5</td>\n",
       "      <td>315000.00</td>\n",
       "      <td>5.850000e+08</td>\n",
       "    </tr>\n",
       "    <tr>\n",
       "      <th>AMT_CREDIT_SUM_DEBT</th>\n",
       "      <td>1458759.0</td>\n",
       "      <td>1.370851e+05</td>\n",
       "      <td>6.774011e+05</td>\n",
       "      <td>-4705600.320</td>\n",
       "      <td>0.00</td>\n",
       "      <td>0.0</td>\n",
       "      <td>40153.50</td>\n",
       "      <td>1.701000e+08</td>\n",
       "    </tr>\n",
       "    <tr>\n",
       "      <th>AMT_CREDIT_SUM_LIMIT</th>\n",
       "      <td>1124648.0</td>\n",
       "      <td>6.229515e+03</td>\n",
       "      <td>4.503203e+04</td>\n",
       "      <td>-586406.115</td>\n",
       "      <td>0.00</td>\n",
       "      <td>0.0</td>\n",
       "      <td>0.00</td>\n",
       "      <td>4.705600e+06</td>\n",
       "    </tr>\n",
       "    <tr>\n",
       "      <th>AMT_CREDIT_SUM_OVERDUE</th>\n",
       "      <td>1716428.0</td>\n",
       "      <td>3.791276e+01</td>\n",
       "      <td>5.937650e+03</td>\n",
       "      <td>0.000</td>\n",
       "      <td>0.00</td>\n",
       "      <td>0.0</td>\n",
       "      <td>0.00</td>\n",
       "      <td>3.756681e+06</td>\n",
       "    </tr>\n",
       "    <tr>\n",
       "      <th>DAYS_CREDIT_UPDATE</th>\n",
       "      <td>1716428.0</td>\n",
       "      <td>-5.937483e+02</td>\n",
       "      <td>7.207473e+02</td>\n",
       "      <td>-41947.000</td>\n",
       "      <td>-908.00</td>\n",
       "      <td>-395.0</td>\n",
       "      <td>-33.00</td>\n",
       "      <td>3.720000e+02</td>\n",
       "    </tr>\n",
       "    <tr>\n",
       "      <th>AMT_ANNUITY</th>\n",
       "      <td>489637.0</td>\n",
       "      <td>1.571276e+04</td>\n",
       "      <td>3.258269e+05</td>\n",
       "      <td>0.000</td>\n",
       "      <td>0.00</td>\n",
       "      <td>0.0</td>\n",
       "      <td>13500.00</td>\n",
       "      <td>1.184534e+08</td>\n",
       "    </tr>\n",
       "  </tbody>\n",
       "</table>\n",
       "</div>"
      ],
      "text/plain": [
       "                            count          mean           std          min  \\\n",
       "SK_ID_CURR              1716428.0  2.782149e+05  1.029386e+05   100001.000   \n",
       "SK_ID_BUREAU            1716428.0  5.924434e+06  5.322657e+05  5000000.000   \n",
       "DAYS_CREDIT             1716428.0 -1.142108e+03  7.951649e+02    -2922.000   \n",
       "CREDIT_DAY_OVERDUE      1716428.0  8.181666e-01  3.654443e+01        0.000   \n",
       "DAYS_CREDIT_ENDDATE     1610875.0  5.105173e+02  4.994220e+03   -42060.000   \n",
       "DAYS_ENDDATE_FACT       1082775.0 -1.017437e+03  7.140106e+02   -42023.000   \n",
       "AMT_CREDIT_MAX_OVERDUE   591940.0  3.825418e+03  2.060316e+05        0.000   \n",
       "CNT_CREDIT_PROLONG      1716428.0  6.410406e-03  9.622391e-02        0.000   \n",
       "AMT_CREDIT_SUM          1716415.0  3.549946e+05  1.149811e+06        0.000   \n",
       "AMT_CREDIT_SUM_DEBT     1458759.0  1.370851e+05  6.774011e+05 -4705600.320   \n",
       "AMT_CREDIT_SUM_LIMIT    1124648.0  6.229515e+03  4.503203e+04  -586406.115   \n",
       "AMT_CREDIT_SUM_OVERDUE  1716428.0  3.791276e+01  5.937650e+03        0.000   \n",
       "DAYS_CREDIT_UPDATE      1716428.0 -5.937483e+02  7.207473e+02   -41947.000   \n",
       "AMT_ANNUITY              489637.0  1.571276e+04  3.258269e+05        0.000   \n",
       "\n",
       "                               25%        50%         75%           max  \n",
       "SK_ID_CURR               188866.75   278055.0   367426.00  4.562550e+05  \n",
       "SK_ID_BUREAU            5463953.75  5926303.5  6385681.25  6.843457e+06  \n",
       "DAYS_CREDIT               -1666.00     -987.0     -474.00  0.000000e+00  \n",
       "CREDIT_DAY_OVERDUE            0.00        0.0        0.00  2.792000e+03  \n",
       "DAYS_CREDIT_ENDDATE       -1138.00     -330.0      474.00  3.119900e+04  \n",
       "DAYS_ENDDATE_FACT         -1489.00     -897.0     -425.00  0.000000e+00  \n",
       "AMT_CREDIT_MAX_OVERDUE        0.00        0.0        0.00  1.159872e+08  \n",
       "CNT_CREDIT_PROLONG            0.00        0.0        0.00  9.000000e+00  \n",
       "AMT_CREDIT_SUM            51300.00   125518.5   315000.00  5.850000e+08  \n",
       "AMT_CREDIT_SUM_DEBT           0.00        0.0    40153.50  1.701000e+08  \n",
       "AMT_CREDIT_SUM_LIMIT          0.00        0.0        0.00  4.705600e+06  \n",
       "AMT_CREDIT_SUM_OVERDUE        0.00        0.0        0.00  3.756681e+06  \n",
       "DAYS_CREDIT_UPDATE         -908.00     -395.0      -33.00  3.720000e+02  \n",
       "AMT_ANNUITY                   0.00        0.0    13500.00  1.184534e+08  "
      ]
     },
     "execution_count": 13,
     "metadata": {},
     "output_type": "execute_result"
    }
   ],
   "source": [
    "pd.set_option(\"display.max_rows\", 100)\n",
    "pd.set_option(\"display.max_columns\", 100)\n",
    "\n",
    "bureau.describe().T"
   ]
  },
  {
   "cell_type": "markdown",
   "id": "ffeb688c-a48d-4c4b-a8bd-37987832179e",
   "metadata": {},
   "source": [
    "**Key insights:**\n",
    "\n",
    "Credit timelines: Most credits are old—average DAYS_CREDIT is –1,142 days (~3 years ago), and many have ended (DAYS_ENDDATE_FACT avg –1,017).\n",
    "\n",
    "Debt vs. Credit: AMT_CREDIT_SUM_DEBT and AMT_CREDIT_SUM_LIMIT include negative values—possible data errors or reversed entries, some systems store debts as negative because they represent liabilities.\n",
    "    We will create binary flag and replace negatives with 0 (in case there is some signal)\n",
    "\n",
    "Overdue amounts: Despite a high max (3.76M), CREDIT_DAY_OVERDUE and AMT_CREDIT_SUM_OVERDUE are near-zero for most—suggesting rare delinquency.\n",
    "\n",
    "Prolonged credits: CNT_CREDIT_PROLONG is almost always zero—credit extensions are uncommon.\n"
   ]
  },
  {
   "cell_type": "markdown",
   "id": "99fa9e09-94b0-4090-b731-da8fa0fb3989",
   "metadata": {},
   "source": []
  },
  {
   "cell_type": "markdown",
   "id": "7761c871-75eb-42a9-8cef-d0c91efc0dd2",
   "metadata": {},
   "source": [
    "**Missing values**"
   ]
  },
  {
   "cell_type": "code",
   "execution_count": 14,
   "id": "3c7aa44e-905a-4b72-b7fe-e6df05ede557",
   "metadata": {},
   "outputs": [
    {
     "data": {
      "text/html": [
       "<div>\n",
       "<style scoped>\n",
       "    .dataframe tbody tr th:only-of-type {\n",
       "        vertical-align: middle;\n",
       "    }\n",
       "\n",
       "    .dataframe tbody tr th {\n",
       "        vertical-align: top;\n",
       "    }\n",
       "\n",
       "    .dataframe thead th {\n",
       "        text-align: right;\n",
       "    }\n",
       "</style>\n",
       "<table border=\"1\" class=\"dataframe\">\n",
       "  <thead>\n",
       "    <tr style=\"text-align: right;\">\n",
       "      <th></th>\n",
       "      <th>Missing Count</th>\n",
       "      <th>Missing Count Ratio</th>\n",
       "      <th>Missing Count %</th>\n",
       "    </tr>\n",
       "  </thead>\n",
       "  <tbody>\n",
       "    <tr>\n",
       "      <th>AMT_ANNUITY</th>\n",
       "      <td>1226791</td>\n",
       "      <td>0.714735</td>\n",
       "      <td>71.5</td>\n",
       "    </tr>\n",
       "    <tr>\n",
       "      <th>AMT_CREDIT_MAX_OVERDUE</th>\n",
       "      <td>1124488</td>\n",
       "      <td>0.655133</td>\n",
       "      <td>65.5</td>\n",
       "    </tr>\n",
       "    <tr>\n",
       "      <th>DAYS_ENDDATE_FACT</th>\n",
       "      <td>633653</td>\n",
       "      <td>0.369170</td>\n",
       "      <td>36.9</td>\n",
       "    </tr>\n",
       "    <tr>\n",
       "      <th>AMT_CREDIT_SUM_LIMIT</th>\n",
       "      <td>591780</td>\n",
       "      <td>0.344774</td>\n",
       "      <td>34.5</td>\n",
       "    </tr>\n",
       "    <tr>\n",
       "      <th>AMT_CREDIT_SUM_DEBT</th>\n",
       "      <td>257669</td>\n",
       "      <td>0.150119</td>\n",
       "      <td>15.0</td>\n",
       "    </tr>\n",
       "    <tr>\n",
       "      <th>DAYS_CREDIT_ENDDATE</th>\n",
       "      <td>105553</td>\n",
       "      <td>0.061496</td>\n",
       "      <td>6.1</td>\n",
       "    </tr>\n",
       "    <tr>\n",
       "      <th>AMT_CREDIT_SUM</th>\n",
       "      <td>13</td>\n",
       "      <td>0.000008</td>\n",
       "      <td>0.0</td>\n",
       "    </tr>\n",
       "  </tbody>\n",
       "</table>\n",
       "</div>"
      ],
      "text/plain": [
       "                        Missing Count  Missing Count Ratio  Missing Count %\n",
       "AMT_ANNUITY                   1226791             0.714735             71.5\n",
       "AMT_CREDIT_MAX_OVERDUE        1124488             0.655133             65.5\n",
       "DAYS_ENDDATE_FACT              633653             0.369170             36.9\n",
       "AMT_CREDIT_SUM_LIMIT           591780             0.344774             34.5\n",
       "AMT_CREDIT_SUM_DEBT            257669             0.150119             15.0\n",
       "DAYS_CREDIT_ENDDATE            105553             0.061496              6.1\n",
       "AMT_CREDIT_SUM                     13             0.000008              0.0"
      ]
     },
     "execution_count": 14,
     "metadata": {},
     "output_type": "execute_result"
    }
   ],
   "source": [
    "missing_columns(bureau)"
   ]
  },
  {
   "cell_type": "markdown",
   "id": "5ddb3ccc-9bd2-4eae-8ba0-f3032a6a7532",
   "metadata": {},
   "source": [
    "Some columns has more than 50% missing values."
   ]
  },
  {
   "cell_type": "code",
   "execution_count": 15,
   "id": "ad3ad04c-696c-4bfc-a9f2-30ac388e2f69",
   "metadata": {},
   "outputs": [
    {
     "name": "stdout",
     "output_type": "stream",
     "text": [
      "Missing rows: 1676762 of 1716428 total rows in data set.\n",
      "Missing rows %: 97.69\n"
     ]
    }
   ],
   "source": [
    "calculate_missing_rows(bureau)"
   ]
  },
  {
   "cell_type": "markdown",
   "id": "482fd657-4a1f-4495-9d26-a157aea57f34",
   "metadata": {},
   "source": [
    "There are too many missing values for dropping them, we will use imputation."
   ]
  },
  {
   "cell_type": "markdown",
   "id": "fc828e78-7964-4c8b-b904-664208de7c87",
   "metadata": {},
   "source": []
  },
  {
   "cell_type": "markdown",
   "id": "38544e11-6088-41c6-93e2-2586f609a70c",
   "metadata": {},
   "source": [
    "**Checking for duplicates.**"
   ]
  },
  {
   "cell_type": "code",
   "execution_count": 16,
   "id": "f4892523-3970-4d18-a0c8-6ca528a64f0a",
   "metadata": {},
   "outputs": [
    {
     "name": "stdout",
     "output_type": "stream",
     "text": [
      "Duplicates: 0, 0.00%\n"
     ]
    }
   ],
   "source": [
    "print(\n",
    "    f\"Duplicates: {bureau.duplicated().sum()}, {(bureau.duplicated().sum() / len(bureau) * 100):.2f}%\"\n",
    ")"
   ]
  },
  {
   "cell_type": "markdown",
   "id": "2c6cf141-eafd-45d1-9d74-56f1a5d28f16",
   "metadata": {},
   "source": [
    "No duplicates in bureau dataset."
   ]
  },
  {
   "cell_type": "markdown",
   "id": "819282a5-a4b0-4d20-be82-7d9ca81b04be",
   "metadata": {},
   "source": []
  },
  {
   "cell_type": "markdown",
   "id": "0a0fc78b-1775-445b-8ccc-9a93e3f8c7d1",
   "metadata": {},
   "source": [
    "**Sweetviz report**\n",
    "\n",
    "We can find the report in EDA folder."
   ]
  },
  {
   "cell_type": "code",
   "execution_count": null,
   "id": "8e56afc4-e5ba-402d-a96f-85edb70ceb79",
   "metadata": {
    "scrolled": true
   },
   "outputs": [],
   "source": [
    "report = sv.analyze(df)\n",
    "html_file = f\"Bureau_sweetviz_report.html\"\n",
    "report.show_html(html_file)\n",
    "#display(IFrame(html_file, width=950, height=600))"
   ]
  },
  {
   "cell_type": "markdown",
   "id": "947fc1d6-887e-483e-b1fa-cbd1cb6374ec",
   "metadata": {},
   "source": []
  },
  {
   "cell_type": "markdown",
   "id": "23dda10b-6f3e-49ff-821f-f9a95f60c0c5",
   "metadata": {},
   "source": [
    "**Creating Ydata report**\n",
    "\n",
    "We can find the report in EDA folder."
   ]
  },
  {
   "cell_type": "code",
   "execution_count": null,
   "id": "a93b10d1-229e-45c9-8733-957d6b46644f",
   "metadata": {
    "scrolled": true
   },
   "outputs": [],
   "source": [
    "profile = ProfileReport(df, title=\"Bureau_ydata EDA\", explorative=True)\n",
    "\n",
    "profile.to_file(\"Bureau_ydata_EDA.html\")"
   ]
  },
  {
   "cell_type": "markdown",
   "id": "5a6eb96d-a0d9-45c5-afbe-24d0403e6074",
   "metadata": {},
   "source": []
  },
  {
   "cell_type": "markdown",
   "id": "41e134cf-5297-4e3f-8c68-3c8d769de548",
   "metadata": {},
   "source": [
    "### C. Feature analysis bureau"
   ]
  },
  {
   "cell_type": "markdown",
   "id": "eb5cc77c-e47a-4e76-9cb9-c2a08fcebcc8",
   "metadata": {},
   "source": [
    "    CREDIT_ACTIVE - Status of the Credit Bureau (CB) reported credits"
   ]
  },
  {
   "cell_type": "markdown",
   "id": "f8995db3-911d-4c34-9d55-3493b360fb72",
   "metadata": {},
   "source": [
    "Categorical. No missing values.\n",
    "\n",
    "Distribution is imbalanced: Closed - 62.9%, Active - 36.7%, Sold - 0.4%, Bad debt <0.1%. No anomalies.\n",
    "\n",
    "Flags for Credit Status (could be important categorical information about bad credits):\n",
    "\n",
    "    - HAS_ACTIVE_CREDIT\n",
    "    - HAS_CLOSED_CREDIT\n",
    "    - HAS_BAD_CREDIT (\"Sold\" or \"Bad debt\")\n"
   ]
  },
  {
   "cell_type": "markdown",
   "id": "bd7176de-70e1-49ca-9d23-3e08f56b66d1",
   "metadata": {},
   "source": []
  },
  {
   "cell_type": "markdown",
   "id": "de2030b6-19ef-4af2-b365-5472efa89781",
   "metadata": {},
   "source": [
    "    CREDIT_CURRENCY - Recoded currency of the Credit Bureau credit,recoded"
   ]
  },
  {
   "attachments": {},
   "cell_type": "markdown",
   "id": "762b5db5-346c-43bc-9460-052edb558e4d",
   "metadata": {},
   "source": [
    "Categorical. No missing values.\n",
    "\n",
    "Distribution is imbalanced: currency 1 - 99.9%.\n",
    "\n",
    "No anomalies. Propably not useful."
   ]
  },
  {
   "cell_type": "markdown",
   "id": "46e4bb54-a85c-40d8-96d6-9c510f9da340",
   "metadata": {},
   "source": []
  },
  {
   "cell_type": "markdown",
   "id": "38d5d6da-05d5-4fd4-ab99-0d7558b87e6e",
   "metadata": {},
   "source": [
    "    DAYS_CREDIT - How many days before current application did client apply for Credit Bureau credit,time only relative to the application"
   ]
  },
  {
   "cell_type": "markdown",
   "id": "818890ad-2129-44cf-80a1-4d721774ac01",
   "metadata": {},
   "source": [
    "High correlation with DAYS_ENDDATE_FACT, DAYS_CREDIT_UPDATE.\n",
    "\n",
    "Numerical. No missing values.\n",
    "\n",
    "Distribution left skewed.\n",
    "\n",
    "Minimun 2922, maximum 0 days. No anomalies.\n",
    "\n",
    "    - Will be converted to years."
   ]
  },
  {
   "cell_type": "markdown",
   "id": "c7765f6e-02ea-41fd-984f-98f3b5156646",
   "metadata": {},
   "source": []
  },
  {
   "cell_type": "markdown",
   "id": "8005aa53-0200-4496-bf47-5677bf912b9d",
   "metadata": {},
   "source": [
    "    CREDIT_DAY_OVERDUE - Number of days past due on CB credit at the time of application for related loan in our sample"
   ]
  },
  {
   "cell_type": "markdown",
   "id": "1a99ae53-1066-40c7-becb-a39d76f8fd86",
   "metadata": {},
   "source": [
    "Numerical. No missing values.\n",
    "\n",
    "Maximum 2792 days. 99.8% zeros.\n",
    "\n",
    "    - To ensure a consistent naming convention, we will change the feature's name to DAYS_CREDIT_OVERDUE for a more robust conversion to YEARS."
   ]
  },
  {
   "cell_type": "markdown",
   "id": "79aa9503-2de8-4e35-a32f-75ebae449b71",
   "metadata": {},
   "source": []
  },
  {
   "cell_type": "markdown",
   "id": "d2579abf-c82d-4395-b381-63e150b86cc5",
   "metadata": {},
   "source": [
    "    DAYS_CREDIT_ENDDATE - Remaining duration of CB credit (in days) at the time of application in Home Credit,time only relative to the application"
   ]
  },
  {
   "cell_type": "markdown",
   "id": "af261282-cc35-4da8-8702-3cf44c3d0c70",
   "metadata": {},
   "source": [
    "Weak correlation with DAYS_CREDIT, DAYS_ENDDATE_FACT, DAYS_CREDIT_UPDATE.\n",
    "\n",
    "Numerical, 6.1% missing values.\n",
    "\n",
    "Minimum -42060 days (115,23 years), maximum 31199 days (85,48 years). Anomalies.\n",
    "\n",
    "    - Will need to fix anomalies\n",
    "    - Will be converted to years.\n",
    "    - Total duration of the credit feature: CREDIT_ENDDATE_PROXIMITY = YEARS_CREDIT_ENDDATE - YEARS_CREDIT\n"
   ]
  },
  {
   "cell_type": "markdown",
   "id": "42eebe2c-8ea8-48be-87d5-1f87906b1494",
   "metadata": {},
   "source": []
  },
  {
   "cell_type": "markdown",
   "id": "49decc2d-9f4a-4b6b-bebd-5466103c1418",
   "metadata": {},
   "source": [
    "    DAYS_ENDDATE_FACT- Days since CB credit ended at the time of application in Home Credit (only for closed credit),time only relative to the application"
   ]
  },
  {
   "cell_type": "markdown",
   "id": "d5c9e9b0-8017-4ca9-9f15-d07e1028be6d",
   "metadata": {},
   "source": [
    "High correlation with DAYS_CREDIT, DAYS_CREDIT_UPDATE, weak DAYS_CREDIT_ENDDATE,\n",
    "\n",
    "Numerical, 36.9% missing values.\n",
    "\n",
    "Minimum -42023 (115,13 years), maximum 0. Anomalies.\n",
    "    \n",
    "    - Will need to fix anomalies\n",
    "    - Will be converted to years."
   ]
  },
  {
   "cell_type": "markdown",
   "id": "d6fc3ab2-58dd-4631-b6f9-210f735954e6",
   "metadata": {},
   "source": []
  },
  {
   "cell_type": "markdown",
   "id": "a0743c05-b7cc-43c4-9fe5-b741617a9b77",
   "metadata": {},
   "source": [
    "    AMT_CREDIT_MAX_OVERDUE - Maximal amount overdue on the Credit Bureau credit so far (at application date of loan in our sample)"
   ]
  },
  {
   "cell_type": "markdown",
   "id": "f5feeb11-391f-4188-8b6b-d4b50c72d8be",
   "metadata": {},
   "source": [
    "Numerical, 65.5% missing values.\n",
    "\n",
    "27.4% zeros, other 7.1%. Right skewed.\n",
    "\n",
    "Maximum 115,987,185. Very high number, but there is no information about the currency. This big value are not single, top 10 - 10,861,812."
   ]
  },
  {
   "cell_type": "markdown",
   "id": "5122d5e7-b368-4396-a4cc-3be767c5cf00",
   "metadata": {},
   "source": []
  },
  {
   "cell_type": "markdown",
   "id": "4d717db6-9fc3-4ce7-b1f0-ff5549740c45",
   "metadata": {},
   "source": [
    "    CNT_CREDIT_PROLONG - How many times was the Credit Bureau credit prolonged"
   ]
  },
  {
   "cell_type": "markdown",
   "id": "bd3105ec-85af-4043-aa9e-90f648e415ba",
   "metadata": {},
   "source": [
    "Numerical, no missing values.\n",
    "\n",
    "99.5% zeros. Maximum 9."
   ]
  },
  {
   "cell_type": "markdown",
   "id": "7f855583-6288-45a9-bff4-bb0f8087afff",
   "metadata": {},
   "source": []
  },
  {
   "cell_type": "markdown",
   "id": "3bd51c05-9ee1-4ae6-b468-9095d8ac51cc",
   "metadata": {},
   "source": [
    "    AMT_CREDIT_SUM - Current credit amount for the Credit Bureau credit"
   ]
  },
  {
   "cell_type": "markdown",
   "id": "bc7585a0-64b8-4009-93a6-712c73985a4e",
   "metadata": {},
   "source": [
    "High correlation with AMT_CREDIT_SUM_DEBT.\n",
    "\n",
    "Numerical, <0.1% missing values.\n",
    "\n",
    "3.9% zeros. Maximum 585,000,000."
   ]
  },
  {
   "cell_type": "markdown",
   "id": "f2a56dc5-bb0a-4d15-9eab-1905421f8119",
   "metadata": {},
   "source": []
  },
  {
   "cell_type": "markdown",
   "id": "c53616a5-613d-4635-b41a-70a7f4f4f05f",
   "metadata": {},
   "source": [
    "    AMT_CREDIT_SUM_DEBT - Current debt on Credit Bureau credit"
   ]
  },
  {
   "cell_type": "markdown",
   "id": "31bed14d-1b97-40ea-ac24-452262180c87",
   "metadata": {},
   "source": [
    "High correlation with DAYS_CREDIT_ENDDATE, DAYS_CREDIT_UPDATE.\n",
    "\n",
    "Numerical, 15.0% missing values. 59.2% zeros. \n",
    "\n",
    "Minimum\t-4,705,600.3, Maximum 170,100,000.\n",
    "\n",
    "    - Flag for values < 0 and replace negatives with 0.\n",
    "    - Credit utilization feature - AMT_CREDIT_SUM_DEBT / AMT_CREDIT_SUM\n"
   ]
  },
  {
   "cell_type": "markdown",
   "id": "176541b1-7730-47a6-bb9a-5468f7c0bb31",
   "metadata": {},
   "source": []
  },
  {
   "cell_type": "markdown",
   "id": "2bc91d31-403e-4bc4-9018-72acaf773254",
   "metadata": {},
   "source": [
    "    AMT_CREDIT_SUM_LIMIT - Current credit limit of credit card reported in Credit Bureau"
   ]
  },
  {
   "cell_type": "markdown",
   "id": "5f6e5139-4dfa-4cdd-b3af-852d41c540ad",
   "metadata": {},
   "source": [
    "Numerical, 34.5% missing values, 61.2% zeros. \n",
    "\n",
    "Minimum\t-586,406.11, Maximum 4,705,600.3\n",
    "\n",
    "    - Flag for values < 0 and replace negatives with 0."
   ]
  },
  {
   "cell_type": "markdown",
   "id": "73b51ed7-687b-4fa9-9e09-a2f3ea7ac5af",
   "metadata": {},
   "source": []
  },
  {
   "cell_type": "markdown",
   "id": "3b950728-e11b-43a4-901b-73b5232c34e5",
   "metadata": {},
   "source": [
    "    AMT_CREDIT_SUM_OVERDUE - Current amount overdue on Credit Bureau credit"
   ]
  },
  {
   "cell_type": "markdown",
   "id": "bf86d5c8-8146-4b73-897b-ce30891efcc3",
   "metadata": {},
   "source": [
    "Numerical, no missing values, 99,8% zeros.\n",
    "\n",
    "Minimum\t0, Maximum 3,756,681.\n",
    "\n",
    "     Feature engineering:\n",
    "     - HAS_ANY_OVERDUE_DEBT, where AMT_CREDIT_SUM_OVERDUE > 0,\n",
    "     - HAS_SIGNIFICANT_OVERDUE_DEBT, where AMT_CREDIT_SUM_OVERDUE > 1000\n",
    "     - HAS_ANY_MAJOR_BUREAU_RISK = HAS_ANY_OVERDUE_DEBT > 0 or HAS_SIGNIFICANT_OVERDUE_DEBT > 0"
   ]
  },
  {
   "cell_type": "raw",
   "id": "700854a1-6251-47b8-a7c5-57004111cea7",
   "metadata": {},
   "source": []
  },
  {
   "cell_type": "markdown",
   "id": "4aa29285-db56-4a53-95da-95ccbeef7b90",
   "metadata": {},
   "source": [
    "    CREDIT_TYPE - Type of Credit Bureau credit (Car, cash,...)"
   ]
  },
  {
   "cell_type": "markdown",
   "id": "d4929fba-c600-4a20-b5cb-03c6f780ad94",
   "metadata": {},
   "source": [
    "Categorical, no missing values, 15 distinct\tvalues.\n",
    "\n",
    "Distribution is imbalanced: Consumer credit - 72.9%, Credit card - 23.4% (cover 96,3%)"
   ]
  },
  {
   "cell_type": "raw",
   "id": "e396056e-0128-4db6-8909-10552f710587",
   "metadata": {},
   "source": []
  },
  {
   "cell_type": "markdown",
   "id": "8fdaed99-6c2f-4cb9-bd85-be146143cdc3",
   "metadata": {},
   "source": [
    "    DAYS_CREDIT_UPDATE - How many days before loan application did last information about the Credit Bureau credit come,time only relative to the application"
   ]
  },
  {
   "cell_type": "markdown",
   "id": "62206ab7-ac27-43da-bb00-d2efe0415892",
   "metadata": {},
   "source": [
    "High correlation with DAYS_CREDIT, DAYS_ENDDATE_FACT, weak DAYS_CREDIT_ENDDATE.\n",
    "\n",
    "Numerical, no missing values.\n",
    "\n",
    "Minimum\t-41,947 days (114.92 years), Maximum 372 days. Anomalies.\n",
    "    \n",
    "    - Will need to fix anomalies\n",
    "    - Will be converted to years.\n"
   ]
  },
  {
   "cell_type": "markdown",
   "id": "b7f7f37f-92b6-424a-a1c8-c72a1c419971",
   "metadata": {},
   "source": []
  },
  {
   "cell_type": "markdown",
   "id": "f346463b-1884-42bb-ad8a-59475a559b8d",
   "metadata": {},
   "source": [
    "    AMT_ANNUITY - Annuity of the Credit Bureau credit"
   ]
  },
  {
   "cell_type": "markdown",
   "id": "f3fbcae6-8104-44b4-a0cc-08e2ce8dcbe9",
   "metadata": {},
   "source": [
    "Numerical, 71.5% missing values, 15.0% zeros.\n",
    "\n",
    "Minimum\t0, Maximum 118,453,423.5. High number, but not single, top 10 - 33,784,668.\n"
   ]
  },
  {
   "cell_type": "markdown",
   "id": "a3c8b9d0-86d2-4a30-91bc-de461ccc7618",
   "metadata": {},
   "source": []
  },
  {
   "cell_type": "markdown",
   "id": "2d98d720-5139-4886-8de2-996a0c8c4b34",
   "metadata": {},
   "source": [
    "### Correlation"
   ]
  },
  {
   "cell_type": "markdown",
   "id": "0f952a17-e47d-442e-93c1-493a1410d33f",
   "metadata": {},
   "source": [
    "We will analyze the relationships between features using a Ydata-Quality report. This report will provide a comprehensive overview of our data, including an automated correlation matrix for all features.\n",
    "\n",
    "To determine which features are most impactful for our model, we will use a more robust method: LightGBM's feature importance. After aggregating the columns from specific datasets into our main dataset, the LightGBM model will automatically calculate the importance of each feature in predicting the target variable. This approach is superior as it directly assesses a feature's predictive power within the context of our chosen model, providing a more reliable measure of its relationship with the target."
   ]
  },
  {
   "cell_type": "markdown",
   "id": "61148c3a-cd3c-4d38-a15e-759cbb8c1daa",
   "metadata": {},
   "source": [
    "**Feature Relationships**"
   ]
  },
  {
   "cell_type": "markdown",
   "id": "392ff6f4-9834-4c9e-b45e-3377c99b6b88",
   "metadata": {},
   "source": [
    "4 features has high correlation:\n",
    "    \n",
    "    DAYS_CREDIT and DAYS_CREDIT_ENDDATE, DAYS_CREDIT_UPDATE, DAYS_ENDDATE_FACT.\n",
    "    "
   ]
  },
  {
   "cell_type": "markdown",
   "id": "9d06b163-5f04-4884-a729-17c9cc7965a3",
   "metadata": {},
   "source": []
  },
  {
   "cell_type": "markdown",
   "id": "4abb12ee-8489-4778-8938-f5dd6ec28e2b",
   "metadata": {},
   "source": [
    "### D. Bureau balance dataset"
   ]
  },
  {
   "cell_type": "code",
   "execution_count": 23,
   "id": "218699ba-dd9e-4468-a093-d19d5c4bb9a5",
   "metadata": {},
   "outputs": [
    {
     "data": {
      "text/html": [
       "<div>\n",
       "<style scoped>\n",
       "    .dataframe tbody tr th:only-of-type {\n",
       "        vertical-align: middle;\n",
       "    }\n",
       "\n",
       "    .dataframe tbody tr th {\n",
       "        vertical-align: top;\n",
       "    }\n",
       "\n",
       "    .dataframe thead th {\n",
       "        text-align: right;\n",
       "    }\n",
       "</style>\n",
       "<table border=\"1\" class=\"dataframe\">\n",
       "  <thead>\n",
       "    <tr style=\"text-align: right;\">\n",
       "      <th></th>\n",
       "      <th>SK_ID_BUREAU</th>\n",
       "      <th>MONTHS_BALANCE</th>\n",
       "      <th>STATUS</th>\n",
       "    </tr>\n",
       "  </thead>\n",
       "  <tbody>\n",
       "    <tr>\n",
       "      <th>0</th>\n",
       "      <td>5715448</td>\n",
       "      <td>0</td>\n",
       "      <td>C</td>\n",
       "    </tr>\n",
       "    <tr>\n",
       "      <th>1</th>\n",
       "      <td>5715448</td>\n",
       "      <td>-1</td>\n",
       "      <td>C</td>\n",
       "    </tr>\n",
       "    <tr>\n",
       "      <th>2</th>\n",
       "      <td>5715448</td>\n",
       "      <td>-2</td>\n",
       "      <td>C</td>\n",
       "    </tr>\n",
       "    <tr>\n",
       "      <th>3</th>\n",
       "      <td>5715448</td>\n",
       "      <td>-3</td>\n",
       "      <td>C</td>\n",
       "    </tr>\n",
       "    <tr>\n",
       "      <th>4</th>\n",
       "      <td>5715448</td>\n",
       "      <td>-4</td>\n",
       "      <td>C</td>\n",
       "    </tr>\n",
       "  </tbody>\n",
       "</table>\n",
       "</div>"
      ],
      "text/plain": [
       "   SK_ID_BUREAU  MONTHS_BALANCE STATUS\n",
       "0       5715448               0      C\n",
       "1       5715448              -1      C\n",
       "2       5715448              -2      C\n",
       "3       5715448              -3      C\n",
       "4       5715448              -4      C"
      ]
     },
     "execution_count": 23,
     "metadata": {},
     "output_type": "execute_result"
    }
   ],
   "source": [
    "bureau_balance.head()"
   ]
  },
  {
   "cell_type": "code",
   "execution_count": 24,
   "id": "8da5e363-b98d-4910-ba00-dac7921ebf9e",
   "metadata": {},
   "outputs": [
    {
     "name": "stdout",
     "output_type": "stream",
     "text": [
      "<class 'pandas.core.frame.DataFrame'>\n",
      "RangeIndex: 27299925 entries, 0 to 27299924\n",
      "Data columns (total 3 columns):\n",
      " #   Column          Dtype \n",
      "---  ------          ----- \n",
      " 0   SK_ID_BUREAU    int32 \n",
      " 1   MONTHS_BALANCE  int8  \n",
      " 2   STATUS          object\n",
      "dtypes: int32(1), int8(1), object(1)\n",
      "memory usage: 338.5+ MB\n"
     ]
    }
   ],
   "source": [
    "bureau_balance.info()"
   ]
  },
  {
   "cell_type": "markdown",
   "id": "859fbfd9-5d51-471d-a13b-c746aac47f5d",
   "metadata": {},
   "source": []
  },
  {
   "attachments": {},
   "cell_type": "markdown",
   "id": "6e240674-3359-4d17-8b34-938a357380b1",
   "metadata": {},
   "source": [
    "**Feature descriptions:**\n",
    "\n",
    "    1. SK_BUREAU_ID,Recoded ID of Credit Bureau credit (unique coding for each application) - use this to join to CREDIT_BUREAU table ,hashed\n",
    "\n",
    "    2. MONTHS_BALANCE,Month of balance relative to application date (-1 means the freshest balance date),time only relative to the application\n",
    "    \n",
    "    3. STATUS,\"Status of Credit Bureau loan during the month (active, closed, DPD0-30,…"
   ]
  },
  {
   "cell_type": "markdown",
   "id": "2b2c8f06-5e69-42a9-9213-8f82b9383010",
   "metadata": {},
   "source": [
    "**Feature types**"
   ]
  },
  {
   "cell_type": "code",
   "execution_count": 25,
   "id": "69e0a3a0-f37e-442e-9b5e-c253432d4ea0",
   "metadata": {},
   "outputs": [
    {
     "name": "stdout",
     "output_type": "stream",
     "text": [
      "Numerical features: ['SK_ID_BUREAU', 'MONTHS_BALANCE']\n",
      "Categorical features: ['STATUS']\n",
      "Binary features: []\n"
     ]
    }
   ],
   "source": [
    "feature_types(bureau_balance)"
   ]
  },
  {
   "cell_type": "markdown",
   "id": "f4a25627-05e1-4036-b656-e4a8671d232d",
   "metadata": {},
   "source": []
  },
  {
   "cell_type": "code",
   "execution_count": 26,
   "id": "0e40ccfa-078e-451b-8edb-fc5580f2763e",
   "metadata": {},
   "outputs": [
    {
     "data": {
      "text/html": [
       "<div>\n",
       "<style scoped>\n",
       "    .dataframe tbody tr th:only-of-type {\n",
       "        vertical-align: middle;\n",
       "    }\n",
       "\n",
       "    .dataframe tbody tr th {\n",
       "        vertical-align: top;\n",
       "    }\n",
       "\n",
       "    .dataframe thead th {\n",
       "        text-align: right;\n",
       "    }\n",
       "</style>\n",
       "<table border=\"1\" class=\"dataframe\">\n",
       "  <thead>\n",
       "    <tr style=\"text-align: right;\">\n",
       "      <th></th>\n",
       "      <th>SK_ID_BUREAU</th>\n",
       "      <th>MONTHS_BALANCE</th>\n",
       "    </tr>\n",
       "  </thead>\n",
       "  <tbody>\n",
       "    <tr>\n",
       "      <th>count</th>\n",
       "      <td>2.729992e+07</td>\n",
       "      <td>2.729992e+07</td>\n",
       "    </tr>\n",
       "    <tr>\n",
       "      <th>mean</th>\n",
       "      <td>6.036297e+06</td>\n",
       "      <td>-3.074169e+01</td>\n",
       "    </tr>\n",
       "    <tr>\n",
       "      <th>std</th>\n",
       "      <td>4.923489e+05</td>\n",
       "      <td>2.386451e+01</td>\n",
       "    </tr>\n",
       "    <tr>\n",
       "      <th>min</th>\n",
       "      <td>5.001709e+06</td>\n",
       "      <td>-9.600000e+01</td>\n",
       "    </tr>\n",
       "    <tr>\n",
       "      <th>25%</th>\n",
       "      <td>5.730933e+06</td>\n",
       "      <td>-4.600000e+01</td>\n",
       "    </tr>\n",
       "    <tr>\n",
       "      <th>50%</th>\n",
       "      <td>6.070821e+06</td>\n",
       "      <td>-2.500000e+01</td>\n",
       "    </tr>\n",
       "    <tr>\n",
       "      <th>75%</th>\n",
       "      <td>6.431951e+06</td>\n",
       "      <td>-1.100000e+01</td>\n",
       "    </tr>\n",
       "    <tr>\n",
       "      <th>max</th>\n",
       "      <td>6.842888e+06</td>\n",
       "      <td>0.000000e+00</td>\n",
       "    </tr>\n",
       "  </tbody>\n",
       "</table>\n",
       "</div>"
      ],
      "text/plain": [
       "       SK_ID_BUREAU  MONTHS_BALANCE\n",
       "count  2.729992e+07    2.729992e+07\n",
       "mean   6.036297e+06   -3.074169e+01\n",
       "std    4.923489e+05    2.386451e+01\n",
       "min    5.001709e+06   -9.600000e+01\n",
       "25%    5.730933e+06   -4.600000e+01\n",
       "50%    6.070821e+06   -2.500000e+01\n",
       "75%    6.431951e+06   -1.100000e+01\n",
       "max    6.842888e+06    0.000000e+00"
      ]
     },
     "execution_count": 26,
     "metadata": {},
     "output_type": "execute_result"
    }
   ],
   "source": [
    "bureau_balance.describe()"
   ]
  },
  {
   "cell_type": "markdown",
   "id": "c4ee9506-efdc-405a-b91e-38f3f41f4351",
   "metadata": {},
   "source": [
    "MONTHS_BALANCE: a median of –25 months—meaning most records are from about 2 years ago."
   ]
  },
  {
   "cell_type": "markdown",
   "id": "9b3a6f44-feb0-4a22-a636-31592fa01fa6",
   "metadata": {},
   "source": []
  },
  {
   "cell_type": "markdown",
   "id": "f5711a06-0c83-43a7-ae18-be356c9b6012",
   "metadata": {},
   "source": [
    "**Missing values**"
   ]
  },
  {
   "cell_type": "code",
   "execution_count": 27,
   "id": "5a802666-b1fc-4c51-83b2-a252689e5616",
   "metadata": {},
   "outputs": [
    {
     "data": {
      "text/html": [
       "<div>\n",
       "<style scoped>\n",
       "    .dataframe tbody tr th:only-of-type {\n",
       "        vertical-align: middle;\n",
       "    }\n",
       "\n",
       "    .dataframe tbody tr th {\n",
       "        vertical-align: top;\n",
       "    }\n",
       "\n",
       "    .dataframe thead th {\n",
       "        text-align: right;\n",
       "    }\n",
       "</style>\n",
       "<table border=\"1\" class=\"dataframe\">\n",
       "  <thead>\n",
       "    <tr style=\"text-align: right;\">\n",
       "      <th></th>\n",
       "      <th>Missing Count</th>\n",
       "      <th>Missing Count Ratio</th>\n",
       "      <th>Missing Count %</th>\n",
       "    </tr>\n",
       "  </thead>\n",
       "  <tbody>\n",
       "  </tbody>\n",
       "</table>\n",
       "</div>"
      ],
      "text/plain": [
       "Empty DataFrame\n",
       "Columns: [Missing Count, Missing Count Ratio, Missing Count %]\n",
       "Index: []"
      ]
     },
     "execution_count": 27,
     "metadata": {},
     "output_type": "execute_result"
    }
   ],
   "source": [
    "missing_columns(bureau_balance)"
   ]
  },
  {
   "cell_type": "code",
   "execution_count": 28,
   "id": "899a48a1-459a-4508-8a3b-b98ceec86f6c",
   "metadata": {},
   "outputs": [
    {
     "name": "stdout",
     "output_type": "stream",
     "text": [
      "Missing rows: 0 of 27299925 total rows in data set.\n",
      "Missing rows %: 0.00\n"
     ]
    }
   ],
   "source": [
    "calculate_missing_rows(bureau_balance)"
   ]
  },
  {
   "cell_type": "markdown",
   "id": "1214c5a6-5124-42be-98e1-9ca214e28c38",
   "metadata": {},
   "source": [
    "No missing values in bureau_balance."
   ]
  },
  {
   "cell_type": "markdown",
   "id": "315a977f-e64d-4cdc-a48b-1655b0e6e9dc",
   "metadata": {},
   "source": []
  },
  {
   "cell_type": "markdown",
   "id": "c8237de2-afd0-42f8-9850-d5fb6c6c0fc8",
   "metadata": {},
   "source": [
    "**Checking for duplicates.**"
   ]
  },
  {
   "cell_type": "code",
   "execution_count": 29,
   "id": "808ae00a-08cb-4e15-8f2c-69d02cc60c0e",
   "metadata": {},
   "outputs": [
    {
     "name": "stdout",
     "output_type": "stream",
     "text": [
      "Duplicates: 0, 0.00%\n"
     ]
    }
   ],
   "source": [
    "print(\n",
    "    f\"Duplicates: {bureau_balance.duplicated().sum()}, {(bureau_balance.duplicated().sum() / len(bureau_balance) * 100):.2f}%\"\n",
    ")"
   ]
  },
  {
   "cell_type": "markdown",
   "id": "2fe97d1f-7b4d-482c-9639-043baa4caf24",
   "metadata": {},
   "source": [
    "No duplicates in this dataset."
   ]
  },
  {
   "cell_type": "markdown",
   "id": "7fce5573-047c-467d-a60d-bde89dd05205",
   "metadata": {},
   "source": []
  },
  {
   "cell_type": "markdown",
   "id": "41b9d6f3-5270-4c24-a8ec-e0c550a5f9d9",
   "metadata": {},
   "source": [
    "**Sweetviz report**\n",
    "\n",
    "We can find the report in EDA folder."
   ]
  },
  {
   "cell_type": "code",
   "execution_count": null,
   "id": "9986ca12-bf0c-4f3c-824e-b6bad125f158",
   "metadata": {},
   "outputs": [],
   "source": [
    "report = sv.analyze(bureau_balance)\n",
    "html_file = f\"bureau_balance_sweetviz_report.html\"\n",
    "report.show_html(html_file)\n",
    "#display(IFrame(html_file, width=950, height=600))"
   ]
  },
  {
   "cell_type": "markdown",
   "id": "a1c27f06-07c1-4bc4-bde2-46cc879b7be2",
   "metadata": {},
   "source": []
  },
  {
   "cell_type": "markdown",
   "id": "27f0bc3e-5688-40c3-a495-02971d19e19d",
   "metadata": {},
   "source": [
    "**Creating Ydata report**\n",
    "\n",
    "We can find the report in EDA folder."
   ]
  },
  {
   "cell_type": "code",
   "execution_count": null,
   "id": "1eb144b0-7ae5-4ddf-a1c1-8047089d56a1",
   "metadata": {
    "scrolled": true
   },
   "outputs": [],
   "source": [
    "profile = ProfileReport(bureau_balance, title=\"Bureau Balance EDA\", explorative=True)\n",
    "\n",
    "profile.to_file(\"bureau_balance_EDA.html\")"
   ]
  },
  {
   "cell_type": "markdown",
   "id": "d2788696-d583-4044-9636-430d2b4125f9",
   "metadata": {},
   "source": []
  },
  {
   "cell_type": "markdown",
   "id": "7c8c5b3a-990f-47d3-bcfe-8495252b4b23",
   "metadata": {},
   "source": [
    "### E. Feature analysis Bureau balance "
   ]
  },
  {
   "cell_type": "markdown",
   "id": "0921ad23-8c14-4ee2-add9-4a6001c053e5",
   "metadata": {},
   "source": [
    "    MONTHS_BALANCE - Month of balance relative to application date (-1 means the freshest balance date),time only relative to the application"
   ]
  },
  {
   "cell_type": "markdown",
   "id": "3c3aecd8-5c33-4b70-b336-7f1a8f80c1be",
   "metadata": {},
   "source": [
    "Numerical, no missing values, 2.2% zeros.\n",
    "\n",
    "Minimum\t-96 month (8 years), Maximum 0.\n",
    "\n",
    "Distribution left skewed. Median -25, mean, -30.7. No anomalies."
   ]
  },
  {
   "cell_type": "markdown",
   "id": "d008df6e-c9c2-41e8-9e8a-4df698813168",
   "metadata": {},
   "source": []
  },
  {
   "cell_type": "markdown",
   "id": "8abfab35-7275-4ca7-97c3-5721e4128989",
   "metadata": {},
   "source": [
    "    STATUS - Status of Credit Bureau loan during the month (active, closed, DPD0-30,… [C means closed, X means status unknown, 0 means no DPD, 1 means maximal did during month between 1-30, 2 means DPD 31-60,… 5 means DPD 120+ or sold or written off ] )\","
   ]
  },
  {
   "cell_type": "markdown",
   "id": "ccc9eca0-5610-4ee9-a53a-ab14e9299962",
   "metadata": {},
   "source": [
    "Categorical, 8 distinct values, no missing values. \n",
    "\n",
    "Imbalanced distribution: C - 50.0%,  0 - 27.5%, X - 21.3%, 1 - 0.9%. No anomalies.\n",
    "\n",
    "    Will create status_map for categories:\n",
    "        \"C\": 0,  closed (good)\n",
    "        \"X\": 0,  unknown/No History (treat as neutral)\n",
    "        \"0\": 0,  no DPD (good)\n",
    "        \"1\": 1,  DPD 1-30 days (mild bad)\n",
    "        \"2\": 2,  DPD 31-60 days (bad)\n",
    "        \"3\": 3,  DPD 61-90 days (severe)\n",
    "        \"4\": 4,  DPD 91-120 days (very severe)\n",
    "        \"5\": 5,  DPD 120+ or written off (worst)\n",
    "\n",
    "    Feature engineering:\n",
    "        WAS_SEVERELY_DELINQUENT >= 3 (critical status)\n",
    "        WAS_WRITTEN_OFF = 5\n",
    "\n",
    "We will need to join this back to bureau.csv per SK_ID_BUREAU first, then aggregate to SK_ID_CURR."
   ]
  },
  {
   "cell_type": "markdown",
   "id": "b3e8db65-c771-41a5-903e-b60743826ff2",
   "metadata": {},
   "source": []
  },
  {
   "cell_type": "markdown",
   "id": "9e333977-9369-4c96-96fe-509b7c3e4f8f",
   "metadata": {},
   "source": [
    "### Correlation"
   ]
  },
  {
   "cell_type": "markdown",
   "id": "45c011b9-3c43-4b71-b685-cc0a5c336416",
   "metadata": {},
   "source": [
    "There is no noticeable correlations between features (Ydata report)\n",
    "\n",
    "After aggregating the columns from dataset, we will use a more robust method: LightGBM's feature importance, to determine a feature's predictive power."
   ]
  },
  {
   "cell_type": "markdown",
   "id": "0ce50c24-6fbc-4774-bf9a-c61157f9907c",
   "metadata": {},
   "source": []
  },
  {
   "cell_type": "markdown",
   "id": "ff3c575e-d0c1-4508-88e8-2b1242a6d258",
   "metadata": {},
   "source": [
    "## 3. Summary"
   ]
  },
  {
   "cell_type": "markdown",
   "id": "60c2748b-858e-4e5f-be68-08955c87bcf2",
   "metadata": {},
   "source": [
    "**Key EDA findings for bureau:**\n",
    "\n",
    "    - Total features: 17 (numeric 14, categorical 3), rows: ~ 1.7M,\n",
    "\n",
    "    - Missing cells (%)\t13.5%, rows with missing values - 97.7%,\n",
    "    \n",
    "    - Missing values:\n",
    "        - DAYS_ENDDATE_FACT - 37%\n",
    "        - AMT_CREDIT_MAX_OVERDUE - 65.5%\n",
    "        - AMT_CREDIT_SUM_LIMIT → 34.5% \n",
    "        - AMT_CREDIT_SUM_DEBT - 15% \n",
    "        - AMT_ANNUITY - 71.5% \n",
    "          \n",
    "    - Negative values:\n",
    "        - DAYS_CREDIT - 99.9%\n",
    "        - DAYS_CREDIT_ENDDATE - 59%\n",
    "        - DAYS_ENDDATE_FACT - 63%\n",
    "        - DAYS_CREDIT_UPDATE - 99.9%\n",
    "        \n",
    "    - Zeros:\n",
    "        - AMT_CREDIT_SUM_OVERDUE - 99.8%\n",
    "        - AMT_CREDIT_SUM_LIMIT - 61%\n",
    "        - AMT_CREDIT_SUM_DEBT - 51%\n",
    "        - CNT_CREDIT_PROLONG - 99.5%\n",
    "        - CREDIT_DAY_OVERDUE - 99.8%\n",
    "\n",
    "    - Strong correlations (>0.7):\n",
    "        - DAYS_CREDIT and DAYS_CREDIT_ENDDATE, DAYS_CREDIT_UPDATE, DAYS_ENDDATE_FACT.\n",
    "    \n",
    "    - Duplicates: None"
   ]
  },
  {
   "cell_type": "markdown",
   "id": "d85fb34b-998e-4566-8a9a-2448b2364143",
   "metadata": {},
   "source": [
    "**Planned Feature Engineering:**\n",
    "\n",
    "Ideas for feature engineering from the bureau dataset to capture a client’s credit health and risk profile. The main steps:\n",
    "\n",
    "    1. Convert \"DAY\" features to \"YEAR\".\n",
    "    \n",
    "    2. Handling Data Quality Issues\n",
    "\n",
    "        - Replace negative values in AMT_CREDIT_SUM_LIMIT and AMT_CREDIT_SUM_DEBT with 0 and create flags for negatives (FLAG_NEG_*).\n",
    "\n",
    "        - Convert categorical columns into binary risk indicators for active, closed, and bad credits.\n",
    "\n",
    "    3. Feature Engineering\n",
    "\n",
    "        - Credit Status Flags: HAS_ACTIVE_CREDIT, HAS_CLOSED_CREDIT, HAS_BAD_CREDIT. Flags for overdue or risky bureau records.\n",
    "\n",
    "        - Risk & Overdue Indicators: HAS_ANY_OVERDUE_DEBT, HAS_SIGNIFICANT_OVERDUE_DEBT, HAS_ANY_MAJOR_BUREAU_RISK\n",
    "\n",
    "        - Credit Utilization: Ratio of AMT_CREDIT_SUM_DEBT to AMT_CREDIT_SUM (capped at 1).\n",
    "\n",
    "        - Time-Based Features: CREDIT_ENDDATE_PROXIMITY (distance between start and end dates). Updates recency: YEARS_CREDIT_UPDATE_min, YEARS_CREDIT_UPDATE_max.\n",
    "\n",
    "        - Count Features: Total credit lines and active credit lines per customer.\n",
    "\n",
    "    4. Aggregations\n",
    "\n",
    "        - Numeric aggregations (mean, max, sum) for:\n",
    "\n",
    "            AMT_CREDIT_SUM, AMT_CREDIT_SUM_DEBT, AMT_CREDIT_SUM_OVERDUE\n",
    "\n",
    "            YEARS_CREDIT, YEARS_CREDIT_ENDDATE, YEARS_CREDIT_UPDATE\n",
    "\n",
    "        - Custom Aggregations:\n",
    "\n",
    "            Maximum or sum of flags to indicate presence of risky behavior.\n",
    "\n",
    "    5. Feature Selection\n",
    "\n",
    "        Select top features using LightGBM importance + ROC-AUC ranking.\n",
    "\n",
    "        Must-keep strong predictors:\n",
    "\n",
    "            BUREAU_HAS_ANY_OVERDUE_DEBT_max - Indicator if the client has ever had overdue debt in bureau records.\n",
    "\n",
    "            BUREAU_HAS_SIGNIFICANT_OVERDUE_DEBT_max – Flag showing whether the client has ever had overdue debt above a significant threshold.\n",
    "\n",
    "            BUREAU_HAS_BAD_CREDIT_sum – Count of instances where the client was flagged with bad credit history.\n",
    "\n",
    "            BUREAU_HAS_ANY_MAJOR_BUREAU_RISK_max – Indicator for whether the client has ever triggered a major bureau risk flag.\n",
    "\n",
    "            AMT_CREDIT_SUM_OVERDUE_sum - Total amount of overdue credit across all bureau-reported loans.\n",
    "\n",
    "    6. Planned Result\n",
    "\n",
    "        Selected features will be merged into the main training dataset for model building."
   ]
  },
  {
   "cell_type": "markdown",
   "id": "5fd9def8-76f9-41d7-9598-696c3361b13b",
   "metadata": {},
   "source": []
  },
  {
   "cell_type": "markdown",
   "id": "76723c05-e2a9-4061-894c-f84421f22de7",
   "metadata": {},
   "source": [
    "**Key EDA findings for bureau_balance:**\n",
    "\n",
    "    - Total features: 3 (numeric 2, categorical 1), rows: ~ 27.3M,\n",
    "\n",
    "    - Missing cells 0%, rows with missing values - 0%,\n",
    "    \n",
    "    - Negative values:\n",
    "        - MONTHS_BALANCE - 97.8%\n",
    "    \n",
    "    - Zeros:\n",
    "        - MONTHS_BALANCE - 2.2%\n",
    "        \n",
    "    - Strong correlations (>0.7): None\n",
    "    \n",
    "    - Duplicates: None"
   ]
  },
  {
   "cell_type": "markdown",
   "id": "0684c5e5-df10-4411-ad41-6f76eb94fb4b",
   "metadata": {},
   "source": [
    "**Planned Feature Engineering:**\n",
    "\n",
    "Ideas for feature engineering from the bureau_balance dataset to capture a client’s historical payment behavior and delinquency risk. The main steps:\n",
    "\n",
    "    1. Handling Raw Status Codes\n",
    "\n",
    "        Mapped STATUS values to numerical severity scores:\n",
    "\n",
    "            C, X, 0 - 0 (good/neutral)\n",
    "            \n",
    "            1 - 1 (mild delinquency)\n",
    "            \n",
    "            2 - 2 (moderate)\n",
    "            \n",
    "            3 - 3 (severe)\n",
    "            \n",
    "            4 - 4 (very severe)\n",
    "            \n",
    "            5 - 5 (worst / written off)\n",
    "\n",
    "    2. Feature Engineering\n",
    "\n",
    "        Severity-Based Metrics:\n",
    "\n",
    "            STATUS_SEVERITY_max – worst ever delinquency\n",
    "\n",
    "            STATUS_SEVERITY_mean – average delinquency\n",
    "\n",
    "            STATUS_SEVERITY_last – most recent delinquency level\n",
    "\n",
    "        Critical Flags:\n",
    "\n",
    "            WAS_SEVERELY_DELINQUENT – credit ever DPD ≥ 61 days\n",
    "\n",
    "            WAS_WRITTEN_OFF – credit was written off (STATUS = 5)\n",
    "\n",
    "        History Length:\n",
    "\n",
    "            MONTHS_BALANCE_count – number of months tracked for each credit\n",
    "\n",
    "    3. Credit-Level Aggregations (SK_ID_BUREAU)\n",
    "\n",
    "        Aggregated bureau_balance per credit line:\n",
    "\n",
    "            Worst status, average severity, last status\n",
    "\n",
    "            Flags for severe delinquency and write-off\n",
    "\n",
    "            History length count\n",
    "\n",
    "    4. Client-Level Aggregations (SK_ID_CURR)\n",
    "\n",
    "        After joining to bureau.csv, we aggregated features per client:\n",
    "\n",
    "            BB_STATUS_SEVERITY_max_mean – mean of worst delinquency across credits\n",
    "\n",
    "            BB_STATUS_SEVERITY_last_max – most recent worst status\n",
    "\n",
    "            BB_WAS_SEVERELY_DELINQUENT_max – flag if any credit ever had severe delinquency\n",
    "\n",
    "            BB_WAS_WRITTEN_OFF_max – flag if any credit was written off\n",
    "\n",
    "            BB_MONTHS_BALANCE_count_sum – total history length across all credits\n",
    "\n",
    "    5. Feature Selection\n",
    "\n",
    "        Select top features using LightGBM importance + ROC-AUC ranking.\n",
    "\n",
    "    6. Planned Result\n",
    "\n",
    "        Selected features will be merged into the main training dataset for model building."
   ]
  },
  {
   "cell_type": "markdown",
   "id": "73a0e87c-6d87-4c32-91b2-f57a0017c0e4",
   "metadata": {},
   "source": [
    "**Next Steps:**\n",
    "\n",
    "    Merge these features into the main training dataset.\n",
    "\n",
    "    Combine with Bureau features and others (previous applications, POS_CASH, etc.) for final model training."
   ]
  },
  {
   "cell_type": "markdown",
   "id": "e349b961-93f3-4094-9644-98e27b21be46",
   "metadata": {},
   "source": []
  }
 ],
 "metadata": {
  "kernelspec": {
   "display_name": "Python (myenv)",
   "language": "python",
   "name": "myenv"
  },
  "language_info": {
   "codemirror_mode": {
    "name": "ipython",
    "version": 3
   },
   "file_extension": ".py",
   "mimetype": "text/x-python",
   "name": "python",
   "nbconvert_exporter": "python",
   "pygments_lexer": "ipython3",
   "version": "3.11.9"
  }
 },
 "nbformat": 4,
 "nbformat_minor": 5
}
