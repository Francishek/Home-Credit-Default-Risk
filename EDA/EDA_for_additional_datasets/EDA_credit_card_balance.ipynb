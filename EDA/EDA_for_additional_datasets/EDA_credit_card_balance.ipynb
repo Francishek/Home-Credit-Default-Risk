{
 "cells": [
  {
   "cell_type": "markdown",
   "id": "3b1951dc-8916-4afe-a129-fbce58526e3a",
   "metadata": {},
   "source": [
    "# Home Credit Default Risk - EDA CREDIT CARD BALANCE"
   ]
  },
  {
   "cell_type": "markdown",
   "id": "43cb92c7-a096-46f1-a9ad-088aa6ee1e7f",
   "metadata": {},
   "source": [
    "## 1. Introduction"
   ]
  },
  {
   "cell_type": "markdown",
   "id": "bfd173ba-afb8-4221-83c8-8c93b62ba357",
   "metadata": {},
   "source": [
    "**Context**\n",
    "\n",
    "This notebook contains basic EDA for CREDIT CARD BALANCE data set.\n",
    "\n",
    "This is additional source of data (application_train/application_test are the main training and testing data).\n",
    "\n",
    "credit_card_balance.csv\n",
    "\n",
    "    Monthly balance snapshots of previous credit cards that the applicant has with Home Credit.\n",
    "    This table has one row for each month of history of every previous credit in Home Credit (consumer credit and cash loans) related to loans in our sample – i.e. the table has (#loans in sample * # of relative previous credit cards * # of months where we have some history observable for the previous credit card) rows.\n",
    "\n",
    "**Goals:**\n",
    "\n",
    "    To comprehensively understand the dataset's structure, identify key patterns, and discover meaningful insights that will inform a robust feature engineering and modeling strategy.\n",
    "\n",
    "**Objectives:**\n",
    "\n",
    "    Conduct a comprehensive Exploratory Data Analysis (EDA): Perform an in-depth exploration of the datasets to understand their statistical properties and distributions.\n",
    "\n",
    "    Identify and address data quality issues: Investigate missing values, identify and handle data anomalies.\n",
    "\n",
    "    Analyze feature relationships: Evaluate correlations between features and assess their individual relationships with the target variable to prioritize their importance for the model.\n",
    "\n",
    "    Leverage automated tools for initial insights: Utilize libraries like Sweetviz to quickly generate an initial feature exploration report.\n"
   ]
  },
  {
   "cell_type": "markdown",
   "id": "1323ffeb-25c1-430b-b280-58a2071cfd28",
   "metadata": {},
   "source": []
  },
  {
   "cell_type": "markdown",
   "id": "fcb1999a-3424-4274-b4d8-555f3eeeb22f",
   "metadata": {},
   "source": [
    "## 2. Exploratory Data Analysis (EDA)"
   ]
  },
  {
   "cell_type": "markdown",
   "id": "3086a715-6e0a-4223-8c3f-b635bb9afae0",
   "metadata": {},
   "source": [
    "### A. Data loading & Initial checks"
   ]
  },
  {
   "cell_type": "code",
   "execution_count": 1,
   "id": "3f5e517c-1eb1-48e0-804d-81198e55c1de",
   "metadata": {},
   "outputs": [],
   "source": [
    "%load_ext jupyter_black"
   ]
  },
  {
   "cell_type": "code",
   "execution_count": 2,
   "id": "640fc3cf-a79b-443e-a83f-f11c68324f84",
   "metadata": {},
   "outputs": [
    {
     "data": {
      "text/html": [
       "\n",
       "            <div>\n",
       "                <ins><a href=\"https://ydata.ai/register\">Upgrade to ydata-sdk</a></ins>\n",
       "                <p>\n",
       "                    Improve your data and profiling with ydata-sdk, featuring data quality scoring, redundancy detection, outlier identification, text validation, and synthetic data generation.\n",
       "                </p>\n",
       "            </div>\n",
       "            "
      ],
      "text/plain": [
       "<IPython.core.display.HTML object>"
      ]
     },
     "metadata": {},
     "output_type": "display_data"
    }
   ],
   "source": [
    "import pandas as pd\n",
    "import numpy as np\n",
    "import sys\n",
    "import os\n",
    "from typing import Dict, Optional, List, Tuple, Union\n",
    "import warnings\n",
    "\n",
    "warnings.filterwarnings(\"ignore\", category=UserWarning, module=\"sweetviz.graph\")\n",
    "import sweetviz as sv\n",
    "from ydata_profiling import ProfileReport\n",
    "from IPython.display import IFrame"
   ]
  },
  {
   "cell_type": "code",
   "execution_count": 3,
   "id": "5ca5d500-6f7f-4242-82a3-b40a35e8c20f",
   "metadata": {},
   "outputs": [],
   "source": [
    "sys.path.append(os.path.abspath(\"..\"))\n",
    "from Data.utils_EDA import feature_types, missing_columns, calculate_missing_rows\n",
    "from Data.utils_modeling import downcast_numeric_col"
   ]
  },
  {
   "cell_type": "markdown",
   "id": "d707be89-c989-4cd4-a62b-2c4773f868c0",
   "metadata": {},
   "source": [
    "**Loading dataset**"
   ]
  },
  {
   "cell_type": "code",
   "execution_count": 4,
   "id": "8adb2b46-1b5e-4caf-ad2f-d2a70052bd00",
   "metadata": {},
   "outputs": [
    {
     "data": {
      "text/plain": [
       "(3840312, 23)"
      ]
     },
     "execution_count": 4,
     "metadata": {},
     "output_type": "execute_result"
    }
   ],
   "source": [
    "credit_card_balance = pd.read_csv(r\"..\\Data\\credit_card_balance.csv\")\n",
    "credit_card_balance.shape"
   ]
  },
  {
   "cell_type": "markdown",
   "id": "f137781f-a555-4770-83d7-d500e99047c8",
   "metadata": {},
   "source": [
    "**Downcasting numeric columns**"
   ]
  },
  {
   "cell_type": "code",
   "execution_count": 5,
   "id": "b8650c01-2065-4601-87cd-859bc91dd6cc",
   "metadata": {},
   "outputs": [
    {
     "data": {
      "text/plain": [
       "array([dtype('int32'), dtype('int8'), dtype('float64'), dtype('float32'),\n",
       "       dtype('int16'), dtype('O')], dtype=object)"
      ]
     },
     "execution_count": 5,
     "metadata": {},
     "output_type": "execute_result"
    }
   ],
   "source": [
    "credit_card_balance = credit_card_balance.copy()\n",
    "downcast_numeric_col(credit_card_balance)\n",
    "credit_card_balance.dtypes.unique()"
   ]
  },
  {
   "cell_type": "code",
   "execution_count": 6,
   "id": "a9854d42-e61b-4fd8-8997-c8d9282001e5",
   "metadata": {
    "scrolled": true
   },
   "outputs": [
    {
     "data": {
      "text/html": [
       "<div>\n",
       "<style scoped>\n",
       "    .dataframe tbody tr th:only-of-type {\n",
       "        vertical-align: middle;\n",
       "    }\n",
       "\n",
       "    .dataframe tbody tr th {\n",
       "        vertical-align: top;\n",
       "    }\n",
       "\n",
       "    .dataframe thead th {\n",
       "        text-align: right;\n",
       "    }\n",
       "</style>\n",
       "<table border=\"1\" class=\"dataframe\">\n",
       "  <thead>\n",
       "    <tr style=\"text-align: right;\">\n",
       "      <th></th>\n",
       "      <th>SK_ID_PREV</th>\n",
       "      <th>SK_ID_CURR</th>\n",
       "      <th>MONTHS_BALANCE</th>\n",
       "      <th>AMT_BALANCE</th>\n",
       "      <th>AMT_CREDIT_LIMIT_ACTUAL</th>\n",
       "      <th>AMT_DRAWINGS_ATM_CURRENT</th>\n",
       "      <th>AMT_DRAWINGS_CURRENT</th>\n",
       "      <th>AMT_DRAWINGS_OTHER_CURRENT</th>\n",
       "      <th>AMT_DRAWINGS_POS_CURRENT</th>\n",
       "      <th>AMT_INST_MIN_REGULARITY</th>\n",
       "      <th>...</th>\n",
       "      <th>AMT_RECIVABLE</th>\n",
       "      <th>AMT_TOTAL_RECEIVABLE</th>\n",
       "      <th>CNT_DRAWINGS_ATM_CURRENT</th>\n",
       "      <th>CNT_DRAWINGS_CURRENT</th>\n",
       "      <th>CNT_DRAWINGS_OTHER_CURRENT</th>\n",
       "      <th>CNT_DRAWINGS_POS_CURRENT</th>\n",
       "      <th>CNT_INSTALMENT_MATURE_CUM</th>\n",
       "      <th>NAME_CONTRACT_STATUS</th>\n",
       "      <th>SK_DPD</th>\n",
       "      <th>SK_DPD_DEF</th>\n",
       "    </tr>\n",
       "  </thead>\n",
       "  <tbody>\n",
       "    <tr>\n",
       "      <th>0</th>\n",
       "      <td>2562384</td>\n",
       "      <td>378907</td>\n",
       "      <td>-6</td>\n",
       "      <td>56.970</td>\n",
       "      <td>135000</td>\n",
       "      <td>0.0</td>\n",
       "      <td>877.5</td>\n",
       "      <td>0.0</td>\n",
       "      <td>877.5</td>\n",
       "      <td>1700.325</td>\n",
       "      <td>...</td>\n",
       "      <td>0.000</td>\n",
       "      <td>0.000</td>\n",
       "      <td>0.0</td>\n",
       "      <td>1</td>\n",
       "      <td>0.0</td>\n",
       "      <td>1.0</td>\n",
       "      <td>35.0</td>\n",
       "      <td>Active</td>\n",
       "      <td>0</td>\n",
       "      <td>0</td>\n",
       "    </tr>\n",
       "    <tr>\n",
       "      <th>1</th>\n",
       "      <td>2582071</td>\n",
       "      <td>363914</td>\n",
       "      <td>-1</td>\n",
       "      <td>63975.555</td>\n",
       "      <td>45000</td>\n",
       "      <td>2250.0</td>\n",
       "      <td>2250.0</td>\n",
       "      <td>0.0</td>\n",
       "      <td>0.0</td>\n",
       "      <td>2250.000</td>\n",
       "      <td>...</td>\n",
       "      <td>64875.555</td>\n",
       "      <td>64875.555</td>\n",
       "      <td>1.0</td>\n",
       "      <td>1</td>\n",
       "      <td>0.0</td>\n",
       "      <td>0.0</td>\n",
       "      <td>69.0</td>\n",
       "      <td>Active</td>\n",
       "      <td>0</td>\n",
       "      <td>0</td>\n",
       "    </tr>\n",
       "    <tr>\n",
       "      <th>2</th>\n",
       "      <td>1740877</td>\n",
       "      <td>371185</td>\n",
       "      <td>-7</td>\n",
       "      <td>31815.225</td>\n",
       "      <td>450000</td>\n",
       "      <td>0.0</td>\n",
       "      <td>0.0</td>\n",
       "      <td>0.0</td>\n",
       "      <td>0.0</td>\n",
       "      <td>2250.000</td>\n",
       "      <td>...</td>\n",
       "      <td>31460.085</td>\n",
       "      <td>31460.085</td>\n",
       "      <td>0.0</td>\n",
       "      <td>0</td>\n",
       "      <td>0.0</td>\n",
       "      <td>0.0</td>\n",
       "      <td>30.0</td>\n",
       "      <td>Active</td>\n",
       "      <td>0</td>\n",
       "      <td>0</td>\n",
       "    </tr>\n",
       "    <tr>\n",
       "      <th>3</th>\n",
       "      <td>1389973</td>\n",
       "      <td>337855</td>\n",
       "      <td>-4</td>\n",
       "      <td>236572.110</td>\n",
       "      <td>225000</td>\n",
       "      <td>2250.0</td>\n",
       "      <td>2250.0</td>\n",
       "      <td>0.0</td>\n",
       "      <td>0.0</td>\n",
       "      <td>11795.760</td>\n",
       "      <td>...</td>\n",
       "      <td>233048.970</td>\n",
       "      <td>233048.970</td>\n",
       "      <td>1.0</td>\n",
       "      <td>1</td>\n",
       "      <td>0.0</td>\n",
       "      <td>0.0</td>\n",
       "      <td>10.0</td>\n",
       "      <td>Active</td>\n",
       "      <td>0</td>\n",
       "      <td>0</td>\n",
       "    </tr>\n",
       "    <tr>\n",
       "      <th>4</th>\n",
       "      <td>1891521</td>\n",
       "      <td>126868</td>\n",
       "      <td>-1</td>\n",
       "      <td>453919.455</td>\n",
       "      <td>450000</td>\n",
       "      <td>0.0</td>\n",
       "      <td>11547.0</td>\n",
       "      <td>0.0</td>\n",
       "      <td>11547.0</td>\n",
       "      <td>22924.890</td>\n",
       "      <td>...</td>\n",
       "      <td>453919.455</td>\n",
       "      <td>453919.455</td>\n",
       "      <td>0.0</td>\n",
       "      <td>1</td>\n",
       "      <td>0.0</td>\n",
       "      <td>1.0</td>\n",
       "      <td>101.0</td>\n",
       "      <td>Active</td>\n",
       "      <td>0</td>\n",
       "      <td>0</td>\n",
       "    </tr>\n",
       "  </tbody>\n",
       "</table>\n",
       "<p>5 rows × 23 columns</p>\n",
       "</div>"
      ],
      "text/plain": [
       "   SK_ID_PREV  SK_ID_CURR  MONTHS_BALANCE  AMT_BALANCE  \\\n",
       "0     2562384      378907              -6       56.970   \n",
       "1     2582071      363914              -1    63975.555   \n",
       "2     1740877      371185              -7    31815.225   \n",
       "3     1389973      337855              -4   236572.110   \n",
       "4     1891521      126868              -1   453919.455   \n",
       "\n",
       "   AMT_CREDIT_LIMIT_ACTUAL  AMT_DRAWINGS_ATM_CURRENT  AMT_DRAWINGS_CURRENT  \\\n",
       "0                   135000                       0.0                 877.5   \n",
       "1                    45000                    2250.0                2250.0   \n",
       "2                   450000                       0.0                   0.0   \n",
       "3                   225000                    2250.0                2250.0   \n",
       "4                   450000                       0.0               11547.0   \n",
       "\n",
       "   AMT_DRAWINGS_OTHER_CURRENT  AMT_DRAWINGS_POS_CURRENT  \\\n",
       "0                         0.0                     877.5   \n",
       "1                         0.0                       0.0   \n",
       "2                         0.0                       0.0   \n",
       "3                         0.0                       0.0   \n",
       "4                         0.0                   11547.0   \n",
       "\n",
       "   AMT_INST_MIN_REGULARITY  ...  AMT_RECIVABLE  AMT_TOTAL_RECEIVABLE  \\\n",
       "0                 1700.325  ...          0.000                 0.000   \n",
       "1                 2250.000  ...      64875.555             64875.555   \n",
       "2                 2250.000  ...      31460.085             31460.085   \n",
       "3                11795.760  ...     233048.970            233048.970   \n",
       "4                22924.890  ...     453919.455            453919.455   \n",
       "\n",
       "   CNT_DRAWINGS_ATM_CURRENT  CNT_DRAWINGS_CURRENT  CNT_DRAWINGS_OTHER_CURRENT  \\\n",
       "0                       0.0                     1                         0.0   \n",
       "1                       1.0                     1                         0.0   \n",
       "2                       0.0                     0                         0.0   \n",
       "3                       1.0                     1                         0.0   \n",
       "4                       0.0                     1                         0.0   \n",
       "\n",
       "   CNT_DRAWINGS_POS_CURRENT  CNT_INSTALMENT_MATURE_CUM  NAME_CONTRACT_STATUS  \\\n",
       "0                       1.0                       35.0                Active   \n",
       "1                       0.0                       69.0                Active   \n",
       "2                       0.0                       30.0                Active   \n",
       "3                       0.0                       10.0                Active   \n",
       "4                       1.0                      101.0                Active   \n",
       "\n",
       "   SK_DPD  SK_DPD_DEF  \n",
       "0       0           0  \n",
       "1       0           0  \n",
       "2       0           0  \n",
       "3       0           0  \n",
       "4       0           0  \n",
       "\n",
       "[5 rows x 23 columns]"
      ]
     },
     "execution_count": 6,
     "metadata": {},
     "output_type": "execute_result"
    }
   ],
   "source": [
    "credit_card_balance.head()"
   ]
  },
  {
   "cell_type": "code",
   "execution_count": 7,
   "id": "e6c55d5e-66e1-4166-82cb-dae8d138d8a6",
   "metadata": {
    "scrolled": true
   },
   "outputs": [
    {
     "name": "stdout",
     "output_type": "stream",
     "text": [
      "<class 'pandas.core.frame.DataFrame'>\n",
      "RangeIndex: 3840312 entries, 0 to 3840311\n",
      "Data columns (total 23 columns):\n",
      " #   Column                      Dtype  \n",
      "---  ------                      -----  \n",
      " 0   SK_ID_PREV                  int32  \n",
      " 1   SK_ID_CURR                  int32  \n",
      " 2   MONTHS_BALANCE              int8   \n",
      " 3   AMT_BALANCE                 float64\n",
      " 4   AMT_CREDIT_LIMIT_ACTUAL     int32  \n",
      " 5   AMT_DRAWINGS_ATM_CURRENT    float64\n",
      " 6   AMT_DRAWINGS_CURRENT        float64\n",
      " 7   AMT_DRAWINGS_OTHER_CURRENT  float64\n",
      " 8   AMT_DRAWINGS_POS_CURRENT    float64\n",
      " 9   AMT_INST_MIN_REGULARITY     float64\n",
      " 10  AMT_PAYMENT_CURRENT         float64\n",
      " 11  AMT_PAYMENT_TOTAL_CURRENT   float64\n",
      " 12  AMT_RECEIVABLE_PRINCIPAL    float64\n",
      " 13  AMT_RECIVABLE               float64\n",
      " 14  AMT_TOTAL_RECEIVABLE        float64\n",
      " 15  CNT_DRAWINGS_ATM_CURRENT    float32\n",
      " 16  CNT_DRAWINGS_CURRENT        int16  \n",
      " 17  CNT_DRAWINGS_OTHER_CURRENT  float32\n",
      " 18  CNT_DRAWINGS_POS_CURRENT    float32\n",
      " 19  CNT_INSTALMENT_MATURE_CUM   float32\n",
      " 20  NAME_CONTRACT_STATUS        object \n",
      " 21  SK_DPD                      int16  \n",
      " 22  SK_DPD_DEF                  int16  \n",
      "dtypes: float32(4), float64(11), int16(3), int32(3), int8(1), object(1)\n",
      "memory usage: 479.8+ MB\n"
     ]
    }
   ],
   "source": [
    "credit_card_balance.info()"
   ]
  },
  {
   "cell_type": "markdown",
   "id": "6daf47ab-a975-4e05-88d5-d83745139b77",
   "metadata": {},
   "source": [
    "**Feature descriptions:**\n"
   ]
  },
  {
   "attachments": {},
   "cell_type": "markdown",
   "id": "5a587375-29f0-4c80-8d47-747132272857",
   "metadata": {},
   "source": [
    "1. SK_ID_PREV ,\"ID of previous credit in Home credit related to loan in our sample. (One loan in our sample can have 0,1,2 or more previous loans in Home Credit)\",hashed\n",
    "\n",
    "2. ,SK_ID_CURR,ID of loan in our sample,hashed\n",
    "\n",
    "3. MONTHS_BALANCE,Month of balance relative to application date (-1 means the freshest balance date),time only relative to the application\n",
    "\n",
    "4. AMT_BALANCE,Balance during the month of previous credit,\n",
    "\n",
    "5. AMT_CREDIT_LIMIT_ACTUAL,Credit card limit during the month of the previous credit,\n",
    "\n",
    "6. AMT_DRAWINGS_ATM_CURRENT,Amount drawing at ATM during the month of the previous credit,\n",
    "\n",
    "7. AMT_DRAWINGS_CURRENT,Amount drawing during the month of the previous credit,\n",
    "\n",
    "8. AMT_DRAWINGS_OTHER_CURRENT,Amount of other drawings during the month of the previous credit,\n",
    "\n",
    "9. AMT_DRAWINGS_POS_CURRENT,Amount drawing or buying goods during the month of the previous credit,\n",
    "\n",
    "10. AMT_INST_MIN_REGULARITY,Minimal installment for this month of the previous credit,\n",
    "\n",
    "11. AMT_PAYMENT_CURRENT,How much did the client pay during the month on the previous credit,\n",
    "\n",
    "12. AMT_PAYMENT_TOTAL_CURRENT,How much did the client pay during the month in total on the previous credit,\n",
    "\n",
    "13. AMT_RECEIVABLE_PRINCIPAL,Amount receivable for principal on the previous credit,\n",
    "\n",
    "14. AMT_RECIVABLE,Amount receivable on the previous credit,\n",
    "\n",
    "15. AMT_TOTAL_RECEIVABLE,Total amount receivable on the previous credit,\n",
    "\n",
    "16. CNT_DRAWINGS_ATM_CURRENT,Number of drawings at ATM during this month on the previous credit,\n",
    "\n",
    "17. CNT_DRAWINGS_CURRENT,Number of drawings during this month on the previous credit,\n",
    "\n",
    "18. CNT_DRAWINGS_OTHER_CURRENT,Number of other drawings during this month on the previous credit,\n",
    "\n",
    "19. CNT_DRAWINGS_POS_CURRENT,Number of drawings for goods during this month on the previous credit,\n",
    "\n",
    "20. CNT_INSTALMENT_MATURE_CUM,Number of paid installments on the previous credit,\n",
    "\n",
    "21. NAME_CONTRACT_STATUS,\"Contract status (active signed,...) on the previous credit\",\n",
    "\n",
    "22. SK_DPD,DPD (Days past due) during the month on the previous credit,\n",
    "\n",
    "23. SK_DPD_DEF,DPD (Days past due) during the month with tolerance (debts with low loan amounts are ignored) of the previous credit,"
   ]
  },
  {
   "cell_type": "markdown",
   "id": "8a925852-4b99-489b-a87f-df06968aa811",
   "metadata": {},
   "source": [
    "**Feature types**"
   ]
  },
  {
   "cell_type": "code",
   "execution_count": 8,
   "id": "03a97ca8-87bd-444a-a6c9-8a7e6f8df8a7",
   "metadata": {},
   "outputs": [
    {
     "name": "stdout",
     "output_type": "stream",
     "text": [
      "Numerical features: ['SK_ID_PREV', 'SK_ID_CURR', 'MONTHS_BALANCE', 'AMT_BALANCE', 'AMT_CREDIT_LIMIT_ACTUAL', 'AMT_DRAWINGS_ATM_CURRENT', 'AMT_DRAWINGS_CURRENT', 'AMT_DRAWINGS_OTHER_CURRENT', 'AMT_DRAWINGS_POS_CURRENT', 'AMT_INST_MIN_REGULARITY', 'AMT_PAYMENT_CURRENT', 'AMT_PAYMENT_TOTAL_CURRENT', 'AMT_RECEIVABLE_PRINCIPAL', 'AMT_RECIVABLE', 'AMT_TOTAL_RECEIVABLE', 'CNT_DRAWINGS_ATM_CURRENT', 'CNT_DRAWINGS_CURRENT', 'CNT_DRAWINGS_OTHER_CURRENT', 'CNT_DRAWINGS_POS_CURRENT', 'CNT_INSTALMENT_MATURE_CUM', 'SK_DPD', 'SK_DPD_DEF']\n",
      "Categorical features: ['NAME_CONTRACT_STATUS']\n",
      "Binary features: []\n"
     ]
    }
   ],
   "source": [
    "feature_types(credit_card_balance)"
   ]
  },
  {
   "cell_type": "code",
   "execution_count": 9,
   "id": "3d425c9c-accd-4f15-aae0-bd10d7ca5208",
   "metadata": {},
   "outputs": [
    {
     "data": {
      "text/plain": [
       "float64    11\n",
       "float32     4\n",
       "int32       3\n",
       "int16       3\n",
       "int8        1\n",
       "object      1\n",
       "Name: count, dtype: int64"
      ]
     },
     "execution_count": 9,
     "metadata": {},
     "output_type": "execute_result"
    }
   ],
   "source": [
    "credit_card_balance.dtypes.value_counts()"
   ]
  },
  {
   "cell_type": "code",
   "execution_count": 10,
   "id": "9e149642-d4c2-47d5-a6a7-8c16d7d382d9",
   "metadata": {},
   "outputs": [
    {
     "data": {
      "text/html": [
       "<div>\n",
       "<style scoped>\n",
       "    .dataframe tbody tr th:only-of-type {\n",
       "        vertical-align: middle;\n",
       "    }\n",
       "\n",
       "    .dataframe tbody tr th {\n",
       "        vertical-align: top;\n",
       "    }\n",
       "\n",
       "    .dataframe thead th {\n",
       "        text-align: right;\n",
       "    }\n",
       "</style>\n",
       "<table border=\"1\" class=\"dataframe\">\n",
       "  <thead>\n",
       "    <tr style=\"text-align: right;\">\n",
       "      <th></th>\n",
       "      <th>count</th>\n",
       "      <th>mean</th>\n",
       "      <th>std</th>\n",
       "      <th>min</th>\n",
       "      <th>25%</th>\n",
       "      <th>50%</th>\n",
       "      <th>75%</th>\n",
       "      <th>max</th>\n",
       "    </tr>\n",
       "  </thead>\n",
       "  <tbody>\n",
       "    <tr>\n",
       "      <th>SK_ID_PREV</th>\n",
       "      <td>3840312.0</td>\n",
       "      <td>1.904504e+06</td>\n",
       "      <td>536469.470563</td>\n",
       "      <td>1000018.000</td>\n",
       "      <td>1434385.00</td>\n",
       "      <td>1897122.0</td>\n",
       "      <td>2.369328e+06</td>\n",
       "      <td>2843496.000</td>\n",
       "    </tr>\n",
       "    <tr>\n",
       "      <th>SK_ID_CURR</th>\n",
       "      <td>3840312.0</td>\n",
       "      <td>2.783242e+05</td>\n",
       "      <td>102704.475133</td>\n",
       "      <td>100006.000</td>\n",
       "      <td>189517.00</td>\n",
       "      <td>278396.0</td>\n",
       "      <td>3.675800e+05</td>\n",
       "      <td>456250.000</td>\n",
       "    </tr>\n",
       "    <tr>\n",
       "      <th>MONTHS_BALANCE</th>\n",
       "      <td>3840312.0</td>\n",
       "      <td>-3.452192e+01</td>\n",
       "      <td>26.667751</td>\n",
       "      <td>-96.000</td>\n",
       "      <td>-55.00</td>\n",
       "      <td>-28.0</td>\n",
       "      <td>-1.100000e+01</td>\n",
       "      <td>-1.000</td>\n",
       "    </tr>\n",
       "    <tr>\n",
       "      <th>AMT_BALANCE</th>\n",
       "      <td>3840312.0</td>\n",
       "      <td>5.830016e+04</td>\n",
       "      <td>106307.031024</td>\n",
       "      <td>-420250.185</td>\n",
       "      <td>0.00</td>\n",
       "      <td>0.0</td>\n",
       "      <td>8.904669e+04</td>\n",
       "      <td>1505902.185</td>\n",
       "    </tr>\n",
       "    <tr>\n",
       "      <th>AMT_CREDIT_LIMIT_ACTUAL</th>\n",
       "      <td>3840312.0</td>\n",
       "      <td>1.538080e+05</td>\n",
       "      <td>165145.699525</td>\n",
       "      <td>0.000</td>\n",
       "      <td>45000.00</td>\n",
       "      <td>112500.0</td>\n",
       "      <td>1.800000e+05</td>\n",
       "      <td>1350000.000</td>\n",
       "    </tr>\n",
       "    <tr>\n",
       "      <th>AMT_DRAWINGS_ATM_CURRENT</th>\n",
       "      <td>3090496.0</td>\n",
       "      <td>5.961325e+03</td>\n",
       "      <td>28225.688578</td>\n",
       "      <td>-6827.310</td>\n",
       "      <td>0.00</td>\n",
       "      <td>0.0</td>\n",
       "      <td>0.000000e+00</td>\n",
       "      <td>2115000.000</td>\n",
       "    </tr>\n",
       "    <tr>\n",
       "      <th>AMT_DRAWINGS_CURRENT</th>\n",
       "      <td>3840312.0</td>\n",
       "      <td>7.433388e+03</td>\n",
       "      <td>33846.077333</td>\n",
       "      <td>-6211.620</td>\n",
       "      <td>0.00</td>\n",
       "      <td>0.0</td>\n",
       "      <td>0.000000e+00</td>\n",
       "      <td>2287098.315</td>\n",
       "    </tr>\n",
       "    <tr>\n",
       "      <th>AMT_DRAWINGS_OTHER_CURRENT</th>\n",
       "      <td>3090496.0</td>\n",
       "      <td>2.881696e+02</td>\n",
       "      <td>8201.989345</td>\n",
       "      <td>0.000</td>\n",
       "      <td>0.00</td>\n",
       "      <td>0.0</td>\n",
       "      <td>0.000000e+00</td>\n",
       "      <td>1529847.000</td>\n",
       "    </tr>\n",
       "    <tr>\n",
       "      <th>AMT_DRAWINGS_POS_CURRENT</th>\n",
       "      <td>3090496.0</td>\n",
       "      <td>2.968805e+03</td>\n",
       "      <td>20796.887047</td>\n",
       "      <td>0.000</td>\n",
       "      <td>0.00</td>\n",
       "      <td>0.0</td>\n",
       "      <td>0.000000e+00</td>\n",
       "      <td>2239274.160</td>\n",
       "    </tr>\n",
       "    <tr>\n",
       "      <th>AMT_INST_MIN_REGULARITY</th>\n",
       "      <td>3535076.0</td>\n",
       "      <td>3.540204e+03</td>\n",
       "      <td>5600.154122</td>\n",
       "      <td>0.000</td>\n",
       "      <td>0.00</td>\n",
       "      <td>0.0</td>\n",
       "      <td>6.633911e+03</td>\n",
       "      <td>202882.005</td>\n",
       "    </tr>\n",
       "    <tr>\n",
       "      <th>AMT_PAYMENT_CURRENT</th>\n",
       "      <td>3072324.0</td>\n",
       "      <td>1.028054e+04</td>\n",
       "      <td>36078.084953</td>\n",
       "      <td>0.000</td>\n",
       "      <td>152.37</td>\n",
       "      <td>2702.7</td>\n",
       "      <td>9.000000e+03</td>\n",
       "      <td>4289207.445</td>\n",
       "    </tr>\n",
       "    <tr>\n",
       "      <th>AMT_PAYMENT_TOTAL_CURRENT</th>\n",
       "      <td>3840312.0</td>\n",
       "      <td>7.588857e+03</td>\n",
       "      <td>32005.987768</td>\n",
       "      <td>0.000</td>\n",
       "      <td>0.00</td>\n",
       "      <td>0.0</td>\n",
       "      <td>6.750000e+03</td>\n",
       "      <td>4278315.690</td>\n",
       "    </tr>\n",
       "    <tr>\n",
       "      <th>AMT_RECEIVABLE_PRINCIPAL</th>\n",
       "      <td>3840312.0</td>\n",
       "      <td>5.596588e+04</td>\n",
       "      <td>102533.616846</td>\n",
       "      <td>-423305.820</td>\n",
       "      <td>0.00</td>\n",
       "      <td>0.0</td>\n",
       "      <td>8.535924e+04</td>\n",
       "      <td>1472316.795</td>\n",
       "    </tr>\n",
       "    <tr>\n",
       "      <th>AMT_RECIVABLE</th>\n",
       "      <td>3840312.0</td>\n",
       "      <td>5.808881e+04</td>\n",
       "      <td>105965.369908</td>\n",
       "      <td>-420250.185</td>\n",
       "      <td>0.00</td>\n",
       "      <td>0.0</td>\n",
       "      <td>8.889949e+04</td>\n",
       "      <td>1493338.185</td>\n",
       "    </tr>\n",
       "    <tr>\n",
       "      <th>AMT_TOTAL_RECEIVABLE</th>\n",
       "      <td>3840312.0</td>\n",
       "      <td>5.809829e+04</td>\n",
       "      <td>105971.801104</td>\n",
       "      <td>-420250.185</td>\n",
       "      <td>0.00</td>\n",
       "      <td>0.0</td>\n",
       "      <td>8.891451e+04</td>\n",
       "      <td>1493338.185</td>\n",
       "    </tr>\n",
       "    <tr>\n",
       "      <th>CNT_DRAWINGS_ATM_CURRENT</th>\n",
       "      <td>3090496.0</td>\n",
       "      <td>3.094490e-01</td>\n",
       "      <td>1.100401</td>\n",
       "      <td>0.000</td>\n",
       "      <td>0.00</td>\n",
       "      <td>0.0</td>\n",
       "      <td>0.000000e+00</td>\n",
       "      <td>51.000</td>\n",
       "    </tr>\n",
       "    <tr>\n",
       "      <th>CNT_DRAWINGS_CURRENT</th>\n",
       "      <td>3840312.0</td>\n",
       "      <td>7.031439e-01</td>\n",
       "      <td>3.190347</td>\n",
       "      <td>0.000</td>\n",
       "      <td>0.00</td>\n",
       "      <td>0.0</td>\n",
       "      <td>0.000000e+00</td>\n",
       "      <td>165.000</td>\n",
       "    </tr>\n",
       "    <tr>\n",
       "      <th>CNT_DRAWINGS_OTHER_CURRENT</th>\n",
       "      <td>3090496.0</td>\n",
       "      <td>4.812496e-03</td>\n",
       "      <td>0.082639</td>\n",
       "      <td>0.000</td>\n",
       "      <td>0.00</td>\n",
       "      <td>0.0</td>\n",
       "      <td>0.000000e+00</td>\n",
       "      <td>12.000</td>\n",
       "    </tr>\n",
       "    <tr>\n",
       "      <th>CNT_DRAWINGS_POS_CURRENT</th>\n",
       "      <td>3090496.0</td>\n",
       "      <td>5.594791e-01</td>\n",
       "      <td>3.240649</td>\n",
       "      <td>0.000</td>\n",
       "      <td>0.00</td>\n",
       "      <td>0.0</td>\n",
       "      <td>0.000000e+00</td>\n",
       "      <td>165.000</td>\n",
       "    </tr>\n",
       "    <tr>\n",
       "      <th>CNT_INSTALMENT_MATURE_CUM</th>\n",
       "      <td>3535076.0</td>\n",
       "      <td>2.082509e+01</td>\n",
       "      <td>20.051495</td>\n",
       "      <td>0.000</td>\n",
       "      <td>4.00</td>\n",
       "      <td>15.0</td>\n",
       "      <td>3.200000e+01</td>\n",
       "      <td>120.000</td>\n",
       "    </tr>\n",
       "    <tr>\n",
       "      <th>SK_DPD</th>\n",
       "      <td>3840312.0</td>\n",
       "      <td>9.283667e+00</td>\n",
       "      <td>97.515700</td>\n",
       "      <td>0.000</td>\n",
       "      <td>0.00</td>\n",
       "      <td>0.0</td>\n",
       "      <td>0.000000e+00</td>\n",
       "      <td>3260.000</td>\n",
       "    </tr>\n",
       "    <tr>\n",
       "      <th>SK_DPD_DEF</th>\n",
       "      <td>3840312.0</td>\n",
       "      <td>3.316220e-01</td>\n",
       "      <td>21.479231</td>\n",
       "      <td>0.000</td>\n",
       "      <td>0.00</td>\n",
       "      <td>0.0</td>\n",
       "      <td>0.000000e+00</td>\n",
       "      <td>3260.000</td>\n",
       "    </tr>\n",
       "  </tbody>\n",
       "</table>\n",
       "</div>"
      ],
      "text/plain": [
       "                                count          mean            std  \\\n",
       "SK_ID_PREV                  3840312.0  1.904504e+06  536469.470563   \n",
       "SK_ID_CURR                  3840312.0  2.783242e+05  102704.475133   \n",
       "MONTHS_BALANCE              3840312.0 -3.452192e+01      26.667751   \n",
       "AMT_BALANCE                 3840312.0  5.830016e+04  106307.031024   \n",
       "AMT_CREDIT_LIMIT_ACTUAL     3840312.0  1.538080e+05  165145.699525   \n",
       "AMT_DRAWINGS_ATM_CURRENT    3090496.0  5.961325e+03   28225.688578   \n",
       "AMT_DRAWINGS_CURRENT        3840312.0  7.433388e+03   33846.077333   \n",
       "AMT_DRAWINGS_OTHER_CURRENT  3090496.0  2.881696e+02    8201.989345   \n",
       "AMT_DRAWINGS_POS_CURRENT    3090496.0  2.968805e+03   20796.887047   \n",
       "AMT_INST_MIN_REGULARITY     3535076.0  3.540204e+03    5600.154122   \n",
       "AMT_PAYMENT_CURRENT         3072324.0  1.028054e+04   36078.084953   \n",
       "AMT_PAYMENT_TOTAL_CURRENT   3840312.0  7.588857e+03   32005.987768   \n",
       "AMT_RECEIVABLE_PRINCIPAL    3840312.0  5.596588e+04  102533.616846   \n",
       "AMT_RECIVABLE               3840312.0  5.808881e+04  105965.369908   \n",
       "AMT_TOTAL_RECEIVABLE        3840312.0  5.809829e+04  105971.801104   \n",
       "CNT_DRAWINGS_ATM_CURRENT    3090496.0  3.094490e-01       1.100401   \n",
       "CNT_DRAWINGS_CURRENT        3840312.0  7.031439e-01       3.190347   \n",
       "CNT_DRAWINGS_OTHER_CURRENT  3090496.0  4.812496e-03       0.082639   \n",
       "CNT_DRAWINGS_POS_CURRENT    3090496.0  5.594791e-01       3.240649   \n",
       "CNT_INSTALMENT_MATURE_CUM   3535076.0  2.082509e+01      20.051495   \n",
       "SK_DPD                      3840312.0  9.283667e+00      97.515700   \n",
       "SK_DPD_DEF                  3840312.0  3.316220e-01      21.479231   \n",
       "\n",
       "                                    min         25%        50%           75%  \\\n",
       "SK_ID_PREV                  1000018.000  1434385.00  1897122.0  2.369328e+06   \n",
       "SK_ID_CURR                   100006.000   189517.00   278396.0  3.675800e+05   \n",
       "MONTHS_BALANCE                  -96.000      -55.00      -28.0 -1.100000e+01   \n",
       "AMT_BALANCE                 -420250.185        0.00        0.0  8.904669e+04   \n",
       "AMT_CREDIT_LIMIT_ACTUAL           0.000    45000.00   112500.0  1.800000e+05   \n",
       "AMT_DRAWINGS_ATM_CURRENT      -6827.310        0.00        0.0  0.000000e+00   \n",
       "AMT_DRAWINGS_CURRENT          -6211.620        0.00        0.0  0.000000e+00   \n",
       "AMT_DRAWINGS_OTHER_CURRENT        0.000        0.00        0.0  0.000000e+00   \n",
       "AMT_DRAWINGS_POS_CURRENT          0.000        0.00        0.0  0.000000e+00   \n",
       "AMT_INST_MIN_REGULARITY           0.000        0.00        0.0  6.633911e+03   \n",
       "AMT_PAYMENT_CURRENT               0.000      152.37     2702.7  9.000000e+03   \n",
       "AMT_PAYMENT_TOTAL_CURRENT         0.000        0.00        0.0  6.750000e+03   \n",
       "AMT_RECEIVABLE_PRINCIPAL    -423305.820        0.00        0.0  8.535924e+04   \n",
       "AMT_RECIVABLE               -420250.185        0.00        0.0  8.889949e+04   \n",
       "AMT_TOTAL_RECEIVABLE        -420250.185        0.00        0.0  8.891451e+04   \n",
       "CNT_DRAWINGS_ATM_CURRENT          0.000        0.00        0.0  0.000000e+00   \n",
       "CNT_DRAWINGS_CURRENT              0.000        0.00        0.0  0.000000e+00   \n",
       "CNT_DRAWINGS_OTHER_CURRENT        0.000        0.00        0.0  0.000000e+00   \n",
       "CNT_DRAWINGS_POS_CURRENT          0.000        0.00        0.0  0.000000e+00   \n",
       "CNT_INSTALMENT_MATURE_CUM         0.000        4.00       15.0  3.200000e+01   \n",
       "SK_DPD                            0.000        0.00        0.0  0.000000e+00   \n",
       "SK_DPD_DEF                        0.000        0.00        0.0  0.000000e+00   \n",
       "\n",
       "                                    max  \n",
       "SK_ID_PREV                  2843496.000  \n",
       "SK_ID_CURR                   456250.000  \n",
       "MONTHS_BALANCE                   -1.000  \n",
       "AMT_BALANCE                 1505902.185  \n",
       "AMT_CREDIT_LIMIT_ACTUAL     1350000.000  \n",
       "AMT_DRAWINGS_ATM_CURRENT    2115000.000  \n",
       "AMT_DRAWINGS_CURRENT        2287098.315  \n",
       "AMT_DRAWINGS_OTHER_CURRENT  1529847.000  \n",
       "AMT_DRAWINGS_POS_CURRENT    2239274.160  \n",
       "AMT_INST_MIN_REGULARITY      202882.005  \n",
       "AMT_PAYMENT_CURRENT         4289207.445  \n",
       "AMT_PAYMENT_TOTAL_CURRENT   4278315.690  \n",
       "AMT_RECEIVABLE_PRINCIPAL    1472316.795  \n",
       "AMT_RECIVABLE               1493338.185  \n",
       "AMT_TOTAL_RECEIVABLE        1493338.185  \n",
       "CNT_DRAWINGS_ATM_CURRENT         51.000  \n",
       "CNT_DRAWINGS_CURRENT            165.000  \n",
       "CNT_DRAWINGS_OTHER_CURRENT       12.000  \n",
       "CNT_DRAWINGS_POS_CURRENT        165.000  \n",
       "CNT_INSTALMENT_MATURE_CUM       120.000  \n",
       "SK_DPD                         3260.000  \n",
       "SK_DPD_DEF                     3260.000  "
      ]
     },
     "execution_count": 10,
     "metadata": {},
     "output_type": "execute_result"
    }
   ],
   "source": [
    "pd.set_option(\"display.max_rows\", 120)\n",
    "pd.set_option(\"display.max_columns\", 120)\n",
    "\n",
    "credit_card_balance.describe().T"
   ]
  },
  {
   "cell_type": "markdown",
   "id": "69c7bd4e-6ad7-40b8-ba45-656b2db5c505",
   "metadata": {},
   "source": [
    "**Key insights:**\n",
    "\n",
    "The dataset is highly skewed with many zero or near-zero values, punctuated by extreme outliers.\n",
    "\n",
    "Several monetary columns have negative values, this might indicate correction entries, data errors, or reversed transactions"
   ]
  },
  {
   "cell_type": "markdown",
   "id": "67419957-2598-4a1c-b939-fb0808aeabcf",
   "metadata": {},
   "source": []
  },
  {
   "cell_type": "markdown",
   "id": "90739cf9-a6bc-4062-a4bc-235f0c43acaf",
   "metadata": {},
   "source": [
    "**Missing values**"
   ]
  },
  {
   "cell_type": "code",
   "execution_count": 11,
   "id": "3c7aa44e-905a-4b72-b7fe-e6df05ede557",
   "metadata": {},
   "outputs": [
    {
     "data": {
      "text/html": [
       "<div>\n",
       "<style scoped>\n",
       "    .dataframe tbody tr th:only-of-type {\n",
       "        vertical-align: middle;\n",
       "    }\n",
       "\n",
       "    .dataframe tbody tr th {\n",
       "        vertical-align: top;\n",
       "    }\n",
       "\n",
       "    .dataframe thead th {\n",
       "        text-align: right;\n",
       "    }\n",
       "</style>\n",
       "<table border=\"1\" class=\"dataframe\">\n",
       "  <thead>\n",
       "    <tr style=\"text-align: right;\">\n",
       "      <th></th>\n",
       "      <th>Missing Count</th>\n",
       "      <th>Missing Count Ratio</th>\n",
       "      <th>Missing Count %</th>\n",
       "    </tr>\n",
       "  </thead>\n",
       "  <tbody>\n",
       "    <tr>\n",
       "      <th>AMT_PAYMENT_CURRENT</th>\n",
       "      <td>767988</td>\n",
       "      <td>0.199981</td>\n",
       "      <td>20.0</td>\n",
       "    </tr>\n",
       "    <tr>\n",
       "      <th>AMT_DRAWINGS_ATM_CURRENT</th>\n",
       "      <td>749816</td>\n",
       "      <td>0.195249</td>\n",
       "      <td>19.5</td>\n",
       "    </tr>\n",
       "    <tr>\n",
       "      <th>CNT_DRAWINGS_POS_CURRENT</th>\n",
       "      <td>749816</td>\n",
       "      <td>0.195249</td>\n",
       "      <td>19.5</td>\n",
       "    </tr>\n",
       "    <tr>\n",
       "      <th>AMT_DRAWINGS_OTHER_CURRENT</th>\n",
       "      <td>749816</td>\n",
       "      <td>0.195249</td>\n",
       "      <td>19.5</td>\n",
       "    </tr>\n",
       "    <tr>\n",
       "      <th>AMT_DRAWINGS_POS_CURRENT</th>\n",
       "      <td>749816</td>\n",
       "      <td>0.195249</td>\n",
       "      <td>19.5</td>\n",
       "    </tr>\n",
       "    <tr>\n",
       "      <th>CNT_DRAWINGS_OTHER_CURRENT</th>\n",
       "      <td>749816</td>\n",
       "      <td>0.195249</td>\n",
       "      <td>19.5</td>\n",
       "    </tr>\n",
       "    <tr>\n",
       "      <th>CNT_DRAWINGS_ATM_CURRENT</th>\n",
       "      <td>749816</td>\n",
       "      <td>0.195249</td>\n",
       "      <td>19.5</td>\n",
       "    </tr>\n",
       "    <tr>\n",
       "      <th>CNT_INSTALMENT_MATURE_CUM</th>\n",
       "      <td>305236</td>\n",
       "      <td>0.079482</td>\n",
       "      <td>7.9</td>\n",
       "    </tr>\n",
       "    <tr>\n",
       "      <th>AMT_INST_MIN_REGULARITY</th>\n",
       "      <td>305236</td>\n",
       "      <td>0.079482</td>\n",
       "      <td>7.9</td>\n",
       "    </tr>\n",
       "  </tbody>\n",
       "</table>\n",
       "</div>"
      ],
      "text/plain": [
       "                            Missing Count  Missing Count Ratio  \\\n",
       "AMT_PAYMENT_CURRENT                767988             0.199981   \n",
       "AMT_DRAWINGS_ATM_CURRENT           749816             0.195249   \n",
       "CNT_DRAWINGS_POS_CURRENT           749816             0.195249   \n",
       "AMT_DRAWINGS_OTHER_CURRENT         749816             0.195249   \n",
       "AMT_DRAWINGS_POS_CURRENT           749816             0.195249   \n",
       "CNT_DRAWINGS_OTHER_CURRENT         749816             0.195249   \n",
       "CNT_DRAWINGS_ATM_CURRENT           749816             0.195249   \n",
       "CNT_INSTALMENT_MATURE_CUM          305236             0.079482   \n",
       "AMT_INST_MIN_REGULARITY            305236             0.079482   \n",
       "\n",
       "                            Missing Count %  \n",
       "AMT_PAYMENT_CURRENT                    20.0  \n",
       "AMT_DRAWINGS_ATM_CURRENT               19.5  \n",
       "CNT_DRAWINGS_POS_CURRENT               19.5  \n",
       "AMT_DRAWINGS_OTHER_CURRENT             19.5  \n",
       "AMT_DRAWINGS_POS_CURRENT               19.5  \n",
       "CNT_DRAWINGS_OTHER_CURRENT             19.5  \n",
       "CNT_DRAWINGS_ATM_CURRENT               19.5  \n",
       "CNT_INSTALMENT_MATURE_CUM               7.9  \n",
       "AMT_INST_MIN_REGULARITY                 7.9  "
      ]
     },
     "execution_count": 11,
     "metadata": {},
     "output_type": "execute_result"
    }
   ],
   "source": [
    "missing_columns(credit_card_balance)"
   ]
  },
  {
   "cell_type": "code",
   "execution_count": 12,
   "id": "9e662112-1022-432c-9e23-3cddc84531ef",
   "metadata": {},
   "outputs": [
    {
     "name": "stdout",
     "output_type": "stream",
     "text": [
      "Missing rows: 826036 of 3840312 total rows in data set.\n",
      "Missing rows %: 21.51\n"
     ]
    }
   ],
   "source": [
    "calculate_missing_rows(credit_card_balance)"
   ]
  },
  {
   "cell_type": "markdown",
   "id": "6b9c5369-90ce-454f-a873-c1694817c2a8",
   "metadata": {},
   "source": [
    "We will not remove missing rows, use imputation."
   ]
  },
  {
   "cell_type": "markdown",
   "id": "846e66e8-da26-4fd2-91dc-e15f7de72f74",
   "metadata": {},
   "source": []
  },
  {
   "cell_type": "markdown",
   "id": "1961fea8-10e6-4c57-843d-d8c9680bec7f",
   "metadata": {},
   "source": [
    "**Checking for duplicates.**"
   ]
  },
  {
   "cell_type": "code",
   "execution_count": 13,
   "id": "a39ff333-57af-4dc7-911b-548b5320277a",
   "metadata": {},
   "outputs": [
    {
     "name": "stdout",
     "output_type": "stream",
     "text": [
      "Duplicates: 0, 0.00%\n"
     ]
    }
   ],
   "source": [
    "print(\n",
    "    f\"Duplicates: {credit_card_balance.duplicated().sum()}, {(credit_card_balance.duplicated().sum() / len(credit_card_balance) * 100):.2f}%\"\n",
    ")"
   ]
  },
  {
   "cell_type": "markdown",
   "id": "0cd63993-340b-47af-98c3-b08b6048365d",
   "metadata": {},
   "source": [
    "No duplicates in credit card balance dataset."
   ]
  },
  {
   "cell_type": "markdown",
   "id": "9cb34917-f6fb-4ed0-9335-e6e829fa02fc",
   "metadata": {},
   "source": []
  },
  {
   "cell_type": "markdown",
   "id": "bd6200cb-0dae-4cfe-bc2a-c5722795e330",
   "metadata": {},
   "source": [
    "**Sweetviz report**\n",
    "\n",
    "We can find the report in EDA folder."
   ]
  },
  {
   "cell_type": "code",
   "execution_count": null,
   "id": "327d9997-3cd2-43eb-900f-f68f306fab9e",
   "metadata": {
    "scrolled": true
   },
   "outputs": [],
   "source": [
    "report = sv.analyze(credit_card_balance)\n",
    "html_file = f\"Credit_card_balance_sweetviz_report.html\"\n",
    "report.show_html(html_file)\n",
    "#display(IFrame(html_file, width=950, height=600))"
   ]
  },
  {
   "cell_type": "markdown",
   "id": "ed415046-66cc-46db-b519-e9026769dbae",
   "metadata": {},
   "source": []
  },
  {
   "cell_type": "markdown",
   "id": "36981312-af01-41c0-9502-dcb82ce6624b",
   "metadata": {},
   "source": [
    "**Ydata report**\n",
    "\n",
    "The report exceeds 25MB, it was not submitted to GitHub."
   ]
  },
  {
   "cell_type": "code",
   "execution_count": null,
   "id": "a188a6a2-6235-4dc3-be5e-1fd8f1939596",
   "metadata": {},
   "outputs": [],
   "source": [
    "profile = ProfileReport(\n",
    "    credit_card_balance, title=\"Credit_card_balance_EDA\", explorative=True\n",
    ")\n",
    "\n",
    "profile.to_file(\"Credit_card_balance_EDA.html\")"
   ]
  },
  {
   "cell_type": "markdown",
   "id": "cb635519-e3f2-4a1f-b876-823eff9f41c5",
   "metadata": {},
   "source": []
  },
  {
   "cell_type": "markdown",
   "id": "dc5c1415-60c2-4a3a-9f34-1714309d9558",
   "metadata": {},
   "source": [
    "### B. Feature analysis"
   ]
  },
  {
   "cell_type": "markdown",
   "id": "4a01bf2d-c781-4237-b7c2-1e8b60361132",
   "metadata": {},
   "source": [
    "    MONTHS_BALANCE - Month of balance relative to application date (-1 means the freshest balance date),time only relative to the application"
   ]
  },
  {
   "cell_type": "markdown",
   "id": "ebbfe3ce-163c-4ed8-b32b-a1baf76d9db6",
   "metadata": {},
   "source": [
    "Numerical, no missing values. no zeros.\n",
    "\n",
    "Left skewed.\n",
    "\n",
    "Minimum\t-96 month (8 years), Maximum -1, Mean\t-34.5"
   ]
  },
  {
   "cell_type": "markdown",
   "id": "0525f9d0-8162-4a3c-a1d4-ef34e0602fec",
   "metadata": {},
   "source": []
  },
  {
   "cell_type": "markdown",
   "id": "b7be83fa-039a-4060-bd84-87027f0f5d0e",
   "metadata": {},
   "source": [
    "    AMT_BALANCE - Balance during the month of previous credit"
   ]
  },
  {
   "cell_type": "markdown",
   "id": "15a784f6-2478-449a-9ccb-7a8a30c06d4c",
   "metadata": {},
   "source": [
    "Very high correlation (>0.9) with MT_RECEIVABLE_PRINCIPAL, AMT_RECIVABLE, AMT_TOTAL_RECEIVABLE, AMT_INST_MIN_REGULARITY, and high (0.8) with AMT_PAYMENT_TOTAL_CURRENT\n",
    "\n",
    "Right skewed, with negative and positive outliers.\n",
    "\n",
    "Numerical, no missing values, 56.2% zeros.\n",
    "\n",
    "Minimum\t-420,250.18, Maximum 1,505,902.2, Mean\t58,300.155.\n",
    "\n",
    "    Negative values (%) 0.1% - likely refunds or adjustments, need clipping at 0, and flag for < 0.\n"
   ]
  },
  {
   "cell_type": "markdown",
   "id": "a23ab205-7eb7-4299-9257-27fa1367d519",
   "metadata": {},
   "source": []
  },
  {
   "cell_type": "markdown",
   "id": "6ab7471f-5113-425c-b651-f95e6beb5f91",
   "metadata": {},
   "source": [
    "    AMT_CREDIT_LIMIT_ACTUAL - Credit card limit during the month of the previous credit"
   ]
  },
  {
   "cell_type": "markdown",
   "id": "40b83911-9a7a-4dcb-912c-1ea0e54cb546",
   "metadata": {},
   "source": [
    "Numerical, no missing values, 19.6% zeros, no negative values.\n",
    "\n",
    "Right skewed, positive outliers.\n",
    "\n",
    "Minimum\t0, Maximum\t1,350,000.0, Mean\t153,807.96\n",
    "\n",
    "    Feature engineering:\n",
    "    - CREDIT UTILIZATION = AMT_BALANCE / AMT_CREDIT_LIMIT_ACTUAL"
   ]
  },
  {
   "cell_type": "markdown",
   "id": "49055b5b-df50-407b-872c-340d9574fcb9",
   "metadata": {},
   "source": []
  },
  {
   "cell_type": "markdown",
   "id": "c4117f10-3b5a-45b3-ad06-257562a74e19",
   "metadata": {},
   "source": [
    "    AMT_DRAWINGS_ATM_CURRENT - Amount drawing at ATM during the month of the previous credit"
   ]
  },
  {
   "cell_type": "markdown",
   "id": "b84c124a-554f-4a0c-9cca-4760500dba33",
   "metadata": {},
   "source": [
    "High correlation with AMT_DRAWINGS_CURRENT, CNT_DRAWINGS_ATM_CURRENT,CNT_DRAWINGS_CURRENT.\n",
    "\n",
    "Numerical, 19.5% missing values, 69.4% zeros, Negative < 0.1%.\n",
    "\n",
    "Minimum\t-6,827.31, Maximum 2,115,000.0, Mean 5,961.32, outliers.\n",
    "\n",
    "    Only one value < 0, need clipping at 0."
   ]
  },
  {
   "cell_type": "markdown",
   "id": "6c8d8e94-a09e-4d1c-a28b-8c0ba050de24",
   "metadata": {},
   "source": []
  },
  {
   "cell_type": "markdown",
   "id": "d727c4a9-d120-4745-8b60-dfc7f4074cac",
   "metadata": {},
   "source": [
    "    AMT_DRAWINGS_CURRENT - Amount drawing during the month of the previous credit"
   ]
  },
  {
   "cell_type": "markdown",
   "id": "e473a3ea-b813-45ac-a0b7-32f069427ba7",
   "metadata": {},
   "source": [
    "High correlation with  AMT_DRAWINGS_ATM_CURRENT, CNT_DRAWINGS_ATM_CURRENT, CNT_DRAWINGS_CURRENT\n",
    "\n",
    "Numerical, no missing values, 83.9% zeros, Negative (%)\t< 0.1%\n",
    "\n",
    "Minimum\t-6,211.62, Maximum\t2,287,098.3, Mean\t7,433.3882. Outliers.\n",
    "\n",
    "    Only 3 values < 0, need clipping at 0.\n",
    "    Feature engineering:\n",
    "    - What percentage of drawings are from ATM, ATM_DRAWING_RATIO = AMT_DRAWINGS_ATM_CURRENT / AMT_DRAWINGS_CURRENT\n",
    "    - DRAWINGS_TO_PAYMENTS_RATIO = AMT_DRAWINGS_CURRENT / (AMT_PAYMENT_CURRENT + 1)"
   ]
  },
  {
   "cell_type": "markdown",
   "id": "443af654-4835-4a51-99cc-27b9d60b71d3",
   "metadata": {},
   "source": []
  },
  {
   "cell_type": "markdown",
   "id": "7b26acdd-05de-451d-ac38-7dd191943596",
   "metadata": {},
   "source": [
    "    AMT_DRAWINGS_OTHER_CURRENT - Amount of other drawings during the month of the previous credit"
   ]
  },
  {
   "cell_type": "markdown",
   "id": "b5106719-72e8-49ae-b0e3-e270a310b8fd",
   "metadata": {},
   "source": [
    "High correlation with CNT_DRAWINGS_OTHER_CURRENT.\n",
    "\n",
    "Numerical, 19.5% missing values, 80.2% zeros, no negative.\n",
    "\n",
    "Minimum\t0, Maximum\t1,529,847.0, Mean 288.2. Outliers."
   ]
  },
  {
   "cell_type": "markdown",
   "id": "7fb9312b-554b-4f7c-a160-2a97d360b1bd",
   "metadata": {},
   "source": []
  },
  {
   "cell_type": "markdown",
   "id": "641e076a-36a3-4976-983e-6aaac29ac95c",
   "metadata": {},
   "source": [
    "    AMT_DRAWINGS_POS_CURRENT - Amount drawing or buying goods during the month of the previous credit"
   ]
  },
  {
   "cell_type": "markdown",
   "id": "fe2b0ed0-9a7c-407e-88d9-ec99508de5cf",
   "metadata": {},
   "source": [
    "High correlation with CNT_DRAWINGS_POS_CURRENT.\n",
    "\n",
    "Numerical, 19.5% missing values, 73.6% zeros, no negative.\n",
    "\n",
    "Minimum\t0, Maximum 2,239,274.2, Mean 2,968.8. Outliers."
   ]
  },
  {
   "cell_type": "markdown",
   "id": "dbd6810f-bcf6-4a32-a773-0fa2e9a58ddf",
   "metadata": {},
   "source": []
  },
  {
   "cell_type": "markdown",
   "id": "a39a3d63-37be-4425-8a2b-d45a0014e74e",
   "metadata": {},
   "source": [
    "    AMT_INST_MIN_REGULARITY - Minimal installment for this month of the previous credit"
   ]
  },
  {
   "cell_type": "markdown",
   "id": "173437ee-4768-4681-9b7e-d0e293eae002",
   "metadata": {},
   "source": [
    "High correlation with AMT_BALANCE, AMT_PAYMENT_CURRENT, AMT_PAYMENT_TOTAL_CURRENT, AMT_RECEIVABLE_PRINCIPAL, AMT_RECIVABLE, AMT_TOTAL_RECEIVABLE.\n",
    "\n",
    "Numerical, 7.9% missing values, 50.2% zeros.\n",
    "\n",
    "Minimum\t0, Maximum\t202,882.01, Mean 3,540.2041. Right skewed. Outliers."
   ]
  },
  {
   "cell_type": "markdown",
   "id": "fbe3599e-5938-42d6-a220-0528c7c6ae97",
   "metadata": {},
   "source": []
  },
  {
   "cell_type": "markdown",
   "id": "515bacce-a0fc-4f9b-bef3-249fa36ce24a",
   "metadata": {},
   "source": [
    "    AMT_PAYMENT_CURRENT - How much did the client pay during the month on the previous credit"
   ]
  },
  {
   "cell_type": "markdown",
   "id": "92bb72bd-cac2-4b60-af44-3261c0cd743c",
   "metadata": {},
   "source": [
    "High correlation with AMT_BALANCE, AMT_INST_MIN_REGULARITY, AMT_PAYMENT_TOTAL_CURRENT.\n",
    "\n",
    "Numerical, 20.0% missing values, 10.2% zeros.\n",
    "\n",
    "Minimum\t0, Maximum\t4,289,207.4, Mean 10,280.5. Outliers.\n",
    "\n",
    "    Feature engineering:\n",
    "    - MIN_PAYMENT_RATIO = AMT_PAYMENT_CURRENT / AMT_INST_MIN_REGULARITY,\n",
    "    If minimum payment is 0, we will set ratio to 1 (assume paid in full or no payment due) \n",
    "    - MADE_MINIMUM_PAYMENT = MIN_PAYMENT_RATIO >= 0.95, 5% tolerance\n",
    "    - PAYMENT_TO_BALANCE_RATIO = AMT_PAYMENT_CURRENT / (AMT_BALANCE + 1)"
   ]
  },
  {
   "cell_type": "markdown",
   "id": "54212c66-f79c-4db4-aa23-fdd31f44b4fe",
   "metadata": {},
   "source": []
  },
  {
   "cell_type": "markdown",
   "id": "204ed017-105f-4871-b425-df3da743ef97",
   "metadata": {},
   "source": [
    "    AMT_PAYMENT_TOTAL_CURRENT - How much did the client pay during the month in total on the previous credit"
   ]
  },
  {
   "cell_type": "markdown",
   "id": "75a07dae-363c-462e-9ac2-b887ba03ce45",
   "metadata": {},
   "source": [
    "High correlation with AMT_PAYMENT_CURRENT, AMT_BALANCE, AMT_INST_MIN_REGULARITY, AMT_RECEIVABLE_PRINCIPAL, AMT_RECIVABLE, AMT_TOTAL_RECEIVABLE.\n",
    "\n",
    "Numerical, no missing values, 56.6% zeros, no negative.\n",
    "\n",
    "Minimum\t0, Maximum\t4,278,315.7, Mean \t7,588.9. Outliers."
   ]
  },
  {
   "cell_type": "markdown",
   "id": "98509580-0419-4a98-9f41-e5ac32bdc372",
   "metadata": {},
   "source": []
  },
  {
   "cell_type": "markdown",
   "id": "1e53d15b-bce8-4b99-b786-0785e83f8838",
   "metadata": {},
   "source": [
    "    AMT_RECEIVABLE_PRINCIPAL - Amount receivable for principal on the previous credit"
   ]
  },
  {
   "cell_type": "markdown",
   "id": "e4396345-6afe-4b91-b116-6c6dca475339",
   "metadata": {},
   "source": [
    "High correlation with AMT_BALANCE, AMT_DRAWINGS_CURRENT, AMT_INST_MIN_REGULARITY, AMT_PAYMENT_CURRENT, AMT_PAYMENT_TOTAL_CURRENT, AMT_RECIVABLE, AMT_TOTAL_RECEIVABLE, CNT_DRAWINGS_CURRENT.\n",
    "\n",
    "Numerical, no missing values, 59.8% zeros, negative 0.1%.\n",
    "\n",
    "Minimum\t-423,305.82, Maximum 1,472,316.8, Mean 55,965.9. Right skewed. Outliers.\n",
    "\n",
    "    Negative values 0.1% - could be data entry errors, refunds, misclassified transactions , need clipping at 0, and flag for < 0."
   ]
  },
  {
   "cell_type": "markdown",
   "id": "f21bb653-849e-446e-a2b6-0303861518cf",
   "metadata": {},
   "source": []
  },
  {
   "cell_type": "markdown",
   "id": "fa4d34a6-3c26-4b2d-b180-0f13864f83d3",
   "metadata": {},
   "source": [
    "    AMT_RECIVABLE - Amount receivable on the previous credit"
   ]
  },
  {
   "cell_type": "markdown",
   "id": "dd47ac18-d3f1-4b82-baa4-bbc056f460f1",
   "metadata": {},
   "source": [
    "High correlation with AMT_BALANCE, AMT_INST_MIN_REGULARITY, AMT_PAYMENT_CURRENT, AMT_PAYMENT_TOTAL_CURRENT, AMT_RECEIVABLE_PRINCIPAL, AMT_TOTAL_RECEIVABLE.\n",
    "\n",
    "Numerical, no missing values, 55.0% zeros, negative\t2.8%.\n",
    "\n",
    "Minimum\t-420,250.18, Maximum 1,493,338.2, Mean 58,088.8. Right skewed. Outliers.\n",
    "\n",
    "    Negative values 2.8% - could bedata anomalies or accounting reversals, need clipping at 0, and flag for < 0."
   ]
  },
  {
   "cell_type": "markdown",
   "id": "9e5c6fcd-9573-4c06-bd63-1700aca3e4ab",
   "metadata": {},
   "source": []
  },
  {
   "cell_type": "markdown",
   "id": "620fc1ad-0fe9-4614-bf5c-7dcda65bf835",
   "metadata": {},
   "source": [
    "    AMT_TOTAL_RECEIVABLE - Total amount receivable on the previous credit"
   ]
  },
  {
   "cell_type": "markdown",
   "id": "33f7203a-4121-4601-ac85-7adcba62ee81",
   "metadata": {},
   "source": [
    "High correlation with AMT_BALANCE, AMT_INST_MIN_REGULARITY, AMT_PAYMENT_CURRENT, AMT_PAYMENT_TOTAL_CURRENT, AMT_RECEIVABLE_PRINCIPAL, AMT_RECIVABLE.\n",
    "\n",
    "Numerical, no missing values, 55.0% zeros, negative 2.8%.\n",
    "\n",
    "Minimum\t-420,250.18, Maximum 1,493,338.2, Mean\t58,098.3. Right skewed. Outliers.\n",
    "\n",
    "     Negative values 2.8% - could bedata anomalies or accounting reversals, need clipping at 0, and flag for < 0."
   ]
  },
  {
   "cell_type": "markdown",
   "id": "19ae40db-08f9-41ae-a531-f349854f1c4e",
   "metadata": {},
   "source": []
  },
  {
   "cell_type": "markdown",
   "id": "3c5c3db8-e7d8-4ad7-95c0-141d9d9ac999",
   "metadata": {},
   "source": [
    "    CNT_DRAWINGS_ATM_CURRENT - Number of drawings at ATM during this month on the previous credit"
   ]
  },
  {
   "cell_type": "markdown",
   "id": "70a38002-6054-489e-b0d4-3a67ebbf605a",
   "metadata": {},
   "source": [
    "High correlation with AMT_DRAWINGS_ATM_CURRENT, AMT_DRAWINGS_CURRENT, CNT_DRAWINGS_CURRENT.\n",
    "\n",
    "Numerical, 19.5% missing values, 69.4% zeros, negative\t0.\n",
    "\n",
    "Minimum\t0, Maximum\t51, Mean 0.3. Right skewed. Outliers."
   ]
  },
  {
   "cell_type": "markdown",
   "id": "cff2ed89-07d8-4186-ab14-d5e569827ea2",
   "metadata": {},
   "source": []
  },
  {
   "cell_type": "markdown",
   "id": "52fa61df-01af-4093-ac2a-0a405cc5ab21",
   "metadata": {},
   "source": [
    "    CNT_DRAWINGS_CURRENT - Number of drawings during this month on the previous credit"
   ]
  },
  {
   "cell_type": "markdown",
   "id": "a782273a-e531-4c73-a144-3df8d60f6cb9",
   "metadata": {},
   "source": [
    "High correlation with AMT_BALANCE, AMT_DRAWINGS_ATM_CURRENT, AMT_DRAWINGS_CURRENT, AMT_DRAWINGS_POS_CURRENT, AMT_RECEIVABLE_PRINCIPAL, CNT_DRAWINGS_ATM_CURRENT, CNT_DRAWINGS_POS_CURRENT.\n",
    "\n",
    "Numerical, no missing values, 84.1% zeros, negative\t0.\n",
    "\n",
    "Minimum\t0, Maximum\t165, Mean 0.7. Right skewed. Outliers."
   ]
  },
  {
   "cell_type": "markdown",
   "id": "52190066-d4c7-442b-84a3-f6f79fbf207b",
   "metadata": {},
   "source": []
  },
  {
   "cell_type": "markdown",
   "id": "177618c1-3a63-4594-85b2-afebc234bd1d",
   "metadata": {},
   "source": [
    "    CNT_DRAWINGS_OTHER_CURRENT - Number of other drawings during this month on the previous credit"
   ]
  },
  {
   "cell_type": "markdown",
   "id": "9821b4ca-7eed-4104-98c4-095136c0a625",
   "metadata": {},
   "source": [
    "High correlation with AMT_DRAWINGS_OTHER_CURRENT.\n",
    "\n",
    "Numerical, 19.5% missing values, 80.1% zeros, negative 0.\n",
    "\n",
    "Minimum\t0, Maximum\t12, Mean 0.005. Right skewed. Outliers."
   ]
  },
  {
   "cell_type": "markdown",
   "id": "66f46ab4-d31f-42fb-b9b8-c98d03b72a79",
   "metadata": {},
   "source": []
  },
  {
   "cell_type": "markdown",
   "id": "0b89364a-db43-4246-b918-027679e0de4c",
   "metadata": {},
   "source": [
    "    CNT_DRAWINGS_POS_CURRENT - Number of drawings for goods during this month on the previous credit"
   ]
  },
  {
   "cell_type": "markdown",
   "id": "321a28a9-d997-4a47-9bfa-3b51d818ee76",
   "metadata": {},
   "source": [
    "High correlation with AMT_DRAWINGS_CURRENT, AMT_DRAWINGS_POS_CURRENT, CNT_DRAWINGS_CURRENT.\n",
    "\n",
    "Numerical, 19.5% missing values, 73.6% zeros, negative 0.\n",
    "\n",
    "Minimum\t0, Maximum\t165, Mean 0.6. Right skewed. Outliers."
   ]
  },
  {
   "cell_type": "markdown",
   "id": "63e1091e-4daf-4b7f-b70a-3fd314074c8b",
   "metadata": {},
   "source": []
  },
  {
   "cell_type": "markdown",
   "id": "5f5bc469-87e9-44a9-a493-60f0895bca60",
   "metadata": {},
   "source": [
    "    CNT_INSTALMENT_MATURE_CUM - Number of paid installments on the previous credit"
   ]
  },
  {
   "cell_type": "markdown",
   "id": "8e9d6e31-e0b2-43f8-959f-2efa5ca2da81",
   "metadata": {},
   "source": [
    "Numerical, 7.9% missing values, 14.4% zeros, negative 0.\n",
    "\n",
    "Minimum\t0, Maximum\t120, Mean 20.8. Right skewed. Outliers."
   ]
  },
  {
   "cell_type": "markdown",
   "id": "34cb0304-fc82-468b-8840-f4323603f8df",
   "metadata": {},
   "source": []
  },
  {
   "cell_type": "markdown",
   "id": "2f9f5115-80a2-483d-847c-167e19b9a2e6",
   "metadata": {},
   "source": [
    "    NAME_CONTRACT_STATUS - Contract status (active signed,...) on the previous credit"
   ]
  },
  {
   "cell_type": "markdown",
   "id": "0ad92fed-a1fb-4d57-82f4-d7f68143dba9",
   "metadata": {},
   "source": [
    "Categorical, no missing values, imbalanced: Active 96.3%, Completed 3.4%.\n",
    "\n",
    "    Flag \"is active\" - NAME_CONTRACT_STATUS = \"Active\"."
   ]
  },
  {
   "cell_type": "markdown",
   "id": "214ca47b-439d-4ee8-a5b6-fc30c68b4ce1",
   "metadata": {},
   "source": []
  },
  {
   "cell_type": "markdown",
   "id": "afeb0d61-899b-4474-92c9-28221393497d",
   "metadata": {},
   "source": [
    "    SK_DPD - DPD (Days past due) during the month on the previous credit"
   ]
  },
  {
   "cell_type": "markdown",
   "id": "2975d8c6-f832-4ec1-a2d2-524249bc2862",
   "metadata": {},
   "source": [
    "High correlation with SK_DPD_DEF.\n",
    "\n",
    "Numerical, no missing values, 96.0% zeros, negative\t0.\n",
    "\n",
    "Minimum\t0, Maximum 3,260 days(8.93 year), Mean 9.3. Right skewed. Outliers.\n",
    "\n",
    "    Clip outliers on 365 (beyond 1 year, risk is already extreme)."
   ]
  },
  {
   "cell_type": "markdown",
   "id": "e4369ba2-0d30-4f68-a53b-af5916a858fd",
   "metadata": {},
   "source": []
  },
  {
   "cell_type": "markdown",
   "id": "c685fb9c-664a-4d29-b71e-f1183672b198",
   "metadata": {},
   "source": [
    "    SK_DPD_DEF - DPD (Days past due) during the month with tolerance (debts with low loan amounts are ignored) of the previous credit"
   ]
  },
  {
   "cell_type": "markdown",
   "id": "3aebc04e-fb70-4923-8850-e5ecad786039",
   "metadata": {},
   "source": [
    "High correlation with SK_DPD.\n",
    "\n",
    "Numerical, no missing values, 97.7% zeros, negative\t0.\n",
    "\n",
    "Minimum\t0, Maximum 3,260 days(8.93 year), Mean 0.3. Right skewed. Outliers.\n",
    "\n",
    "    Clip outliers on 365 (beyond 1 year, risk is already extreme)."
   ]
  },
  {
   "cell_type": "markdown",
   "id": "f9afeac7-cb9c-44af-8c29-8fd160a948e0",
   "metadata": {},
   "source": []
  },
  {
   "cell_type": "markdown",
   "id": "c2476a7f-dd2f-4022-8ee8-4a8921d03e46",
   "metadata": {},
   "source": [
    "### Correlation"
   ]
  },
  {
   "cell_type": "markdown",
   "id": "60692353-16e5-49b4-9ebd-9fceee6e0ce3",
   "metadata": {},
   "source": [
    "We will analyze the relationships between features using a Ydata-Quality report. This report will provide a comprehensive overview of our data, including an automated correlation matrix for all features.\n",
    "\n",
    "To determine which features are most impactful for our model, we will use a more robust method: LightGBM's feature importance. After aggregating the columns from specific datasets into our main dataset, the LightGBM model will automatically calculate the importance of each feature in predicting the target variable. This approach is superior as it directly assesses a feature's predictive power within the context of our chosen model, providing a more reliable measure of its relationship with the target."
   ]
  },
  {
   "cell_type": "markdown",
   "id": "18fabea3-dc61-4eed-9eff-8be0ab18d7a0",
   "metadata": {},
   "source": [
    "**Feature Relationships**"
   ]
  },
  {
   "cell_type": "markdown",
   "id": "cb0ef536-c077-4169-a56c-56fac7ac9ee8",
   "metadata": {},
   "source": [
    "High correlation (Ydata Report):\n",
    "\n",
    "    AMT_BALANCE - MT_RECEIVABLE_PRINCIPAL, AMT_RECIVABLE, AMT_TOTAL_RECEIVABLE, AMT_INST_MIN_REGULARITY, AMT_PAYMENT_TOTAL_CURRENT\n",
    "    AMT_DRAWINGS_ATM_CURRENT - AMT_DRAWINGS_CURRENT, CNT_DRAWINGS_ATM_CURRENT,CNT_DRAWINGS_CURRENT\n",
    "    AMT_DRAWINGS_CURRENT - CNT_DRAWINGS_ATM_CURRENT, CNT_DRAWINGS_CURRENT\n",
    "    AMT_DRAWINGS_OTHER_CURRENT - CNT_DRAWINGS_OTHER_CURRENT\n",
    "    AMT_DRAWINGS_POS_CURRENT - CNT_DRAWINGS_POS_CURRENT\n",
    "    AMT_INST_MIN_REGULARITY - AMT_PAYMENT_CURRENT, AMT_PAYMENT_TOTAL_CURRENT, AMT_RECEIVABLE_PRINCIPAL, AMT_RECIVABLE, AMT_TOTAL_RECEIVABLE\n",
    "    AMT_PAYMENT_CURRENT - AMT_PAYMENT_TOTAL_CURRENT\n",
    "    AMT_PAYMENT_TOTAL_CURRENT - AMT_RECEIVABLE_PRINCIPAL, AMT_RECIVABLE, AMT_TOTAL_RECEIVABLE\n",
    "    AMT_RECEIVABLE_PRINCIPAL - AMT_RECIVABLE, AMT_TOTAL_RECEIVABLE\n",
    "    AMT_RECIVABLE - AMT_TOTAL_RECEIVABLE\n",
    "    CNT_DRAWINGS_ATM_CURRENT - CNT_DRAWINGS_CURRENT\n",
    "    SK_DPD - SK_DPD_DEF"
   ]
  },
  {
   "cell_type": "markdown",
   "id": "db30b14a-39d5-4843-a575-d0a4f2d75ad6",
   "metadata": {},
   "source": []
  },
  {
   "cell_type": "markdown",
   "id": "8c2f7767-0ba0-4dae-a85d-b913e803b278",
   "metadata": {},
   "source": [
    "## 3. Summary"
   ]
  },
  {
   "cell_type": "markdown",
   "id": "59fe39d5-61d9-4499-92c0-4f8b22ccc353",
   "metadata": {},
   "source": [
    "**Key EDA findings for Credit card balance:**\n",
    "\n",
    "    - Total features: 23 (numeric 22, categorical 1), rows: ~ 3.8M,\n",
    "\n",
    "    - Missing cells\t6.7%, rows with missing values - 21.5%,\n",
    "    \n",
    "    - Missing values (>15%):\n",
    "        - AMT_DRAWINGS_ATM_CURRENT - 19.5%\n",
    "        - AMT_DRAWINGS_OTHER_CURRENT - 19.5%\n",
    "        - AMT_DRAWINGS_POS_CURRENT - 19.5%\n",
    "        - AMT_PAYMENT_CURRENT - 20.0%\n",
    "        - CNT_DRAWINGS_ATM_CURRENT - 19.5%\n",
    "        - CNT_DRAWINGS_OTHER_CURRENT - 19.5%\n",
    "        - CNT_DRAWINGS_POS_CURRENT - 19.5%\n",
    "        \n",
    "    - Negative values (>50%):\n",
    "        - MONTHS_BALANCE - 100.0%\n",
    "\n",
    "    - Zeros (>50%):\n",
    "        - AMT_BALANCE - 56.2%\n",
    "        - AMT_DRAWINGS_ATM_CURRENT - 69.4%\n",
    "        - AMT_DRAWINGS_CURRENT - 83.9%\n",
    "        - AMT_DRAWINGS_OTHER_CURRENT - 80.2%\n",
    "        - AMT_DRAWINGS_POS_CURRENT - 73.6%\n",
    "        - AMT_INST_MIN_REGULARITY - 50.2%\n",
    "        - AMT_PAYMENT_TOTAL_CURRENT - 56.6%\n",
    "        - AMT_RECEIVABLE_PRINCIPAL - 59.8%\n",
    "        - AMT_RECIVABLE - 55.0%\n",
    "        - AMT_TOTAL_RECEIVABLE - 55.0%\n",
    "        - CNT_DRAWINGS_ATM_CURRENT - 69.4%\n",
    "        - CNT_DRAWINGS_CURRENT - 84.1%\n",
    "        - CNT_DRAWINGS_OTHER_CURRENT - 80.1%\n",
    "        - CNT_DRAWINGS_POS_CURRENT - 73.6%\n",
    "        - SK_DPD - 96.0%\n",
    "        - SK_DPD_DEF - 97.7%\n",
    "\n",
    "    - Strong correlations (>0.7):\n",
    "        - AMT_BALANCE - MT_RECEIVABLE_PRINCIPAL, AMT_RECIVABLE, AMT_TOTAL_RECEIVABLE, AMT_INST_MIN_REGULARITY, AMT_PAYMENT_TOTAL_CURRENT\n",
    "        - AMT_DRAWINGS_ATM_CURRENT - AMT_DRAWINGS_CURRENT, CNT_DRAWINGS_ATM_CURRENT,CNT_DRAWINGS_CURRENT\n",
    "        - AMT_DRAWINGS_CURRENT - CNT_DRAWINGS_ATM_CURRENT, CNT_DRAWINGS_CURRENT\n",
    "        - AMT_DRAWINGS_OTHER_CURRENT - CNT_DRAWINGS_OTHER_CURRENT\n",
    "        - AMT_DRAWINGS_POS_CURRENT - CNT_DRAWINGS_POS_CURRENT\n",
    "        - AMT_INST_MIN_REGULARITY - AMT_PAYMENT_CURRENT, AMT_PAYMENT_TOTAL_CURRENT, AMT_RECEIVABLE_PRINCIPAL, AMT_RECIVABLE, AMT_TOTAL_RECEIVABLE\n",
    "        - AMT_PAYMENT_CURRENT - AMT_PAYMENT_TOTAL_CURRENT\n",
    "        - AMT_PAYMENT_TOTAL_CURRENT - AMT_RECEIVABLE_PRINCIPAL, AMT_RECIVABLE, AMT_TOTAL_RECEIVABLE\n",
    "        - AMT_RECEIVABLE_PRINCIPAL - AMT_RECIVABLE, AMT_TOTAL_RECEIVABLE\n",
    "        - AMT_RECIVABLE - AMT_TOTAL_RECEIVABLE\n",
    "        - CNT_DRAWINGS_ATM_CURRENT - CNT_DRAWINGS_CURRENT\n",
    "        - SK_DPD - SK_DPD_DEF\n",
    "    \n",
    "    - Duplicates: None"
   ]
  },
  {
   "cell_type": "markdown",
   "id": "7fb3a3e2-3b9c-4bd0-aa6d-ea46871f76c4",
   "metadata": {},
   "source": [
    "**Planned Feature Engineering:**\n",
    "\n",
    "Ideas for feature engineering from the credit_card_balance dataset to capture a client’s credit utilization, payment discipline, delinquency risk, and spending patterns. The main steps:\n",
    "\n",
    "    1. Handling Negative & Extreme Values\n",
    "\n",
    "        - Convert negative monetary values to flags and clipp them to zero:\n",
    "\n",
    "            NEGATIVE_AMT_BALANCE, NEGATIVE_AMT_RECEIVABLE_PRINCIPAL, etc.\n",
    "\n",
    "        - Capp extreme delinquency (SK_DPD, SK_DPD_DEF) at 365 days to reduce outlier impact.\n",
    "\n",
    "    2. Feature Engineering\n",
    "\n",
    "        - Credit Utilization:\n",
    "\n",
    "            CREDIT_UTILIZATION_RATIO = AMT_BALANCE / AMT_CREDIT_LIMIT_ACTUAL (capped at 1.5)\n",
    "\n",
    "        - Payment Behavior:\n",
    "\n",
    "            MIN_PAYMENT_RATIO = AMT_PAYMENT_CURRENT / AMT_INST_MIN_REGULARITY\n",
    "\n",
    "            MADE_MINIMUM_PAYMENT = flag if ratio ≥ 95%\n",
    "\n",
    "            PAYMENT_TO_BALANCE_RATIO = AMT_PAYMENT_CURRENT / (AMT_BALANCE + 1)\n",
    "\n",
    "        - Spending Behavior:\n",
    "\n",
    "            ATM_DRAWING_RATIO = ATM drawings / total drawings\n",
    "\n",
    "            DRAWINGS_TO_PAYMENTS_RATIO = AMT_DRAWINGS_CURRENT / (AMT_PAYMENT_CURRENT + 1)\n",
    "\n",
    "        - Delinquency:\n",
    "\n",
    "            IS_DELINQUENT = flag if SK_DPD > 0\n",
    "\n",
    "            IS_SERIOUSLY_DELINQUENT = flag if SK_DPD > 30\n",
    "\n",
    "        - Trends & Activity:\n",
    "\n",
    "            UTILIZATION_ROLLING_MEAN = 3-month rolling avg of utilization\n",
    "\n",
    "            IS_ACTIVE = flag if contract status = Active\n",
    "\n",
    "    3. Statistical Aggregations (per SK_ID_CURR)\n",
    "\n",
    "        - Credit Utilization Metrics: mean, max, last utilization\n",
    "\n",
    "        - Balance & Payments: mean, sum, max, std of AMT_BALANCE, AMT_PAYMENT_CURRENT\n",
    "\n",
    "        - Behavior Ratios: mean & max of MIN_PAYMENT_RATIO, DRAWINGS_TO_PAYMENTS_RATIO, PAYMENT_TO_BALANCE_RATIO\n",
    "\n",
    "        - Spending: sum & max of drawings, ATM ratio\n",
    "\n",
    "        - Delinquency: max & mean SK_DPD and SK_DPD_DEF, delinquency flags\n",
    "\n",
    "        - Trends: first & last utilization rolling mean\n",
    "\n",
    "        - Activity: avg IS_ACTIVE\n",
    "\n",
    "    4. Client-Level Summary\n",
    "\n",
    "        - Aggregate all features at client level (SK_ID_CURR) using:\n",
    "\n",
    "            mean, max, sum, last, std where relevant\n",
    "\n",
    "        - Flags to capture ever delinquent, ever serious delinquency, activity ratio\n",
    "\n",
    "    5. Feature Selection\n",
    "\n",
    "        - Select top features using LightGBM importance + ROC-AUC ranking.\n",
    "\n",
    "        - Key features retained (must keep):\n",
    "\n",
    "            CC_SK_DPD_max, CC_IS_DELINQUENT_max, CC_IS_SERIOUSLY_DELINQUENT_max, CC_SK_DPD_DEF_max\n",
    "\n",
    "            High-impact ratios & rolling trends.\n",
    "\n",
    "    6. Must keep list:\n",
    "    \n",
    "        \"CC_SK_DPD_max\" - Maximum number of days past due across all credit card statements.\n",
    "        \n",
    "        \"CC_IS_DELINQUENT_max\" - Indicator if the client was ever delinquent (any overdue payments).\n",
    "        \n",
    "        \"CC_IS_SERIOUSLY_DELINQUENT_max\" – Indicator if the client was ever seriously delinquent (high days past due).\n",
    "        \n",
    "        \"CC_SK_DPD_DEF_max\" – Maximum number of days past due on credit card accounts considered in default.\n",
    "\n",
    "    7. Planned Result\n",
    "\n",
    "        Use LightGBM importance + ROC-AUC ranking to select top features.\n",
    "\n",
    "        Merge selected features to main data frame for model training."
   ]
  },
  {
   "cell_type": "markdown",
   "id": "09ba9b11-424a-4db0-b00f-a50452a17a74",
   "metadata": {},
   "source": []
  }
 ],
 "metadata": {
  "kernelspec": {
   "display_name": "Python (myenv)",
   "language": "python",
   "name": "myenv"
  },
  "language_info": {
   "codemirror_mode": {
    "name": "ipython",
    "version": 3
   },
   "file_extension": ".py",
   "mimetype": "text/x-python",
   "name": "python",
   "nbconvert_exporter": "python",
   "pygments_lexer": "ipython3",
   "version": "3.11.9"
  }
 },
 "nbformat": 4,
 "nbformat_minor": 5
}
