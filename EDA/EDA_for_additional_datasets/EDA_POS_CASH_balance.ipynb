{
 "cells": [
  {
   "cell_type": "markdown",
   "id": "3b1951dc-8916-4afe-a129-fbce58526e3a",
   "metadata": {},
   "source": [
    "# Home Credit Default Risk - EDA POS_CASH_balance"
   ]
  },
  {
   "cell_type": "markdown",
   "id": "43cb92c7-a096-46f1-a9ad-088aa6ee1e7f",
   "metadata": {},
   "source": [
    "## 1. Introduction"
   ]
  },
  {
   "cell_type": "markdown",
   "id": "bfd173ba-afb8-4221-83c8-8c93b62ba357",
   "metadata": {},
   "source": [
    "**Context:**\n",
    "\n",
    "This notebook contains basic EDA for POS CASH balance data set.\n",
    "\n",
    "This is additional source of data (application_train/application_test are the main training and testing data).\n",
    "\n",
    "POS_CASH_balance.csv\n",
    "\n",
    "    Monthly balance snapshots of previous POS (point of sales) and cash loans that the applicant had with Home Credit.\n",
    "    This table has one row for each month of history of every previous credit in Home Credit (consumer credit and cash loans) related to loans in our sample – i.e. the table has (#loans in sample * # of relative previous credits * # of months in which we have some history observable for the previous credits) rows.\n",
    "\n",
    "**Goals:**\n",
    "\n",
    "    To comprehensively understand the dataset's structure, identify key patterns, and discover meaningful insights that will inform a robust feature engineering and modeling strategy.\n",
    "\n",
    "**Objectives:**\n",
    "\n",
    "    Conduct a comprehensive Exploratory Data Analysis (EDA): Perform an in-depth exploration of the datasets to understand their statistical properties and distributions.\n",
    "\n",
    "    Identify and address data quality issues: Investigate missing values, identify and handle data anomalies.\n",
    "\n",
    "    Analyze feature relationships: Evaluate correlations between features and assess their individual relationships with the target variable to prioritize their importance for the model.\n",
    "\n",
    "    Leverage automated tools for initial insights: Utilize libraries like Sweetviz to quickly generate an initial feature exploration report.\n"
   ]
  },
  {
   "cell_type": "markdown",
   "id": "1323ffeb-25c1-430b-b280-58a2071cfd28",
   "metadata": {},
   "source": []
  },
  {
   "cell_type": "markdown",
   "id": "fcb1999a-3424-4274-b4d8-555f3eeeb22f",
   "metadata": {},
   "source": [
    "## 2. Exploratory Data Analysis (EDA)"
   ]
  },
  {
   "cell_type": "markdown",
   "id": "3086a715-6e0a-4223-8c3f-b635bb9afae0",
   "metadata": {},
   "source": [
    "### A. Data loading & Initial checks"
   ]
  },
  {
   "cell_type": "code",
   "execution_count": 1,
   "id": "3f5e517c-1eb1-48e0-804d-81198e55c1de",
   "metadata": {},
   "outputs": [],
   "source": [
    "%load_ext jupyter_black"
   ]
  },
  {
   "cell_type": "code",
   "execution_count": 2,
   "id": "640fc3cf-a79b-443e-a83f-f11c68324f84",
   "metadata": {},
   "outputs": [
    {
     "data": {
      "text/html": [
       "\n",
       "            <div>\n",
       "                <ins><a href=\"https://ydata.ai/register\">Upgrade to ydata-sdk</a></ins>\n",
       "                <p>\n",
       "                    Improve your data and profiling with ydata-sdk, featuring data quality scoring, redundancy detection, outlier identification, text validation, and synthetic data generation.\n",
       "                </p>\n",
       "            </div>\n",
       "            "
      ],
      "text/plain": [
       "<IPython.core.display.HTML object>"
      ]
     },
     "metadata": {},
     "output_type": "display_data"
    }
   ],
   "source": [
    "import pandas as pd\n",
    "import numpy as np\n",
    "import sys\n",
    "import os\n",
    "from typing import Dict, Optional, List, Tuple, Union\n",
    "import warnings\n",
    "\n",
    "warnings.filterwarnings(\"ignore\", category=UserWarning, module=\"sweetviz.graph\")\n",
    "import sweetviz as sv\n",
    "from ydata_profiling import ProfileReport\n",
    "from IPython.display import IFrame"
   ]
  },
  {
   "cell_type": "code",
   "execution_count": 3,
   "id": "3c6d7c16-4810-47bf-8d5d-65f50495880c",
   "metadata": {},
   "outputs": [],
   "source": [
    "sys.path.append(os.path.abspath(\"..\"))\n",
    "from Data.utils_EDA import feature_types, missing_columns, calculate_missing_rows\n",
    "from Data.utils_modeling import downcast_numeric_col"
   ]
  },
  {
   "cell_type": "code",
   "execution_count": 4,
   "id": "ba47644b-7c11-4bd2-a8ad-6325a54d2b51",
   "metadata": {},
   "outputs": [
    {
     "data": {
      "text/plain": [
       "(10001358, 8)"
      ]
     },
     "execution_count": 4,
     "metadata": {},
     "output_type": "execute_result"
    }
   ],
   "source": [
    "pos = pd.read_csv(r\"..\\Data\\POS_CASH_balance.csv\")\n",
    "pos.shape"
   ]
  },
  {
   "cell_type": "markdown",
   "id": "c852ec47-b267-415e-9b0f-198e7054bb7e",
   "metadata": {},
   "source": [
    "**Downcasting numeric columns**"
   ]
  },
  {
   "cell_type": "code",
   "execution_count": 5,
   "id": "1cfce925-492f-450d-ab49-9348423af96e",
   "metadata": {},
   "outputs": [
    {
     "data": {
      "text/plain": [
       "array([dtype('int32'), dtype('int8'), dtype('float32'), dtype('O'),\n",
       "       dtype('int16')], dtype=object)"
      ]
     },
     "execution_count": 5,
     "metadata": {},
     "output_type": "execute_result"
    }
   ],
   "source": [
    "pos = pos.copy()\n",
    "downcast_numeric_col(pos)\n",
    "pos.dtypes.unique()"
   ]
  },
  {
   "cell_type": "code",
   "execution_count": 6,
   "id": "a9854d42-e61b-4fd8-8997-c8d9282001e5",
   "metadata": {},
   "outputs": [
    {
     "data": {
      "text/html": [
       "<div>\n",
       "<style scoped>\n",
       "    .dataframe tbody tr th:only-of-type {\n",
       "        vertical-align: middle;\n",
       "    }\n",
       "\n",
       "    .dataframe tbody tr th {\n",
       "        vertical-align: top;\n",
       "    }\n",
       "\n",
       "    .dataframe thead th {\n",
       "        text-align: right;\n",
       "    }\n",
       "</style>\n",
       "<table border=\"1\" class=\"dataframe\">\n",
       "  <thead>\n",
       "    <tr style=\"text-align: right;\">\n",
       "      <th></th>\n",
       "      <th>SK_ID_PREV</th>\n",
       "      <th>SK_ID_CURR</th>\n",
       "      <th>MONTHS_BALANCE</th>\n",
       "      <th>CNT_INSTALMENT</th>\n",
       "      <th>CNT_INSTALMENT_FUTURE</th>\n",
       "      <th>NAME_CONTRACT_STATUS</th>\n",
       "      <th>SK_DPD</th>\n",
       "      <th>SK_DPD_DEF</th>\n",
       "    </tr>\n",
       "  </thead>\n",
       "  <tbody>\n",
       "    <tr>\n",
       "      <th>0</th>\n",
       "      <td>1803195</td>\n",
       "      <td>182943</td>\n",
       "      <td>-31</td>\n",
       "      <td>48.0</td>\n",
       "      <td>45.0</td>\n",
       "      <td>Active</td>\n",
       "      <td>0</td>\n",
       "      <td>0</td>\n",
       "    </tr>\n",
       "    <tr>\n",
       "      <th>1</th>\n",
       "      <td>1715348</td>\n",
       "      <td>367990</td>\n",
       "      <td>-33</td>\n",
       "      <td>36.0</td>\n",
       "      <td>35.0</td>\n",
       "      <td>Active</td>\n",
       "      <td>0</td>\n",
       "      <td>0</td>\n",
       "    </tr>\n",
       "    <tr>\n",
       "      <th>2</th>\n",
       "      <td>1784872</td>\n",
       "      <td>397406</td>\n",
       "      <td>-32</td>\n",
       "      <td>12.0</td>\n",
       "      <td>9.0</td>\n",
       "      <td>Active</td>\n",
       "      <td>0</td>\n",
       "      <td>0</td>\n",
       "    </tr>\n",
       "    <tr>\n",
       "      <th>3</th>\n",
       "      <td>1903291</td>\n",
       "      <td>269225</td>\n",
       "      <td>-35</td>\n",
       "      <td>48.0</td>\n",
       "      <td>42.0</td>\n",
       "      <td>Active</td>\n",
       "      <td>0</td>\n",
       "      <td>0</td>\n",
       "    </tr>\n",
       "    <tr>\n",
       "      <th>4</th>\n",
       "      <td>2341044</td>\n",
       "      <td>334279</td>\n",
       "      <td>-35</td>\n",
       "      <td>36.0</td>\n",
       "      <td>35.0</td>\n",
       "      <td>Active</td>\n",
       "      <td>0</td>\n",
       "      <td>0</td>\n",
       "    </tr>\n",
       "  </tbody>\n",
       "</table>\n",
       "</div>"
      ],
      "text/plain": [
       "   SK_ID_PREV  SK_ID_CURR  MONTHS_BALANCE  CNT_INSTALMENT  \\\n",
       "0     1803195      182943             -31            48.0   \n",
       "1     1715348      367990             -33            36.0   \n",
       "2     1784872      397406             -32            12.0   \n",
       "3     1903291      269225             -35            48.0   \n",
       "4     2341044      334279             -35            36.0   \n",
       "\n",
       "   CNT_INSTALMENT_FUTURE NAME_CONTRACT_STATUS  SK_DPD  SK_DPD_DEF  \n",
       "0                   45.0               Active       0           0  \n",
       "1                   35.0               Active       0           0  \n",
       "2                    9.0               Active       0           0  \n",
       "3                   42.0               Active       0           0  \n",
       "4                   35.0               Active       0           0  "
      ]
     },
     "execution_count": 6,
     "metadata": {},
     "output_type": "execute_result"
    }
   ],
   "source": [
    "pos.head()"
   ]
  },
  {
   "cell_type": "code",
   "execution_count": 7,
   "id": "e6c55d5e-66e1-4166-82cb-dae8d138d8a6",
   "metadata": {
    "scrolled": true
   },
   "outputs": [
    {
     "name": "stdout",
     "output_type": "stream",
     "text": [
      "<class 'pandas.core.frame.DataFrame'>\n",
      "RangeIndex: 10001358 entries, 0 to 10001357\n",
      "Data columns (total 8 columns):\n",
      " #   Column                 Dtype  \n",
      "---  ------                 -----  \n",
      " 0   SK_ID_PREV             int32  \n",
      " 1   SK_ID_CURR             int32  \n",
      " 2   MONTHS_BALANCE         int8   \n",
      " 3   CNT_INSTALMENT         float32\n",
      " 4   CNT_INSTALMENT_FUTURE  float32\n",
      " 5   NAME_CONTRACT_STATUS   object \n",
      " 6   SK_DPD                 int16  \n",
      " 7   SK_DPD_DEF             int16  \n",
      "dtypes: float32(2), int16(2), int32(2), int8(1), object(1)\n",
      "memory usage: 276.6+ MB\n"
     ]
    }
   ],
   "source": [
    "pos.info()"
   ]
  },
  {
   "cell_type": "markdown",
   "id": "6daf47ab-a975-4e05-88d5-d83745139b77",
   "metadata": {},
   "source": [
    "**Feature descriptions:**\n"
   ]
  },
  {
   "attachments": {},
   "cell_type": "markdown",
   "id": "74c01c66-e4f5-4d28-881c-06ccccdf0ff8",
   "metadata": {},
   "source": [
    "1. SK_ID_PREV ,\"ID of previous credit in Home Credit related to loan in our sample. (One loan in our sample can have 0,1,2 or more previous loans in Home Credit)\",\n",
    "\n",
    "2. SK_ID_CURR,ID of loan in our sample,\n",
    "\n",
    "3. MONTHS_BALANCE,\"Month of balance relative to application date (-1 means the information to the freshest monthly snapshot, 0 means the information at application - often it will be the same as -1 as many banks are not updating the information to Credit Bureau regularly )\",time only relative to the application\n",
    "\n",
    "4. CNT_INSTALMENT,Term of previous credit (can change over time),\n",
    "\n",
    "5. CNT_INSTALMENT_FUTURE,Installments left to pay on the previous credit,\n",
    "\n",
    "6. 6 .NAME_CONTRACT_STATUS,Contract status during the month,\n",
    "\n",
    "7. SK_DPD,DPD (days past due) during the month of previous credit,\n",
    "\n",
    "8. SK_DPD_DEF,DPD during the month with tolerance (debts with low loan amounts are ignored) of the previous credit"
   ]
  },
  {
   "cell_type": "markdown",
   "id": "74c9d640-4015-43b1-bb28-985c0e34ede8",
   "metadata": {},
   "source": [
    "**Feature types**"
   ]
  },
  {
   "cell_type": "code",
   "execution_count": 8,
   "id": "6417a1bd-b3d9-42d3-8c04-506f637fd185",
   "metadata": {},
   "outputs": [
    {
     "name": "stdout",
     "output_type": "stream",
     "text": [
      "Numerical features: ['SK_ID_PREV', 'SK_ID_CURR', 'MONTHS_BALANCE', 'CNT_INSTALMENT', 'CNT_INSTALMENT_FUTURE', 'SK_DPD', 'SK_DPD_DEF']\n",
      "Categorical features: ['NAME_CONTRACT_STATUS']\n",
      "Binary features: []\n"
     ]
    }
   ],
   "source": [
    "feature_types(pos)"
   ]
  },
  {
   "cell_type": "code",
   "execution_count": 9,
   "id": "51b17450-661f-405c-b8df-6e50acd40941",
   "metadata": {},
   "outputs": [
    {
     "data": {
      "text/plain": [
       "int32      2\n",
       "float32    2\n",
       "int16      2\n",
       "int8       1\n",
       "object     1\n",
       "Name: count, dtype: int64"
      ]
     },
     "execution_count": 9,
     "metadata": {},
     "output_type": "execute_result"
    }
   ],
   "source": [
    "pos.dtypes.value_counts()"
   ]
  },
  {
   "cell_type": "code",
   "execution_count": 10,
   "id": "9e149642-d4c2-47d5-a6a7-8c16d7d382d9",
   "metadata": {},
   "outputs": [
    {
     "data": {
      "text/html": [
       "<div>\n",
       "<style scoped>\n",
       "    .dataframe tbody tr th:only-of-type {\n",
       "        vertical-align: middle;\n",
       "    }\n",
       "\n",
       "    .dataframe tbody tr th {\n",
       "        vertical-align: top;\n",
       "    }\n",
       "\n",
       "    .dataframe thead th {\n",
       "        text-align: right;\n",
       "    }\n",
       "</style>\n",
       "<table border=\"1\" class=\"dataframe\">\n",
       "  <thead>\n",
       "    <tr style=\"text-align: right;\">\n",
       "      <th></th>\n",
       "      <th>count</th>\n",
       "      <th>mean</th>\n",
       "      <th>std</th>\n",
       "      <th>min</th>\n",
       "      <th>25%</th>\n",
       "      <th>50%</th>\n",
       "      <th>75%</th>\n",
       "      <th>max</th>\n",
       "    </tr>\n",
       "  </thead>\n",
       "  <tbody>\n",
       "    <tr>\n",
       "      <th>SK_ID_PREV</th>\n",
       "      <td>10001358.0</td>\n",
       "      <td>1.903217e+06</td>\n",
       "      <td>535846.530722</td>\n",
       "      <td>1000001.0</td>\n",
       "      <td>1434405.0</td>\n",
       "      <td>1896565.0</td>\n",
       "      <td>2368963.0</td>\n",
       "      <td>2843499.0</td>\n",
       "    </tr>\n",
       "    <tr>\n",
       "      <th>SK_ID_CURR</th>\n",
       "      <td>10001358.0</td>\n",
       "      <td>2.784039e+05</td>\n",
       "      <td>102763.745090</td>\n",
       "      <td>100001.0</td>\n",
       "      <td>189550.0</td>\n",
       "      <td>278654.0</td>\n",
       "      <td>367429.0</td>\n",
       "      <td>456255.0</td>\n",
       "    </tr>\n",
       "    <tr>\n",
       "      <th>MONTHS_BALANCE</th>\n",
       "      <td>10001358.0</td>\n",
       "      <td>-3.501259e+01</td>\n",
       "      <td>26.066570</td>\n",
       "      <td>-96.0</td>\n",
       "      <td>-54.0</td>\n",
       "      <td>-28.0</td>\n",
       "      <td>-13.0</td>\n",
       "      <td>-1.0</td>\n",
       "    </tr>\n",
       "    <tr>\n",
       "      <th>CNT_INSTALMENT</th>\n",
       "      <td>9975287.0</td>\n",
       "      <td>1.708964e+01</td>\n",
       "      <td>11.995056</td>\n",
       "      <td>1.0</td>\n",
       "      <td>10.0</td>\n",
       "      <td>12.0</td>\n",
       "      <td>24.0</td>\n",
       "      <td>92.0</td>\n",
       "    </tr>\n",
       "    <tr>\n",
       "      <th>CNT_INSTALMENT_FUTURE</th>\n",
       "      <td>9975271.0</td>\n",
       "      <td>1.048384e+01</td>\n",
       "      <td>11.109057</td>\n",
       "      <td>0.0</td>\n",
       "      <td>3.0</td>\n",
       "      <td>7.0</td>\n",
       "      <td>14.0</td>\n",
       "      <td>85.0</td>\n",
       "    </tr>\n",
       "    <tr>\n",
       "      <th>SK_DPD</th>\n",
       "      <td>10001358.0</td>\n",
       "      <td>1.160693e+01</td>\n",
       "      <td>132.714043</td>\n",
       "      <td>0.0</td>\n",
       "      <td>0.0</td>\n",
       "      <td>0.0</td>\n",
       "      <td>0.0</td>\n",
       "      <td>4231.0</td>\n",
       "    </tr>\n",
       "    <tr>\n",
       "      <th>SK_DPD_DEF</th>\n",
       "      <td>10001358.0</td>\n",
       "      <td>6.544684e-01</td>\n",
       "      <td>32.762491</td>\n",
       "      <td>0.0</td>\n",
       "      <td>0.0</td>\n",
       "      <td>0.0</td>\n",
       "      <td>0.0</td>\n",
       "      <td>3595.0</td>\n",
       "    </tr>\n",
       "  </tbody>\n",
       "</table>\n",
       "</div>"
      ],
      "text/plain": [
       "                            count          mean            std        min  \\\n",
       "SK_ID_PREV             10001358.0  1.903217e+06  535846.530722  1000001.0   \n",
       "SK_ID_CURR             10001358.0  2.784039e+05  102763.745090   100001.0   \n",
       "MONTHS_BALANCE         10001358.0 -3.501259e+01      26.066570      -96.0   \n",
       "CNT_INSTALMENT          9975287.0  1.708964e+01      11.995056        1.0   \n",
       "CNT_INSTALMENT_FUTURE   9975271.0  1.048384e+01      11.109057        0.0   \n",
       "SK_DPD                 10001358.0  1.160693e+01     132.714043        0.0   \n",
       "SK_DPD_DEF             10001358.0  6.544684e-01      32.762491        0.0   \n",
       "\n",
       "                             25%        50%        75%        max  \n",
       "SK_ID_PREV             1434405.0  1896565.0  2368963.0  2843499.0  \n",
       "SK_ID_CURR              189550.0   278654.0   367429.0   456255.0  \n",
       "MONTHS_BALANCE             -54.0      -28.0      -13.0       -1.0  \n",
       "CNT_INSTALMENT              10.0       12.0       24.0       92.0  \n",
       "CNT_INSTALMENT_FUTURE        3.0        7.0       14.0       85.0  \n",
       "SK_DPD                       0.0        0.0        0.0     4231.0  \n",
       "SK_DPD_DEF                   0.0        0.0        0.0     3595.0  "
      ]
     },
     "execution_count": 10,
     "metadata": {},
     "output_type": "execute_result"
    }
   ],
   "source": [
    "pd.set_option(\"display.max_rows\", 120)\n",
    "pd.set_option(\"display.max_columns\", 120)\n",
    "\n",
    "pos.describe().T"
   ]
  },
  {
   "cell_type": "markdown",
   "id": "61dddbec-e65d-4193-93d8-7c5525750d68",
   "metadata": {},
   "source": [
    "**Key insights:**\n",
    "\n",
    "CNT_INSTALMENT, CNT_INSTALMENT_FUTURE: Most loans are short- to medium-term, with relatively few future installments remaining. \n",
    "\n",
    "SK_DPD, SK_DPD_DEF: The majority of borrowers are not delinquent, but there are significant outliers with extreme delays and defaults."
   ]
  },
  {
   "cell_type": "raw",
   "id": "1ec0fab2-eda4-4215-91c0-ac42aad22b21",
   "metadata": {},
   "source": []
  },
  {
   "cell_type": "markdown",
   "id": "d6329e51-c4b0-4085-916f-40575fea044f",
   "metadata": {},
   "source": [
    "**Missing values**"
   ]
  },
  {
   "cell_type": "code",
   "execution_count": 11,
   "id": "3c7aa44e-905a-4b72-b7fe-e6df05ede557",
   "metadata": {},
   "outputs": [
    {
     "data": {
      "text/html": [
       "<div>\n",
       "<style scoped>\n",
       "    .dataframe tbody tr th:only-of-type {\n",
       "        vertical-align: middle;\n",
       "    }\n",
       "\n",
       "    .dataframe tbody tr th {\n",
       "        vertical-align: top;\n",
       "    }\n",
       "\n",
       "    .dataframe thead th {\n",
       "        text-align: right;\n",
       "    }\n",
       "</style>\n",
       "<table border=\"1\" class=\"dataframe\">\n",
       "  <thead>\n",
       "    <tr style=\"text-align: right;\">\n",
       "      <th></th>\n",
       "      <th>Missing Count</th>\n",
       "      <th>Missing Count Ratio</th>\n",
       "      <th>Missing Count %</th>\n",
       "    </tr>\n",
       "  </thead>\n",
       "  <tbody>\n",
       "    <tr>\n",
       "      <th>CNT_INSTALMENT_FUTURE</th>\n",
       "      <td>26087</td>\n",
       "      <td>0.002608</td>\n",
       "      <td>0.3</td>\n",
       "    </tr>\n",
       "    <tr>\n",
       "      <th>CNT_INSTALMENT</th>\n",
       "      <td>26071</td>\n",
       "      <td>0.002607</td>\n",
       "      <td>0.3</td>\n",
       "    </tr>\n",
       "  </tbody>\n",
       "</table>\n",
       "</div>"
      ],
      "text/plain": [
       "                       Missing Count  Missing Count Ratio  Missing Count %\n",
       "CNT_INSTALMENT_FUTURE          26087             0.002608              0.3\n",
       "CNT_INSTALMENT                 26071             0.002607              0.3"
      ]
     },
     "execution_count": 11,
     "metadata": {},
     "output_type": "execute_result"
    }
   ],
   "source": [
    "missing_columns(pos)"
   ]
  },
  {
   "cell_type": "code",
   "execution_count": 12,
   "id": "98c34deb-91d9-4540-8434-bbe161808664",
   "metadata": {},
   "outputs": [
    {
     "name": "stdout",
     "output_type": "stream",
     "text": [
      "Missing rows: 26184 of 10001358 total rows in data set.\n",
      "Missing rows %: 0.26\n"
     ]
    }
   ],
   "source": [
    "calculate_missing_rows(pos)"
   ]
  },
  {
   "cell_type": "markdown",
   "id": "87cc9148-7fe2-49b0-ba38-4bd94baad4d8",
   "metadata": {},
   "source": [
    "Almost no missing values. We will use imputation."
   ]
  },
  {
   "cell_type": "markdown",
   "id": "996225ca-cfa0-4ed7-999f-5da0994775ea",
   "metadata": {},
   "source": []
  },
  {
   "cell_type": "markdown",
   "id": "746d65dc-7d69-4fd2-b255-de6083dd20f0",
   "metadata": {},
   "source": [
    "**Checking for duplicates.**"
   ]
  },
  {
   "cell_type": "code",
   "execution_count": 13,
   "id": "0ec8bed3-571d-482f-ab16-3b91540c8df9",
   "metadata": {},
   "outputs": [
    {
     "name": "stdout",
     "output_type": "stream",
     "text": [
      "Duplicates: 0, 0.00%\n"
     ]
    }
   ],
   "source": [
    "print(\n",
    "    f\"Duplicates: {pos.duplicated().sum()}, {(pos.duplicated().sum() / len(pos) * 100):.2f}%\"\n",
    ")"
   ]
  },
  {
   "cell_type": "markdown",
   "id": "a033613e-ebb3-4ad5-9d39-707d7f49a8fa",
   "metadata": {},
   "source": [
    "No duplicates in this dataset."
   ]
  },
  {
   "cell_type": "markdown",
   "id": "c8673be2-8895-42af-90b5-13b58657ad6b",
   "metadata": {},
   "source": []
  },
  {
   "cell_type": "markdown",
   "id": "55fa87ce-77f6-473d-bfda-183cdd228e89",
   "metadata": {},
   "source": [
    "**Sweetviz report**\n",
    "\n",
    "We can find the report in EDA folder."
   ]
  },
  {
   "cell_type": "code",
   "execution_count": null,
   "id": "737627d3-b165-4159-ade1-d3bc705119fc",
   "metadata": {
    "scrolled": true
   },
   "outputs": [],
   "source": [
    "report = sv.analyze(df)\n",
    "html_file = f\"POS_CASH_balance_sweetviz_report.html\"\n",
    "report.show_html(html_file)\n",
    "#display(IFrame(html_file, width=950, height=600))"
   ]
  },
  {
   "cell_type": "markdown",
   "id": "f570ab08-5f61-4e3b-a620-df2cefde109b",
   "metadata": {},
   "source": []
  },
  {
   "cell_type": "markdown",
   "id": "6eb1d9ed-383f-45b6-8be8-7805f54f0779",
   "metadata": {},
   "source": [
    "**Ydata Report**\n",
    "\n",
    "We can find the report in EDA folder."
   ]
  },
  {
   "cell_type": "code",
   "execution_count": null,
   "id": "b8399ab1-f6b7-45da-8f4a-9893117eb0bc",
   "metadata": {},
   "outputs": [],
   "source": [
    "profile = ProfileReport(df, title=\"POS_CASH_balance EDA\", explorative=True)\n",
    "\n",
    "profile.to_file(\"POS_CASH_balance_EDA.html\")"
   ]
  },
  {
   "cell_type": "markdown",
   "id": "8c56aee3-9f88-46e8-8f8a-3e349b844843",
   "metadata": {},
   "source": []
  },
  {
   "cell_type": "markdown",
   "id": "b817f1ef-f35c-435d-b974-9b0f1c9acc34",
   "metadata": {},
   "source": [
    "### B. Feature analysis"
   ]
  },
  {
   "cell_type": "markdown",
   "id": "cdaeda2e-4466-4470-8746-0c4277c231fc",
   "metadata": {},
   "source": [
    "    MONTHS_BALANCE - Month of balance relative to application date (-1 means the information to the freshest monthly snapshot, 0 means the information at application - often it will be the same as -1 as many banks are not updating the information to Credit Bureau regularly ),time only relative to the application"
   ]
  },
  {
   "cell_type": "markdown",
   "id": "da330bff-700e-4eba-9996-b86bad6c78a8",
   "metadata": {},
   "source": [
    "Numerical, no missing values, no zeros.\n",
    "\n",
    "Minimum\t-96 (8 years), Maximum\t-1, Mean -35.0. Left skewed. Outliers."
   ]
  },
  {
   "cell_type": "markdown",
   "id": "aba86a7f-9b32-486e-aad1-687bf0b5cb8f",
   "metadata": {},
   "source": []
  },
  {
   "cell_type": "markdown",
   "id": "3663edf5-7c22-49f1-ac07-a6fc3d62c8e6",
   "metadata": {},
   "source": [
    "    CNT_INSTALMENT - Term of previous credit (can change over time)"
   ]
  },
  {
   "cell_type": "markdown",
   "id": "4aa87a97-ec26-44f7-a193-01cc22b74bfc",
   "metadata": {},
   "source": [
    "High correlation with CNT_INSTALMENT_FUTURE.\n",
    "\n",
    "Numerical, 0.3% missing values, no zeros.\n",
    "\n",
    "Minimum\t1, Maximum 92 (7.7 years), Mean\t17.1. Right skewed. Outliers."
   ]
  },
  {
   "cell_type": "markdown",
   "id": "f8a89b7f-0f4d-49d5-b8f6-bd730d7c5ea8",
   "metadata": {},
   "source": []
  },
  {
   "cell_type": "markdown",
   "id": "592040c9-266f-44f3-be66-9a11b4a7a91a",
   "metadata": {},
   "source": [
    "    CNT_INSTALMENT_FUTURE - Installments left to pay on the previous credit"
   ]
  },
  {
   "cell_type": "markdown",
   "id": "a7fcda56-e15f-4e58-bfd3-b6292964c0a7",
   "metadata": {},
   "source": [
    "High correlation with CNT_INSTALMENT.\n",
    "\n",
    "Numerical, 0.3% missing values, 11.9% zeros.\n",
    "\n",
    "Minimum\t0, Maximum\t85 (7.1 years), Mean 10.5. Right skewed. Outliers.\n",
    "\n",
    "    Feature engineering:\n",
    "    - how much credit left to pay INSTALMENTS_COMPLETED_RATIO = 1 - CNT_INSTALMENT_FUTURE / (CNT_INSTALMENT +1)"
   ]
  },
  {
   "cell_type": "markdown",
   "id": "8f70b0c7-82f7-4623-bcb0-d176b9d83e23",
   "metadata": {},
   "source": []
  },
  {
   "cell_type": "markdown",
   "id": "9704dc6f-3d8f-48eb-a577-fae0a1a55821",
   "metadata": {},
   "source": [
    "    NAME_CONTRACT_STATUS - Contract status during the month"
   ]
  },
  {
   "cell_type": "markdown",
   "id": "bf48b1b8-1f10-4866-9f4f-2529f8a8e53d",
   "metadata": {},
   "source": [
    "Categorical, no missing values, imbalanced: Active 91.5%, Completed 7.4%.\n",
    "\n",
    "    Flags for Active, Completed and Other (Signed, Demand, Returned to the store, Approved, Amortized debt, Canceled)."
   ]
  },
  {
   "cell_type": "markdown",
   "id": "7a270f61-f733-48cd-b56f-8d60a786726f",
   "metadata": {},
   "source": []
  },
  {
   "cell_type": "markdown",
   "id": "0accfa93-2821-47f3-937b-3bb554d6d1ab",
   "metadata": {},
   "source": [
    "    SK_DPD - DPD (days past due) during the month of previous credit"
   ]
  },
  {
   "cell_type": "markdown",
   "id": "b6deff0b-6e1a-409a-8416-6ab4d180a9ff",
   "metadata": {},
   "source": [
    "Numerical, no missing values, 97.0% zeros.\n",
    "\n",
    "Minimum\t0, Maximum 4,231 (~11.6 years), Mean 11.6. Outliers.\n",
    "\n",
    "    Clip outliers on 365 (beyond 1 year, risk is already extreme).\n",
    "    Feature engineering:\n",
    "    - Delinquency flags:\n",
    "        IS_DELINQUENT = SK_DPD > 0\n",
    "        IS_SERIOUSLY_DELINQUENT = SK_DPD > 30\n",
    "    - Calculate difference between last and first SK_DPD for deterioration detection"
   ]
  },
  {
   "cell_type": "markdown",
   "id": "f26b31f5-b61b-4903-bbd7-22c0ad8424a5",
   "metadata": {},
   "source": []
  },
  {
   "cell_type": "markdown",
   "id": "cc336b37-30e6-44ac-a647-c02a67f74ab7",
   "metadata": {},
   "source": [
    "    SK_DPD_DEF - DPD during the month with tolerance (debts with low loan amounts are ignored) of the previous credit"
   ]
  },
  {
   "cell_type": "markdown",
   "id": "7fa15eea-887c-417f-ac56-394eadd0e313",
   "metadata": {},
   "source": [
    "Numerical, no missing values, 98.9% zeros.\n",
    "\n",
    "Minimum\t0, Maximum 3595 (~9.85 years), Mean 0.65. Outliers.\n",
    "\n",
    "    Clip outliers on 365 (beyond 1 year, risk is already extreme).\n",
    "    Feature engineering:\n",
    "    - Delinquency flag SK_DPD_DEF > 0"
   ]
  },
  {
   "cell_type": "markdown",
   "id": "53af1c86-dad0-4599-af9e-7b07da631601",
   "metadata": {},
   "source": []
  },
  {
   "cell_type": "markdown",
   "id": "024a46e7-9a91-406d-88e3-e11fcd09bfab",
   "metadata": {},
   "source": [
    "### Correlation"
   ]
  },
  {
   "cell_type": "markdown",
   "id": "63129b4a-d925-46aa-b6f2-add211f49f1c",
   "metadata": {},
   "source": [
    "We will analyze the relationships between features using a Ydata-Quality report. This report will provide a comprehensive overview of our data, including an automated correlation matrix for all features.\n",
    "\n",
    "To determine which features are most impactful for our model, we will use a more robust method: LightGBM's feature importance. After aggregating the columns from specific datasets into our main dataset, the LightGBM model will automatically calculate the importance of each feature in predicting the target variable. This approach is superior as it directly assesses a feature's predictive power within the context of our chosen model, providing a more reliable measure of its relationship with the target."
   ]
  },
  {
   "cell_type": "markdown",
   "id": "a49bcc4c-6348-4239-b6cd-4195380ecb3d",
   "metadata": {},
   "source": [
    "**Feature Relationships**\n",
    "\n",
    "High correlation (Ydata Report):\n",
    "    CNT_INSTALMENT - CNT_INSTALMENT_FUTURE"
   ]
  },
  {
   "cell_type": "markdown",
   "id": "a24e9994-3aad-434f-a29b-9abaf8964fb2",
   "metadata": {},
   "source": []
  },
  {
   "cell_type": "markdown",
   "id": "ce275fb7-9e99-40e4-b0da-10261f7259c8",
   "metadata": {},
   "source": [
    "## 3. Summary"
   ]
  },
  {
   "cell_type": "markdown",
   "id": "ff594cfb-6355-416f-b7c7-151bb7b68f84",
   "metadata": {},
   "source": [
    "**Key EDA findings for POS CASH balance:**\n",
    "\n",
    "    - Total features: 8 (numeric 7, categorical 1), rows: ~ 10.0M,\n",
    "\n",
    "    - Missing cells\t<0.1%, rows with missing values - 0.26%,\n",
    "    \n",
    "    - Missing values (>15%): none\n",
    "        \n",
    "    - Negative values (>50%):\n",
    "        - MONTHS_BALANCE - 100.0%\n",
    "\n",
    "    - Zeros (>30%):\n",
    "        - SK_DPD - 97.0%\n",
    "        - SK_DPD_DEF - 98.9%\n",
    "\n",
    "    - Strong correlations (>0.7):\n",
    "        CNT_INSTALMENT - CNT_INSTALMENT_FUTURE\n",
    "    \n",
    "    - Duplicates: none"
   ]
  },
  {
   "cell_type": "markdown",
   "id": "aab15d72-5fcc-445a-b235-a814d8ba5e13",
   "metadata": {},
   "source": [
    "**Planned Feature Engineering: POS/CASH Balance**\n",
    "\n",
    "Ideas for feature engineering from the POS/CASH balance dataset to capture a client’s repayment behavior, delinquency risk, and contract performance. The main steps:\n",
    "\n",
    "    1. Handling Raw DPD Values\n",
    "\n",
    "        - Clipp extreme delinquency values (SK_DPD and SK_DPD_DEF) at 365 days to reduce the impact of outliers.\n",
    "\n",
    "    2. Delinquency Behavior Features\n",
    "\n",
    "        - Flags to capture whether the client has ever been late:\n",
    "\n",
    "            IS_DELINQUENT - any late payment (> 0 days)\n",
    "\n",
    "            IS_SERIOUSLY_DELINQUENT - severe delinquency (> 30 days)\n",
    "\n",
    "            IS_DELINQUENT_DEF - default delinquency flag from data\n",
    "\n",
    "        - Aggregations for DPD metrics:\n",
    "\n",
    "            SK_DPD_max - worst-ever delinquency\n",
    "            \n",
    "            SK_DPD_mean - average delinquency\n",
    "            \n",
    "            SK_DPD_last - most recent delinquency\n",
    "            \n",
    "            SK_DPD_std - volatility in delinquency\n",
    "\n",
    "        - Trend feature:\n",
    "\n",
    "            DPD_CHANGE - difference between last and first DPD (improving or deteriorating)\n",
    "\n",
    "    3. Contract status indicators\n",
    "\n",
    "        - Create binary flags for contract states:\n",
    "\n",
    "            IS_ACTIVE - proportion of months with active status\n",
    "            \n",
    "            IS_COMPLETED - ever successfully completed\n",
    "            \n",
    "            IS_OTHER_STATUS - any unusual status (e.g., Signed, Demand, Returned)\n",
    "\n",
    "    4. Repayment Progress\n",
    "\n",
    "        - INSTALMENTS_COMPLETED_RATIO - ratio of completed installments based on CNT_INSTALMENT and CNT_INSTALMENT_FUTURE\n",
    "\n",
    "            Aggregated as mean and max to capture overall repayment progress\n",
    "\n",
    "    5. Credit History Length\n",
    "\n",
    "        From original columns:\n",
    "\n",
    "            CNT_INSTALMENT - average and maximum term length\n",
    "            \n",
    "            CNT_INSTALMENT_FUTURE - remaining installments (mean, min, max)\n",
    "            \n",
    "            MONTHS_BALANCE - min, max, and mean (duration of POS history)\n",
    "\n",
    "    6. Aggregation Strategy\n",
    "\n",
    "        - Group by SK_ID_CURR to summarize all POS/CASH history per client\n",
    "\n",
    "        - Combine custom engineered features and standard numeric aggregations\n",
    "\n",
    "        - Select most predictive features using LightGBM importance + ROC-AUC ranking\n",
    "\n",
    "        - Must-keep features:\n",
    "\n",
    "            POS_SK_DPD_max - Maximum number of days past due across POS cash loans.\n",
    "            \n",
    "            POS_IS_DELINQUENT_max – Flag if the client was ever delinquent on POS loans.\n",
    "            \n",
    "            POS_IS_SERIOUSLY_DELINQUENT_max – Flag if the client was ever seriously delinquent.\n",
    "            \n",
    "            POS_SK_DPD_DEF_max – Maximum number of days past due with default-level severity.\n",
    "            \n",
    "            POS_INSTALMENTS_COMPLETED_RATIO_mean - Average ratio of completed installments to total installments.\n",
    "            \n",
    "            POS_IS_COMPLETED_max – Flag if any POS loan was fully completed.\n",
    "\n",
    "    7. Feature Selection\n",
    "\n",
    "        Use LightGBM importance + ROC-AUC ranking to select top features.\n",
    "\n",
    "        Merge selected features back to main data frame for model training."
   ]
  },
  {
   "cell_type": "markdown",
   "id": "841c0faf-7826-441c-8796-e642986d036c",
   "metadata": {},
   "source": []
  }
 ],
 "metadata": {
  "kernelspec": {
   "display_name": "Python (myenv)",
   "language": "python",
   "name": "myenv"
  },
  "language_info": {
   "codemirror_mode": {
    "name": "ipython",
    "version": 3
   },
   "file_extension": ".py",
   "mimetype": "text/x-python",
   "name": "python",
   "nbconvert_exporter": "python",
   "pygments_lexer": "ipython3",
   "version": "3.11.9"
  }
 },
 "nbformat": 4,
 "nbformat_minor": 5
}
