{
 "cells": [
  {
   "cell_type": "markdown",
   "id": "3b1951dc-8916-4afe-a129-fbce58526e3a",
   "metadata": {},
   "source": [
    "# Home Credit Default Risk - EDA PREVIOUS APPLICATION"
   ]
  },
  {
   "cell_type": "markdown",
   "id": "43cb92c7-a096-46f1-a9ad-088aa6ee1e7f",
   "metadata": {},
   "source": [
    "## 1. Introduction"
   ]
  },
  {
   "cell_type": "markdown",
   "id": "bfd173ba-afb8-4221-83c8-8c93b62ba357",
   "metadata": {},
   "source": [
    "**Context:**\n",
    "\n",
    "This notebook contains basic EDA for PREVIOUS APPLICATION data set.\n",
    "\n",
    "This is additional source of data (application_train/application_test are the main training and testing data).\n",
    "\n",
    "previous_application.csv\n",
    "\n",
    "    All previous applications for Home Credit loans of clients who have loans in our sample.\n",
    "    There is one row for each previous application related to loans in our data sample.\n",
    "\n",
    "**Goals:**\n",
    "\n",
    "    To comprehensively understand the dataset's structure, identify key patterns, and discover meaningful insights that will inform a robust feature engineering and modeling strategy.\n",
    "\n",
    "**Objectives:**\n",
    "\n",
    "    Conduct a comprehensive Exploratory Data Analysis (EDA): Perform an in-depth exploration of the datasets to understand their statistical properties and distributions.\n",
    "\n",
    "    Identify and address data quality issues: Investigate missing values, identify and handle data anomalies.\n",
    "\n",
    "    Analyze feature relationships: Evaluate correlations between features and assess their individual relationships with the target variable to prioritize their importance for the model.\n",
    "\n",
    "    Leverage automated tools for initial insights: Utilize libraries like Sweetviz to quickly generate an initial feature exploration report.\n",
    "\n"
   ]
  },
  {
   "cell_type": "markdown",
   "id": "1323ffeb-25c1-430b-b280-58a2071cfd28",
   "metadata": {},
   "source": []
  },
  {
   "cell_type": "markdown",
   "id": "fcb1999a-3424-4274-b4d8-555f3eeeb22f",
   "metadata": {},
   "source": [
    "## 2. Exploratory Data Analysis (EDA)"
   ]
  },
  {
   "cell_type": "markdown",
   "id": "3086a715-6e0a-4223-8c3f-b635bb9afae0",
   "metadata": {},
   "source": [
    "### A. Data loading & Initial checks"
   ]
  },
  {
   "cell_type": "code",
   "execution_count": 1,
   "id": "3f5e517c-1eb1-48e0-804d-81198e55c1de",
   "metadata": {},
   "outputs": [],
   "source": [
    "%load_ext jupyter_black"
   ]
  },
  {
   "cell_type": "code",
   "execution_count": 2,
   "id": "640fc3cf-a79b-443e-a83f-f11c68324f84",
   "metadata": {},
   "outputs": [
    {
     "data": {
      "text/html": [
       "\n",
       "            <div>\n",
       "                <ins><a href=\"https://ydata.ai/register\">Upgrade to ydata-sdk</a></ins>\n",
       "                <p>\n",
       "                    Improve your data and profiling with ydata-sdk, featuring data quality scoring, redundancy detection, outlier identification, text validation, and synthetic data generation.\n",
       "                </p>\n",
       "            </div>\n",
       "            "
      ],
      "text/plain": [
       "<IPython.core.display.HTML object>"
      ]
     },
     "metadata": {},
     "output_type": "display_data"
    }
   ],
   "source": [
    "import pandas as pd\n",
    "import numpy as np\n",
    "import sys\n",
    "import os\n",
    "from typing import Dict, Optional, List, Tuple, Union\n",
    "import warnings\n",
    "\n",
    "warnings.filterwarnings(\"ignore\", category=UserWarning, module=\"sweetviz.graph\")\n",
    "import sweetviz as sv\n",
    "from ydata_profiling import ProfileReport\n",
    "from IPython.display import IFrame"
   ]
  },
  {
   "cell_type": "code",
   "execution_count": 3,
   "id": "60daa917-b9cc-4c02-a96d-6215b1ce69ee",
   "metadata": {},
   "outputs": [],
   "source": [
    "sys.path.append(os.path.abspath(\"..\"))\n",
    "from Data.utils_EDA import feature_types, missing_columns, calculate_missing_rows\n",
    "from Data.utils_modeling import downcast_numeric_col"
   ]
  },
  {
   "cell_type": "markdown",
   "id": "2428b7e4-797e-4db0-975d-268ad6b80ee7",
   "metadata": {},
   "source": [
    "**Loading dataset**"
   ]
  },
  {
   "cell_type": "code",
   "execution_count": 4,
   "id": "63d0d70a-f561-49b4-ac5e-626fe16af260",
   "metadata": {},
   "outputs": [
    {
     "data": {
      "text/plain": [
       "(1670214, 37)"
      ]
     },
     "execution_count": 4,
     "metadata": {},
     "output_type": "execute_result"
    }
   ],
   "source": [
    "previous = pd.read_csv(r\"..\\Data\\previous_application.csv\")\n",
    "previous.shape"
   ]
  },
  {
   "cell_type": "markdown",
   "id": "a760ab39-d090-40c9-97e1-628c837ae5ec",
   "metadata": {},
   "source": [
    "**Downcasting numeric columns**"
   ]
  },
  {
   "cell_type": "code",
   "execution_count": 5,
   "id": "fa30ab95-22a0-49bf-aa8a-5e5fae0808cb",
   "metadata": {},
   "outputs": [
    {
     "data": {
      "text/plain": [
       "array([dtype('int32'), dtype('O'), dtype('float64'), dtype('int8'),\n",
       "       dtype('float32'), dtype('int16')], dtype=object)"
      ]
     },
     "execution_count": 5,
     "metadata": {},
     "output_type": "execute_result"
    }
   ],
   "source": [
    "previous = previous.copy()\n",
    "downcast_numeric_col(previous)\n",
    "previous.dtypes.unique()"
   ]
  },
  {
   "cell_type": "code",
   "execution_count": 6,
   "id": "a9854d42-e61b-4fd8-8997-c8d9282001e5",
   "metadata": {},
   "outputs": [
    {
     "data": {
      "text/html": [
       "<div>\n",
       "<style scoped>\n",
       "    .dataframe tbody tr th:only-of-type {\n",
       "        vertical-align: middle;\n",
       "    }\n",
       "\n",
       "    .dataframe tbody tr th {\n",
       "        vertical-align: top;\n",
       "    }\n",
       "\n",
       "    .dataframe thead th {\n",
       "        text-align: right;\n",
       "    }\n",
       "</style>\n",
       "<table border=\"1\" class=\"dataframe\">\n",
       "  <thead>\n",
       "    <tr style=\"text-align: right;\">\n",
       "      <th></th>\n",
       "      <th>SK_ID_PREV</th>\n",
       "      <th>SK_ID_CURR</th>\n",
       "      <th>NAME_CONTRACT_TYPE</th>\n",
       "      <th>AMT_ANNUITY</th>\n",
       "      <th>AMT_APPLICATION</th>\n",
       "      <th>AMT_CREDIT</th>\n",
       "      <th>AMT_DOWN_PAYMENT</th>\n",
       "      <th>AMT_GOODS_PRICE</th>\n",
       "      <th>WEEKDAY_APPR_PROCESS_START</th>\n",
       "      <th>HOUR_APPR_PROCESS_START</th>\n",
       "      <th>...</th>\n",
       "      <th>NAME_SELLER_INDUSTRY</th>\n",
       "      <th>CNT_PAYMENT</th>\n",
       "      <th>NAME_YIELD_GROUP</th>\n",
       "      <th>PRODUCT_COMBINATION</th>\n",
       "      <th>DAYS_FIRST_DRAWING</th>\n",
       "      <th>DAYS_FIRST_DUE</th>\n",
       "      <th>DAYS_LAST_DUE_1ST_VERSION</th>\n",
       "      <th>DAYS_LAST_DUE</th>\n",
       "      <th>DAYS_TERMINATION</th>\n",
       "      <th>NFLAG_INSURED_ON_APPROVAL</th>\n",
       "    </tr>\n",
       "  </thead>\n",
       "  <tbody>\n",
       "    <tr>\n",
       "      <th>0</th>\n",
       "      <td>2030495</td>\n",
       "      <td>271877</td>\n",
       "      <td>Consumer loans</td>\n",
       "      <td>1730.430</td>\n",
       "      <td>17145.0</td>\n",
       "      <td>17145.0</td>\n",
       "      <td>0.0</td>\n",
       "      <td>17145.0</td>\n",
       "      <td>SATURDAY</td>\n",
       "      <td>15</td>\n",
       "      <td>...</td>\n",
       "      <td>Connectivity</td>\n",
       "      <td>12.0</td>\n",
       "      <td>middle</td>\n",
       "      <td>POS mobile with interest</td>\n",
       "      <td>365243.0</td>\n",
       "      <td>-42.0</td>\n",
       "      <td>300.0</td>\n",
       "      <td>-42.0</td>\n",
       "      <td>-37.0</td>\n",
       "      <td>0.0</td>\n",
       "    </tr>\n",
       "    <tr>\n",
       "      <th>1</th>\n",
       "      <td>2802425</td>\n",
       "      <td>108129</td>\n",
       "      <td>Cash loans</td>\n",
       "      <td>25188.615</td>\n",
       "      <td>607500.0</td>\n",
       "      <td>679671.0</td>\n",
       "      <td>NaN</td>\n",
       "      <td>607500.0</td>\n",
       "      <td>THURSDAY</td>\n",
       "      <td>11</td>\n",
       "      <td>...</td>\n",
       "      <td>XNA</td>\n",
       "      <td>36.0</td>\n",
       "      <td>low_action</td>\n",
       "      <td>Cash X-Sell: low</td>\n",
       "      <td>365243.0</td>\n",
       "      <td>-134.0</td>\n",
       "      <td>916.0</td>\n",
       "      <td>365243.0</td>\n",
       "      <td>365243.0</td>\n",
       "      <td>1.0</td>\n",
       "    </tr>\n",
       "    <tr>\n",
       "      <th>2</th>\n",
       "      <td>2523466</td>\n",
       "      <td>122040</td>\n",
       "      <td>Cash loans</td>\n",
       "      <td>15060.735</td>\n",
       "      <td>112500.0</td>\n",
       "      <td>136444.5</td>\n",
       "      <td>NaN</td>\n",
       "      <td>112500.0</td>\n",
       "      <td>TUESDAY</td>\n",
       "      <td>11</td>\n",
       "      <td>...</td>\n",
       "      <td>XNA</td>\n",
       "      <td>12.0</td>\n",
       "      <td>high</td>\n",
       "      <td>Cash X-Sell: high</td>\n",
       "      <td>365243.0</td>\n",
       "      <td>-271.0</td>\n",
       "      <td>59.0</td>\n",
       "      <td>365243.0</td>\n",
       "      <td>365243.0</td>\n",
       "      <td>1.0</td>\n",
       "    </tr>\n",
       "    <tr>\n",
       "      <th>3</th>\n",
       "      <td>2819243</td>\n",
       "      <td>176158</td>\n",
       "      <td>Cash loans</td>\n",
       "      <td>47041.335</td>\n",
       "      <td>450000.0</td>\n",
       "      <td>470790.0</td>\n",
       "      <td>NaN</td>\n",
       "      <td>450000.0</td>\n",
       "      <td>MONDAY</td>\n",
       "      <td>7</td>\n",
       "      <td>...</td>\n",
       "      <td>XNA</td>\n",
       "      <td>12.0</td>\n",
       "      <td>middle</td>\n",
       "      <td>Cash X-Sell: middle</td>\n",
       "      <td>365243.0</td>\n",
       "      <td>-482.0</td>\n",
       "      <td>-152.0</td>\n",
       "      <td>-182.0</td>\n",
       "      <td>-177.0</td>\n",
       "      <td>1.0</td>\n",
       "    </tr>\n",
       "    <tr>\n",
       "      <th>4</th>\n",
       "      <td>1784265</td>\n",
       "      <td>202054</td>\n",
       "      <td>Cash loans</td>\n",
       "      <td>31924.395</td>\n",
       "      <td>337500.0</td>\n",
       "      <td>404055.0</td>\n",
       "      <td>NaN</td>\n",
       "      <td>337500.0</td>\n",
       "      <td>THURSDAY</td>\n",
       "      <td>9</td>\n",
       "      <td>...</td>\n",
       "      <td>XNA</td>\n",
       "      <td>24.0</td>\n",
       "      <td>high</td>\n",
       "      <td>Cash Street: high</td>\n",
       "      <td>NaN</td>\n",
       "      <td>NaN</td>\n",
       "      <td>NaN</td>\n",
       "      <td>NaN</td>\n",
       "      <td>NaN</td>\n",
       "      <td>NaN</td>\n",
       "    </tr>\n",
       "  </tbody>\n",
       "</table>\n",
       "<p>5 rows × 37 columns</p>\n",
       "</div>"
      ],
      "text/plain": [
       "   SK_ID_PREV  SK_ID_CURR NAME_CONTRACT_TYPE  AMT_ANNUITY  AMT_APPLICATION  \\\n",
       "0     2030495      271877     Consumer loans     1730.430          17145.0   \n",
       "1     2802425      108129         Cash loans    25188.615         607500.0   \n",
       "2     2523466      122040         Cash loans    15060.735         112500.0   \n",
       "3     2819243      176158         Cash loans    47041.335         450000.0   \n",
       "4     1784265      202054         Cash loans    31924.395         337500.0   \n",
       "\n",
       "   AMT_CREDIT  AMT_DOWN_PAYMENT  AMT_GOODS_PRICE WEEKDAY_APPR_PROCESS_START  \\\n",
       "0     17145.0               0.0          17145.0                   SATURDAY   \n",
       "1    679671.0               NaN         607500.0                   THURSDAY   \n",
       "2    136444.5               NaN         112500.0                    TUESDAY   \n",
       "3    470790.0               NaN         450000.0                     MONDAY   \n",
       "4    404055.0               NaN         337500.0                   THURSDAY   \n",
       "\n",
       "   HOUR_APPR_PROCESS_START  ... NAME_SELLER_INDUSTRY  CNT_PAYMENT  \\\n",
       "0                       15  ...         Connectivity         12.0   \n",
       "1                       11  ...                  XNA         36.0   \n",
       "2                       11  ...                  XNA         12.0   \n",
       "3                        7  ...                  XNA         12.0   \n",
       "4                        9  ...                  XNA         24.0   \n",
       "\n",
       "   NAME_YIELD_GROUP       PRODUCT_COMBINATION  DAYS_FIRST_DRAWING  \\\n",
       "0            middle  POS mobile with interest            365243.0   \n",
       "1        low_action          Cash X-Sell: low            365243.0   \n",
       "2              high         Cash X-Sell: high            365243.0   \n",
       "3            middle       Cash X-Sell: middle            365243.0   \n",
       "4              high         Cash Street: high                 NaN   \n",
       "\n",
       "  DAYS_FIRST_DUE DAYS_LAST_DUE_1ST_VERSION  DAYS_LAST_DUE DAYS_TERMINATION  \\\n",
       "0          -42.0                     300.0          -42.0            -37.0   \n",
       "1         -134.0                     916.0       365243.0         365243.0   \n",
       "2         -271.0                      59.0       365243.0         365243.0   \n",
       "3         -482.0                    -152.0         -182.0           -177.0   \n",
       "4            NaN                       NaN            NaN              NaN   \n",
       "\n",
       "  NFLAG_INSURED_ON_APPROVAL  \n",
       "0                       0.0  \n",
       "1                       1.0  \n",
       "2                       1.0  \n",
       "3                       1.0  \n",
       "4                       NaN  \n",
       "\n",
       "[5 rows x 37 columns]"
      ]
     },
     "execution_count": 6,
     "metadata": {},
     "output_type": "execute_result"
    }
   ],
   "source": [
    "previous.head()"
   ]
  },
  {
   "cell_type": "code",
   "execution_count": 7,
   "id": "e6c55d5e-66e1-4166-82cb-dae8d138d8a6",
   "metadata": {
    "scrolled": true
   },
   "outputs": [
    {
     "name": "stdout",
     "output_type": "stream",
     "text": [
      "<class 'pandas.core.frame.DataFrame'>\n",
      "RangeIndex: 1670214 entries, 0 to 1670213\n",
      "Data columns (total 37 columns):\n",
      " #   Column                       Non-Null Count    Dtype  \n",
      "---  ------                       --------------    -----  \n",
      " 0   SK_ID_PREV                   1670214 non-null  int32  \n",
      " 1   SK_ID_CURR                   1670214 non-null  int32  \n",
      " 2   NAME_CONTRACT_TYPE           1670214 non-null  object \n",
      " 3   AMT_ANNUITY                  1297979 non-null  float64\n",
      " 4   AMT_APPLICATION              1670214 non-null  float64\n",
      " 5   AMT_CREDIT                   1670213 non-null  float64\n",
      " 6   AMT_DOWN_PAYMENT             774370 non-null   float64\n",
      " 7   AMT_GOODS_PRICE              1284699 non-null  float64\n",
      " 8   WEEKDAY_APPR_PROCESS_START   1670214 non-null  object \n",
      " 9   HOUR_APPR_PROCESS_START      1670214 non-null  int8   \n",
      " 10  FLAG_LAST_APPL_PER_CONTRACT  1670214 non-null  object \n",
      " 11  NFLAG_LAST_APPL_IN_DAY       1670214 non-null  int8   \n",
      " 12  RATE_DOWN_PAYMENT            774370 non-null   float32\n",
      " 13  RATE_INTEREST_PRIMARY        5951 non-null     float32\n",
      " 14  RATE_INTEREST_PRIVILEGED     5951 non-null     float32\n",
      " 15  NAME_CASH_LOAN_PURPOSE       1670214 non-null  object \n",
      " 16  NAME_CONTRACT_STATUS         1670214 non-null  object \n",
      " 17  DAYS_DECISION                1670214 non-null  int16  \n",
      " 18  NAME_PAYMENT_TYPE            1670214 non-null  object \n",
      " 19  CODE_REJECT_REASON           1670214 non-null  object \n",
      " 20  NAME_TYPE_SUITE              849809 non-null   object \n",
      " 21  NAME_CLIENT_TYPE             1670214 non-null  object \n",
      " 22  NAME_GOODS_CATEGORY          1670214 non-null  object \n",
      " 23  NAME_PORTFOLIO               1670214 non-null  object \n",
      " 24  NAME_PRODUCT_TYPE            1670214 non-null  object \n",
      " 25  CHANNEL_TYPE                 1670214 non-null  object \n",
      " 26  SELLERPLACE_AREA             1670214 non-null  int32  \n",
      " 27  NAME_SELLER_INDUSTRY         1670214 non-null  object \n",
      " 28  CNT_PAYMENT                  1297984 non-null  float32\n",
      " 29  NAME_YIELD_GROUP             1670214 non-null  object \n",
      " 30  PRODUCT_COMBINATION          1669868 non-null  object \n",
      " 31  DAYS_FIRST_DRAWING           997149 non-null   float32\n",
      " 32  DAYS_FIRST_DUE               997149 non-null   float32\n",
      " 33  DAYS_LAST_DUE_1ST_VERSION    997149 non-null   float32\n",
      " 34  DAYS_LAST_DUE                997149 non-null   float32\n",
      " 35  DAYS_TERMINATION             997149 non-null   float32\n",
      " 36  NFLAG_INSURED_ON_APPROVAL    997149 non-null   float32\n",
      "dtypes: float32(10), float64(5), int16(1), int32(3), int8(2), object(16)\n",
      "memory usage: 356.8+ MB\n"
     ]
    }
   ],
   "source": [
    "previous.info()"
   ]
  },
  {
   "cell_type": "markdown",
   "id": "8a703fd4-d06f-4584-9cb1-7f16ee0d4ec6",
   "metadata": {},
   "source": []
  },
  {
   "cell_type": "markdown",
   "id": "6daf47ab-a975-4e05-88d5-d83745139b77",
   "metadata": {},
   "source": [
    "**Feature descriptions:**"
   ]
  },
  {
   "attachments": {},
   "cell_type": "markdown",
   "id": "0c39496f-7cb4-46db-bb6f-dd2f93631061",
   "metadata": {},
   "source": [
    "1. SK_ID_PREV ,\"ID of previous credit in Home credit related to loan in our sample. (One loan in our sample can have 0,1,2 or more previous loan applications in Home Credit, previous application could, but not necessarily have to lead to credit) \",hashed\n",
    "\n",
    "2. SK_ID_CURR,ID of loan in our sample,hashed\n",
    "\n",
    "3. NAME_CONTRACT_TYPE,\"Contract product type (Cash loan, consumer loan [POS] ,...) of the previous application\",\n",
    "\n",
    "4. AMT_ANNUITY,Annuity of previous application,\n",
    "\n",
    "5. AMT_APPLICATION,For how much credit did client ask on the previous application,\n",
    "\n",
    "6. AMT_CREDIT,\"Final credit amount on the previous application. This differs from AMT_APPLICATION in a way that the AMT_APPLICATION is the amount for which the client initially applied for, but during our approval process he could have received different amount - AMT_CREDIT\",\n",
    "\n",
    "7. AMT_DOWN_PAYMENT,Down payment on the previous application,\n",
    "\n",
    "8. AMT_GOODS_PRICE,Goods price of good that client asked for (if applicable) on the previous application,\n",
    "\n",
    "9. WEEKDAY_APPR_PROCESS_START,On which day of the week did the client apply for previous application,\n",
    "\n",
    "10. HOUR_APPR_PROCESS_START,Approximately at what day hour did the client apply for the previous application,rounded\n",
    "\n",
    "11. FLAG_LAST_APPL_PER_CONTRACT,Flag if it was last application for the previous contract. Sometimes by mistake of client or our clerk there could be more applications for one single contract,\n",
    "\n",
    "12. NFLAG_LAST_APPL_IN_DAY,Flag if the application was the last application per day of the client. Sometimes clients apply for more applications a day. Rarely it could also be error in our system that one application is in the database twice,\n",
    "\n",
    "13. NFLAG_MICRO_CASH,Flag Micro finance loan,\n",
    "\n",
    "14. RATE_DOWN_PAYMENT,Down payment rate normalized on previous credit,normalized\n",
    "\n",
    "15. RATE_INTEREST_PRIMARY,Interest rate normalized on previous credit,normalized\n",
    "\n",
    "16. RATE_INTEREST_PRIVILEGED,Interest rate normalized on previous credit,normalized\n",
    "\n",
    "17. NAME_CASH_LOAN_PURPOSE,Purpose of the cash loan,\n",
    "\n",
    "18. NAME_CONTRACT_STATUS,\"Contract status (approved, cancelled, ...) of previous application\",\n",
    "\n",
    "19. DAYS_DECISION,Relative to current application when was the decision about previous application made,time only relative to the application\n",
    "\n",
    "20. NAME_PAYMENT_TYPE,Payment method that client chose to pay for the previous application,\n",
    "\n",
    "21. CODE_REJECT_REASON,Why was the previous application rejected,\n",
    "\n",
    "22. NAME_TYPE_SUITE,Who accompanied client when applying for the previous application,\n",
    "\n",
    "23. NAME_CLIENT_TYPE,Was the client old or new client when applying for the previous application,\n",
    "\n",
    "24. NAME_GOODS_CATEGORY,What kind of goods did the client apply for in the previous application,\n",
    "\n",
    "25. NAME_PORTFOLIO,\"Was the previous application for CASH, POS, CAR, …\",\n",
    "\n",
    "26. NAME_PRODUCT_TYPE,Was the previous application x-sell o walk-in,\n",
    "\n",
    "27. CHANNEL_TYPE,Through which channel we acquired the client on the previous application,\n",
    "\n",
    "28. SELLERPLACE_AREA,Selling area of seller place of the previous application,\n",
    "\n",
    "29. NAME_SELLER_INDUSTRY,The industry of the seller,\n",
    "\n",
    "30. CNT_PAYMENT,Term of previous credit at application of the previous application,\n",
    "\n",
    "31. NAME_YIELD_GROUP,Grouped interest rate into small medium and high of the previous application,grouped\n",
    "\n",
    "32. PRODUCT_COMBINATION,Detailed product combination of the previous application,\n",
    "\n",
    "33. DAYS_FIRST_DRAWING,Relative to application date of current application when was the first disbursement of the previous application,time only relative to the application\n",
    "\n",
    "34. DAYS_FIRST_DUE,Relative to application date of current application when was the first due supposed to be of the previous application,time only relative to the applicationDAYS_LAST_DUE_1ST_VERSION,Relative to application date of current application when was the first due of the previous application,time only relative to the application\n",
    "\n",
    "35. DAYS_LAST_DUE,Relative to application date of current application when was the last due date of the previous application,time only relative to the application\n",
    "\n",
    "36. DAYS_TERMINATION,Relative to application date of current application when was the expected termination of the previous application,time only relative to the application\n",
    "\n",
    "37. NFLAG_INSURED_ON_APPROVAL,Did the client requested insurance during the previous application,"
   ]
  },
  {
   "cell_type": "markdown",
   "id": "fc5dce6c-7cd5-416b-923a-3b53c25d4572",
   "metadata": {},
   "source": [
    "**Feature types**"
   ]
  },
  {
   "cell_type": "code",
   "execution_count": 8,
   "id": "9d6ee6d8-e499-4c4e-8572-f5d5df4bc527",
   "metadata": {},
   "outputs": [
    {
     "name": "stdout",
     "output_type": "stream",
     "text": [
      "Numerical features: ['SK_ID_PREV', 'SK_ID_CURR', 'AMT_ANNUITY', 'AMT_APPLICATION', 'AMT_CREDIT', 'AMT_DOWN_PAYMENT', 'AMT_GOODS_PRICE', 'HOUR_APPR_PROCESS_START', 'NFLAG_LAST_APPL_IN_DAY', 'RATE_DOWN_PAYMENT', 'RATE_INTEREST_PRIMARY', 'RATE_INTEREST_PRIVILEGED', 'DAYS_DECISION', 'SELLERPLACE_AREA', 'CNT_PAYMENT', 'DAYS_FIRST_DRAWING', 'DAYS_FIRST_DUE', 'DAYS_LAST_DUE_1ST_VERSION', 'DAYS_LAST_DUE', 'DAYS_TERMINATION', 'NFLAG_INSURED_ON_APPROVAL']\n",
      "Categorical features: ['NAME_CONTRACT_TYPE', 'WEEKDAY_APPR_PROCESS_START', 'FLAG_LAST_APPL_PER_CONTRACT', 'NAME_CASH_LOAN_PURPOSE', 'NAME_CONTRACT_STATUS', 'NAME_PAYMENT_TYPE', 'CODE_REJECT_REASON', 'NAME_TYPE_SUITE', 'NAME_CLIENT_TYPE', 'NAME_GOODS_CATEGORY', 'NAME_PORTFOLIO', 'NAME_PRODUCT_TYPE', 'CHANNEL_TYPE', 'NAME_SELLER_INDUSTRY', 'NAME_YIELD_GROUP', 'PRODUCT_COMBINATION']\n",
      "Binary features: ['FLAG_LAST_APPL_PER_CONTRACT', 'NFLAG_LAST_APPL_IN_DAY', 'NFLAG_INSURED_ON_APPROVAL']\n"
     ]
    }
   ],
   "source": [
    "feature_types(previous)"
   ]
  },
  {
   "cell_type": "code",
   "execution_count": 9,
   "id": "3a760eab-cc0e-4602-9db8-58c00e7e7b77",
   "metadata": {},
   "outputs": [
    {
     "data": {
      "text/plain": [
       "object     16\n",
       "float32    10\n",
       "float64     5\n",
       "int32       3\n",
       "int8        2\n",
       "int16       1\n",
       "Name: count, dtype: int64"
      ]
     },
     "execution_count": 9,
     "metadata": {},
     "output_type": "execute_result"
    }
   ],
   "source": [
    "previous.dtypes.value_counts()"
   ]
  },
  {
   "cell_type": "code",
   "execution_count": 10,
   "id": "9e149642-d4c2-47d5-a6a7-8c16d7d382d9",
   "metadata": {},
   "outputs": [
    {
     "data": {
      "text/html": [
       "<div>\n",
       "<style scoped>\n",
       "    .dataframe tbody tr th:only-of-type {\n",
       "        vertical-align: middle;\n",
       "    }\n",
       "\n",
       "    .dataframe tbody tr th {\n",
       "        vertical-align: top;\n",
       "    }\n",
       "\n",
       "    .dataframe thead th {\n",
       "        text-align: right;\n",
       "    }\n",
       "</style>\n",
       "<table border=\"1\" class=\"dataframe\">\n",
       "  <thead>\n",
       "    <tr style=\"text-align: right;\">\n",
       "      <th></th>\n",
       "      <th>count</th>\n",
       "      <th>mean</th>\n",
       "      <th>std</th>\n",
       "      <th>min</th>\n",
       "      <th>25%</th>\n",
       "      <th>50%</th>\n",
       "      <th>75%</th>\n",
       "      <th>max</th>\n",
       "    </tr>\n",
       "  </thead>\n",
       "  <tbody>\n",
       "    <tr>\n",
       "      <th>SK_ID_PREV</th>\n",
       "      <td>1670214.0</td>\n",
       "      <td>1.923089e+06</td>\n",
       "      <td>532597.958696</td>\n",
       "      <td>1.000001e+06</td>\n",
       "      <td>1.461857e+06</td>\n",
       "      <td>1.923110e+06</td>\n",
       "      <td>2.384280e+06</td>\n",
       "      <td>2845382.000</td>\n",
       "    </tr>\n",
       "    <tr>\n",
       "      <th>SK_ID_CURR</th>\n",
       "      <td>1670214.0</td>\n",
       "      <td>2.783572e+05</td>\n",
       "      <td>102814.823849</td>\n",
       "      <td>1.000010e+05</td>\n",
       "      <td>1.893290e+05</td>\n",
       "      <td>2.787145e+05</td>\n",
       "      <td>3.675140e+05</td>\n",
       "      <td>456255.000</td>\n",
       "    </tr>\n",
       "    <tr>\n",
       "      <th>AMT_ANNUITY</th>\n",
       "      <td>1297979.0</td>\n",
       "      <td>1.595512e+04</td>\n",
       "      <td>14782.137335</td>\n",
       "      <td>0.000000e+00</td>\n",
       "      <td>6.321780e+03</td>\n",
       "      <td>1.125000e+04</td>\n",
       "      <td>2.065842e+04</td>\n",
       "      <td>418058.145</td>\n",
       "    </tr>\n",
       "    <tr>\n",
       "      <th>AMT_APPLICATION</th>\n",
       "      <td>1670214.0</td>\n",
       "      <td>1.752339e+05</td>\n",
       "      <td>292779.762386</td>\n",
       "      <td>0.000000e+00</td>\n",
       "      <td>1.872000e+04</td>\n",
       "      <td>7.104600e+04</td>\n",
       "      <td>1.803600e+05</td>\n",
       "      <td>6905160.000</td>\n",
       "    </tr>\n",
       "    <tr>\n",
       "      <th>AMT_CREDIT</th>\n",
       "      <td>1670213.0</td>\n",
       "      <td>1.961140e+05</td>\n",
       "      <td>318574.616547</td>\n",
       "      <td>0.000000e+00</td>\n",
       "      <td>2.416050e+04</td>\n",
       "      <td>8.054100e+04</td>\n",
       "      <td>2.164185e+05</td>\n",
       "      <td>6905160.000</td>\n",
       "    </tr>\n",
       "    <tr>\n",
       "      <th>AMT_DOWN_PAYMENT</th>\n",
       "      <td>774370.0</td>\n",
       "      <td>6.697402e+03</td>\n",
       "      <td>20921.495410</td>\n",
       "      <td>-9.000000e-01</td>\n",
       "      <td>0.000000e+00</td>\n",
       "      <td>1.638000e+03</td>\n",
       "      <td>7.740000e+03</td>\n",
       "      <td>3060045.000</td>\n",
       "    </tr>\n",
       "    <tr>\n",
       "      <th>AMT_GOODS_PRICE</th>\n",
       "      <td>1284699.0</td>\n",
       "      <td>2.278473e+05</td>\n",
       "      <td>315396.557937</td>\n",
       "      <td>0.000000e+00</td>\n",
       "      <td>5.084100e+04</td>\n",
       "      <td>1.123200e+05</td>\n",
       "      <td>2.340000e+05</td>\n",
       "      <td>6905160.000</td>\n",
       "    </tr>\n",
       "    <tr>\n",
       "      <th>HOUR_APPR_PROCESS_START</th>\n",
       "      <td>1670214.0</td>\n",
       "      <td>1.248418e+01</td>\n",
       "      <td>3.334028</td>\n",
       "      <td>0.000000e+00</td>\n",
       "      <td>1.000000e+01</td>\n",
       "      <td>1.200000e+01</td>\n",
       "      <td>1.500000e+01</td>\n",
       "      <td>23.000</td>\n",
       "    </tr>\n",
       "    <tr>\n",
       "      <th>NFLAG_LAST_APPL_IN_DAY</th>\n",
       "      <td>1670214.0</td>\n",
       "      <td>9.964675e-01</td>\n",
       "      <td>0.059330</td>\n",
       "      <td>0.000000e+00</td>\n",
       "      <td>1.000000e+00</td>\n",
       "      <td>1.000000e+00</td>\n",
       "      <td>1.000000e+00</td>\n",
       "      <td>1.000</td>\n",
       "    </tr>\n",
       "    <tr>\n",
       "      <th>RATE_DOWN_PAYMENT</th>\n",
       "      <td>774370.0</td>\n",
       "      <td>7.963680e-02</td>\n",
       "      <td>0.107823</td>\n",
       "      <td>-1.497876e-05</td>\n",
       "      <td>0.000000e+00</td>\n",
       "      <td>5.160508e-02</td>\n",
       "      <td>1.089091e-01</td>\n",
       "      <td>1.000</td>\n",
       "    </tr>\n",
       "    <tr>\n",
       "      <th>RATE_INTEREST_PRIMARY</th>\n",
       "      <td>5951.0</td>\n",
       "      <td>1.883569e-01</td>\n",
       "      <td>0.087671</td>\n",
       "      <td>3.478125e-02</td>\n",
       "      <td>1.607163e-01</td>\n",
       "      <td>1.891222e-01</td>\n",
       "      <td>1.933299e-01</td>\n",
       "      <td>1.000</td>\n",
       "    </tr>\n",
       "    <tr>\n",
       "      <th>RATE_INTEREST_PRIVILEGED</th>\n",
       "      <td>5951.0</td>\n",
       "      <td>7.735026e-01</td>\n",
       "      <td>0.100879</td>\n",
       "      <td>3.731501e-01</td>\n",
       "      <td>7.156448e-01</td>\n",
       "      <td>8.350952e-01</td>\n",
       "      <td>8.525370e-01</td>\n",
       "      <td>1.000</td>\n",
       "    </tr>\n",
       "    <tr>\n",
       "      <th>DAYS_DECISION</th>\n",
       "      <td>1670214.0</td>\n",
       "      <td>-8.806797e+02</td>\n",
       "      <td>779.099667</td>\n",
       "      <td>-2.922000e+03</td>\n",
       "      <td>-1.300000e+03</td>\n",
       "      <td>-5.810000e+02</td>\n",
       "      <td>-2.800000e+02</td>\n",
       "      <td>-1.000</td>\n",
       "    </tr>\n",
       "    <tr>\n",
       "      <th>SELLERPLACE_AREA</th>\n",
       "      <td>1670214.0</td>\n",
       "      <td>3.139511e+02</td>\n",
       "      <td>7127.443459</td>\n",
       "      <td>-1.000000e+00</td>\n",
       "      <td>-1.000000e+00</td>\n",
       "      <td>3.000000e+00</td>\n",
       "      <td>8.200000e+01</td>\n",
       "      <td>4000000.000</td>\n",
       "    </tr>\n",
       "    <tr>\n",
       "      <th>CNT_PAYMENT</th>\n",
       "      <td>1297984.0</td>\n",
       "      <td>1.605408e+01</td>\n",
       "      <td>14.567287</td>\n",
       "      <td>0.000000e+00</td>\n",
       "      <td>6.000000e+00</td>\n",
       "      <td>1.200000e+01</td>\n",
       "      <td>2.400000e+01</td>\n",
       "      <td>84.000</td>\n",
       "    </tr>\n",
       "    <tr>\n",
       "      <th>DAYS_FIRST_DRAWING</th>\n",
       "      <td>997149.0</td>\n",
       "      <td>3.422098e+05</td>\n",
       "      <td>88916.117188</td>\n",
       "      <td>-2.922000e+03</td>\n",
       "      <td>3.652430e+05</td>\n",
       "      <td>3.652430e+05</td>\n",
       "      <td>3.652430e+05</td>\n",
       "      <td>365243.000</td>\n",
       "    </tr>\n",
       "    <tr>\n",
       "      <th>DAYS_FIRST_DUE</th>\n",
       "      <td>997149.0</td>\n",
       "      <td>1.382627e+04</td>\n",
       "      <td>72444.867188</td>\n",
       "      <td>-2.892000e+03</td>\n",
       "      <td>-1.628000e+03</td>\n",
       "      <td>-8.310000e+02</td>\n",
       "      <td>-4.110000e+02</td>\n",
       "      <td>365243.000</td>\n",
       "    </tr>\n",
       "    <tr>\n",
       "      <th>DAYS_LAST_DUE_1ST_VERSION</th>\n",
       "      <td>997149.0</td>\n",
       "      <td>3.376777e+04</td>\n",
       "      <td>106857.031250</td>\n",
       "      <td>-2.801000e+03</td>\n",
       "      <td>-1.242000e+03</td>\n",
       "      <td>-3.610000e+02</td>\n",
       "      <td>1.290000e+02</td>\n",
       "      <td>365243.000</td>\n",
       "    </tr>\n",
       "    <tr>\n",
       "      <th>DAYS_LAST_DUE</th>\n",
       "      <td>997149.0</td>\n",
       "      <td>7.658241e+04</td>\n",
       "      <td>149647.406250</td>\n",
       "      <td>-2.889000e+03</td>\n",
       "      <td>-1.314000e+03</td>\n",
       "      <td>-5.370000e+02</td>\n",
       "      <td>-7.400000e+01</td>\n",
       "      <td>365243.000</td>\n",
       "    </tr>\n",
       "    <tr>\n",
       "      <th>DAYS_TERMINATION</th>\n",
       "      <td>997149.0</td>\n",
       "      <td>8.199234e+04</td>\n",
       "      <td>153303.515625</td>\n",
       "      <td>-2.874000e+03</td>\n",
       "      <td>-1.270000e+03</td>\n",
       "      <td>-4.990000e+02</td>\n",
       "      <td>-4.400000e+01</td>\n",
       "      <td>365243.000</td>\n",
       "    </tr>\n",
       "    <tr>\n",
       "      <th>NFLAG_INSURED_ON_APPROVAL</th>\n",
       "      <td>997149.0</td>\n",
       "      <td>3.325702e-01</td>\n",
       "      <td>0.471134</td>\n",
       "      <td>0.000000e+00</td>\n",
       "      <td>0.000000e+00</td>\n",
       "      <td>0.000000e+00</td>\n",
       "      <td>1.000000e+00</td>\n",
       "      <td>1.000</td>\n",
       "    </tr>\n",
       "  </tbody>\n",
       "</table>\n",
       "</div>"
      ],
      "text/plain": [
       "                               count          mean            std  \\\n",
       "SK_ID_PREV                 1670214.0  1.923089e+06  532597.958696   \n",
       "SK_ID_CURR                 1670214.0  2.783572e+05  102814.823849   \n",
       "AMT_ANNUITY                1297979.0  1.595512e+04   14782.137335   \n",
       "AMT_APPLICATION            1670214.0  1.752339e+05  292779.762386   \n",
       "AMT_CREDIT                 1670213.0  1.961140e+05  318574.616547   \n",
       "AMT_DOWN_PAYMENT            774370.0  6.697402e+03   20921.495410   \n",
       "AMT_GOODS_PRICE            1284699.0  2.278473e+05  315396.557937   \n",
       "HOUR_APPR_PROCESS_START    1670214.0  1.248418e+01       3.334028   \n",
       "NFLAG_LAST_APPL_IN_DAY     1670214.0  9.964675e-01       0.059330   \n",
       "RATE_DOWN_PAYMENT           774370.0  7.963680e-02       0.107823   \n",
       "RATE_INTEREST_PRIMARY         5951.0  1.883569e-01       0.087671   \n",
       "RATE_INTEREST_PRIVILEGED      5951.0  7.735026e-01       0.100879   \n",
       "DAYS_DECISION              1670214.0 -8.806797e+02     779.099667   \n",
       "SELLERPLACE_AREA           1670214.0  3.139511e+02    7127.443459   \n",
       "CNT_PAYMENT                1297984.0  1.605408e+01      14.567287   \n",
       "DAYS_FIRST_DRAWING          997149.0  3.422098e+05   88916.117188   \n",
       "DAYS_FIRST_DUE              997149.0  1.382627e+04   72444.867188   \n",
       "DAYS_LAST_DUE_1ST_VERSION   997149.0  3.376777e+04  106857.031250   \n",
       "DAYS_LAST_DUE               997149.0  7.658241e+04  149647.406250   \n",
       "DAYS_TERMINATION            997149.0  8.199234e+04  153303.515625   \n",
       "NFLAG_INSURED_ON_APPROVAL   997149.0  3.325702e-01       0.471134   \n",
       "\n",
       "                                    min           25%           50%  \\\n",
       "SK_ID_PREV                 1.000001e+06  1.461857e+06  1.923110e+06   \n",
       "SK_ID_CURR                 1.000010e+05  1.893290e+05  2.787145e+05   \n",
       "AMT_ANNUITY                0.000000e+00  6.321780e+03  1.125000e+04   \n",
       "AMT_APPLICATION            0.000000e+00  1.872000e+04  7.104600e+04   \n",
       "AMT_CREDIT                 0.000000e+00  2.416050e+04  8.054100e+04   \n",
       "AMT_DOWN_PAYMENT          -9.000000e-01  0.000000e+00  1.638000e+03   \n",
       "AMT_GOODS_PRICE            0.000000e+00  5.084100e+04  1.123200e+05   \n",
       "HOUR_APPR_PROCESS_START    0.000000e+00  1.000000e+01  1.200000e+01   \n",
       "NFLAG_LAST_APPL_IN_DAY     0.000000e+00  1.000000e+00  1.000000e+00   \n",
       "RATE_DOWN_PAYMENT         -1.497876e-05  0.000000e+00  5.160508e-02   \n",
       "RATE_INTEREST_PRIMARY      3.478125e-02  1.607163e-01  1.891222e-01   \n",
       "RATE_INTEREST_PRIVILEGED   3.731501e-01  7.156448e-01  8.350952e-01   \n",
       "DAYS_DECISION             -2.922000e+03 -1.300000e+03 -5.810000e+02   \n",
       "SELLERPLACE_AREA          -1.000000e+00 -1.000000e+00  3.000000e+00   \n",
       "CNT_PAYMENT                0.000000e+00  6.000000e+00  1.200000e+01   \n",
       "DAYS_FIRST_DRAWING        -2.922000e+03  3.652430e+05  3.652430e+05   \n",
       "DAYS_FIRST_DUE            -2.892000e+03 -1.628000e+03 -8.310000e+02   \n",
       "DAYS_LAST_DUE_1ST_VERSION -2.801000e+03 -1.242000e+03 -3.610000e+02   \n",
       "DAYS_LAST_DUE             -2.889000e+03 -1.314000e+03 -5.370000e+02   \n",
       "DAYS_TERMINATION          -2.874000e+03 -1.270000e+03 -4.990000e+02   \n",
       "NFLAG_INSURED_ON_APPROVAL  0.000000e+00  0.000000e+00  0.000000e+00   \n",
       "\n",
       "                                    75%          max  \n",
       "SK_ID_PREV                 2.384280e+06  2845382.000  \n",
       "SK_ID_CURR                 3.675140e+05   456255.000  \n",
       "AMT_ANNUITY                2.065842e+04   418058.145  \n",
       "AMT_APPLICATION            1.803600e+05  6905160.000  \n",
       "AMT_CREDIT                 2.164185e+05  6905160.000  \n",
       "AMT_DOWN_PAYMENT           7.740000e+03  3060045.000  \n",
       "AMT_GOODS_PRICE            2.340000e+05  6905160.000  \n",
       "HOUR_APPR_PROCESS_START    1.500000e+01       23.000  \n",
       "NFLAG_LAST_APPL_IN_DAY     1.000000e+00        1.000  \n",
       "RATE_DOWN_PAYMENT          1.089091e-01        1.000  \n",
       "RATE_INTEREST_PRIMARY      1.933299e-01        1.000  \n",
       "RATE_INTEREST_PRIVILEGED   8.525370e-01        1.000  \n",
       "DAYS_DECISION             -2.800000e+02       -1.000  \n",
       "SELLERPLACE_AREA           8.200000e+01  4000000.000  \n",
       "CNT_PAYMENT                2.400000e+01       84.000  \n",
       "DAYS_FIRST_DRAWING         3.652430e+05   365243.000  \n",
       "DAYS_FIRST_DUE            -4.110000e+02   365243.000  \n",
       "DAYS_LAST_DUE_1ST_VERSION  1.290000e+02   365243.000  \n",
       "DAYS_LAST_DUE             -7.400000e+01   365243.000  \n",
       "DAYS_TERMINATION          -4.400000e+01   365243.000  \n",
       "NFLAG_INSURED_ON_APPROVAL  1.000000e+00        1.000  "
      ]
     },
     "execution_count": 10,
     "metadata": {},
     "output_type": "execute_result"
    }
   ],
   "source": [
    "pd.set_option(\"display.max_rows\", 120)\n",
    "pd.set_option(\"display.max_columns\", 120)\n",
    "\n",
    "previous.describe().T"
   ]
  },
  {
   "cell_type": "markdown",
   "id": "c45bcf0e-0736-4c6a-8f27-b2d14bf81eb4",
   "metadata": {},
   "source": [
    "**Key insights:**\n",
    "\n",
    "Most financial metrics (AMT_ANNUITY, AMT_APPLICATION, AMT_CREDIT, AMT_DOWN_PAYMENT, AMT_GOODS_PRICE) has outliers or extreme cases.\n",
    "\n",
    "Some time Features has values 365243, could be anomalies.\n",
    "\n",
    "Some columns has a lot of missing values."
   ]
  },
  {
   "cell_type": "markdown",
   "id": "25739bab-ae42-436b-bd97-4077b8d9dddd",
   "metadata": {},
   "source": []
  },
  {
   "cell_type": "markdown",
   "id": "023fa639-0aef-4ebd-94c2-53a7498e52ba",
   "metadata": {},
   "source": [
    "**Missing values**"
   ]
  },
  {
   "cell_type": "code",
   "execution_count": 11,
   "id": "3c7aa44e-905a-4b72-b7fe-e6df05ede557",
   "metadata": {},
   "outputs": [
    {
     "data": {
      "text/html": [
       "<div>\n",
       "<style scoped>\n",
       "    .dataframe tbody tr th:only-of-type {\n",
       "        vertical-align: middle;\n",
       "    }\n",
       "\n",
       "    .dataframe tbody tr th {\n",
       "        vertical-align: top;\n",
       "    }\n",
       "\n",
       "    .dataframe thead th {\n",
       "        text-align: right;\n",
       "    }\n",
       "</style>\n",
       "<table border=\"1\" class=\"dataframe\">\n",
       "  <thead>\n",
       "    <tr style=\"text-align: right;\">\n",
       "      <th></th>\n",
       "      <th>Missing Count</th>\n",
       "      <th>Missing Count Ratio</th>\n",
       "      <th>Missing Count %</th>\n",
       "    </tr>\n",
       "  </thead>\n",
       "  <tbody>\n",
       "    <tr>\n",
       "      <th>RATE_INTEREST_PRIVILEGED</th>\n",
       "      <td>1664263</td>\n",
       "      <td>9.964370e-01</td>\n",
       "      <td>99.6</td>\n",
       "    </tr>\n",
       "    <tr>\n",
       "      <th>RATE_INTEREST_PRIMARY</th>\n",
       "      <td>1664263</td>\n",
       "      <td>9.964370e-01</td>\n",
       "      <td>99.6</td>\n",
       "    </tr>\n",
       "    <tr>\n",
       "      <th>AMT_DOWN_PAYMENT</th>\n",
       "      <td>895844</td>\n",
       "      <td>5.363648e-01</td>\n",
       "      <td>53.6</td>\n",
       "    </tr>\n",
       "    <tr>\n",
       "      <th>RATE_DOWN_PAYMENT</th>\n",
       "      <td>895844</td>\n",
       "      <td>5.363648e-01</td>\n",
       "      <td>53.6</td>\n",
       "    </tr>\n",
       "    <tr>\n",
       "      <th>NAME_TYPE_SUITE</th>\n",
       "      <td>820405</td>\n",
       "      <td>4.911975e-01</td>\n",
       "      <td>49.1</td>\n",
       "    </tr>\n",
       "    <tr>\n",
       "      <th>NFLAG_INSURED_ON_APPROVAL</th>\n",
       "      <td>673065</td>\n",
       "      <td>4.029813e-01</td>\n",
       "      <td>40.3</td>\n",
       "    </tr>\n",
       "    <tr>\n",
       "      <th>DAYS_TERMINATION</th>\n",
       "      <td>673065</td>\n",
       "      <td>4.029813e-01</td>\n",
       "      <td>40.3</td>\n",
       "    </tr>\n",
       "    <tr>\n",
       "      <th>DAYS_LAST_DUE</th>\n",
       "      <td>673065</td>\n",
       "      <td>4.029813e-01</td>\n",
       "      <td>40.3</td>\n",
       "    </tr>\n",
       "    <tr>\n",
       "      <th>DAYS_LAST_DUE_1ST_VERSION</th>\n",
       "      <td>673065</td>\n",
       "      <td>4.029813e-01</td>\n",
       "      <td>40.3</td>\n",
       "    </tr>\n",
       "    <tr>\n",
       "      <th>DAYS_FIRST_DUE</th>\n",
       "      <td>673065</td>\n",
       "      <td>4.029813e-01</td>\n",
       "      <td>40.3</td>\n",
       "    </tr>\n",
       "    <tr>\n",
       "      <th>DAYS_FIRST_DRAWING</th>\n",
       "      <td>673065</td>\n",
       "      <td>4.029813e-01</td>\n",
       "      <td>40.3</td>\n",
       "    </tr>\n",
       "    <tr>\n",
       "      <th>AMT_GOODS_PRICE</th>\n",
       "      <td>385515</td>\n",
       "      <td>2.308177e-01</td>\n",
       "      <td>23.1</td>\n",
       "    </tr>\n",
       "    <tr>\n",
       "      <th>AMT_ANNUITY</th>\n",
       "      <td>372235</td>\n",
       "      <td>2.228667e-01</td>\n",
       "      <td>22.3</td>\n",
       "    </tr>\n",
       "    <tr>\n",
       "      <th>CNT_PAYMENT</th>\n",
       "      <td>372230</td>\n",
       "      <td>2.228637e-01</td>\n",
       "      <td>22.3</td>\n",
       "    </tr>\n",
       "    <tr>\n",
       "      <th>PRODUCT_COMBINATION</th>\n",
       "      <td>346</td>\n",
       "      <td>2.071591e-04</td>\n",
       "      <td>0.0</td>\n",
       "    </tr>\n",
       "    <tr>\n",
       "      <th>AMT_CREDIT</th>\n",
       "      <td>1</td>\n",
       "      <td>5.987257e-07</td>\n",
       "      <td>0.0</td>\n",
       "    </tr>\n",
       "  </tbody>\n",
       "</table>\n",
       "</div>"
      ],
      "text/plain": [
       "                           Missing Count  Missing Count Ratio  Missing Count %\n",
       "RATE_INTEREST_PRIVILEGED         1664263         9.964370e-01             99.6\n",
       "RATE_INTEREST_PRIMARY            1664263         9.964370e-01             99.6\n",
       "AMT_DOWN_PAYMENT                  895844         5.363648e-01             53.6\n",
       "RATE_DOWN_PAYMENT                 895844         5.363648e-01             53.6\n",
       "NAME_TYPE_SUITE                   820405         4.911975e-01             49.1\n",
       "NFLAG_INSURED_ON_APPROVAL         673065         4.029813e-01             40.3\n",
       "DAYS_TERMINATION                  673065         4.029813e-01             40.3\n",
       "DAYS_LAST_DUE                     673065         4.029813e-01             40.3\n",
       "DAYS_LAST_DUE_1ST_VERSION         673065         4.029813e-01             40.3\n",
       "DAYS_FIRST_DUE                    673065         4.029813e-01             40.3\n",
       "DAYS_FIRST_DRAWING                673065         4.029813e-01             40.3\n",
       "AMT_GOODS_PRICE                   385515         2.308177e-01             23.1\n",
       "AMT_ANNUITY                       372235         2.228667e-01             22.3\n",
       "CNT_PAYMENT                       372230         2.228637e-01             22.3\n",
       "PRODUCT_COMBINATION                  346         2.071591e-04              0.0\n",
       "AMT_CREDIT                             1         5.987257e-07              0.0"
      ]
     },
     "execution_count": 11,
     "metadata": {},
     "output_type": "execute_result"
    }
   ],
   "source": [
    "missing_columns(previous)"
   ]
  },
  {
   "cell_type": "code",
   "execution_count": 12,
   "id": "95465a15-db76-4d3b-97f1-056be06c88e3",
   "metadata": {},
   "outputs": [
    {
     "name": "stdout",
     "output_type": "stream",
     "text": [
      "Missing rows: 1670143 of 1670214 total rows in data set.\n",
      "Missing rows %: 100.00\n"
     ]
    }
   ],
   "source": [
    "calculate_missing_rows(previous)"
   ]
  },
  {
   "cell_type": "markdown",
   "id": "fbf3a7d5-4df8-4144-81d7-4e1ce72143f6",
   "metadata": {},
   "source": [
    "2 columns almost 100% missing. We will use imputation."
   ]
  },
  {
   "cell_type": "markdown",
   "id": "90e68fda-1ddc-4ead-b641-4016b7abd08e",
   "metadata": {},
   "source": []
  },
  {
   "cell_type": "markdown",
   "id": "fe3bf57c-691c-41c2-8b07-6aefa856ac43",
   "metadata": {},
   "source": [
    "**Checking for duplicates.**"
   ]
  },
  {
   "cell_type": "code",
   "execution_count": 18,
   "id": "2e5f9d07-24f9-4b19-a435-61b9516830f6",
   "metadata": {},
   "outputs": [
    {
     "name": "stdout",
     "output_type": "stream",
     "text": [
      "Duplicates: 0, 0.00%\n"
     ]
    }
   ],
   "source": [
    "print(\n",
    "    f\"Duplicates: {previous.duplicated().sum()}, {(previous.duplicated().sum() / len(previous) * 100):.2f}%\"\n",
    ")"
   ]
  },
  {
   "cell_type": "markdown",
   "id": "76c77552-869d-433f-a1c6-59b773629132",
   "metadata": {},
   "source": [
    "No duplicates in this dataset."
   ]
  },
  {
   "cell_type": "markdown",
   "id": "5e0469b3-918a-4525-8cb2-1c0011cac59c",
   "metadata": {},
   "source": []
  },
  {
   "cell_type": "markdown",
   "id": "7e3b03f6-125a-422b-961f-89ce07c87933",
   "metadata": {},
   "source": [
    "**Sweetviz report**\n",
    "\n",
    "We can find the report in EDA folder."
   ]
  },
  {
   "cell_type": "code",
   "execution_count": null,
   "id": "de481e8a-a8dd-4ff8-94ee-55006fb23569",
   "metadata": {
    "scrolled": true
   },
   "outputs": [],
   "source": [
    "report = sv.analyze(df)\n",
    "html_file = f\"previous_sweetviz_report.html\"\n",
    "report.show_html(html_file)\n",
    "#display(IFrame(html_file, width=950, height=600))"
   ]
  },
  {
   "cell_type": "markdown",
   "id": "631ef71d-4ccf-4d8a-beaa-6903edcc797f",
   "metadata": {},
   "source": []
  },
  {
   "cell_type": "markdown",
   "id": "35f0eed3-c3b6-4269-bf8e-86c6f98ca147",
   "metadata": {},
   "source": [
    "**Ydata Report**\n",
    "\n",
    "The report exceeds 25MB, it was not submitted to GitHub."
   ]
  },
  {
   "cell_type": "code",
   "execution_count": null,
   "id": "a3eba490-7cd2-4051-a91c-a55b3e656242",
   "metadata": {},
   "outputs": [],
   "source": [
    "profile = ProfileReport(df, title=\"previous_application_balance EDA\", explorative=True)\n",
    "\n",
    "profile.to_file(\"previous_application_EDA.html\")"
   ]
  },
  {
   "cell_type": "markdown",
   "id": "5d5227b1-5c72-4323-9791-c56e837625e8",
   "metadata": {},
   "source": []
  },
  {
   "cell_type": "markdown",
   "id": "c9fc8ca4-426c-4554-9565-80fe4916017a",
   "metadata": {},
   "source": [
    "### B. Feature analysis"
   ]
  },
  {
   "cell_type": "markdown",
   "id": "5659bd87-3feb-4d9a-b25f-1d2060e6a493",
   "metadata": {},
   "source": [
    "    NAME_CONTRACT_TYPE - Contract product type (Cash loan, consumer loan [POS] ,...) of the previous application"
   ]
  },
  {
   "cell_type": "markdown",
   "id": "f7a24813-60c0-456c-bcf5-d008d75d74e9",
   "metadata": {},
   "source": [
    "High correlation with DAYS_FIRST_DRAWING, DAYS_LAST_DUE_1ST_VERSION, NAME_PORTFOLIO, PRODUCT_COMBINATION, RATE_INTEREST_PRIMARY, RATE_INTEREST_PRIVILEGED\n",
    "\n",
    "Categorical, no missing values.\n",
    "\n",
    "Distribution: Cash loans 44.8%, Consumer loans 43.7%, Revolving loans 11.6%."
   ]
  },
  {
   "cell_type": "markdown",
   "id": "d3e76b95-435f-45bd-98c6-5e5532eb1f36",
   "metadata": {},
   "source": []
  },
  {
   "cell_type": "markdown",
   "id": "9ac2418f-0947-482c-91c4-1533a0a11768",
   "metadata": {},
   "source": [
    "    AMT_ANNUITY - Annuity of previous application"
   ]
  },
  {
   "cell_type": "markdown",
   "id": "29f631f0-d245-455c-86a5-3542da00af86",
   "metadata": {},
   "source": [
    "High correlation with AMT_APPLICATION, AMT_CREDIT, AMT_GOODS_PRICE.\n",
    "\n",
    "Numerical, 22.3% missing values, 0.1% zeros, no negative values.\n",
    "\n",
    "Minimum\t0, Maximum\t418,058.15, Mean 15,955.121. Right skewed. Outliers."
   ]
  },
  {
   "cell_type": "markdown",
   "id": "86caad2f-95f3-44c3-9747-3777c66492f9",
   "metadata": {},
   "source": []
  },
  {
   "cell_type": "markdown",
   "id": "78178bd9-8729-4b44-8d11-dc454df471d2",
   "metadata": {},
   "source": [
    "    AMT_APPLICATION - For how much credit did client ask on the previous application"
   ]
  },
  {
   "cell_type": "markdown",
   "id": "567e7c6a-3936-4b19-a0c4-7a12e0f76e34",
   "metadata": {},
   "source": [
    "High correlation with AMT_ANNUITY, AMT_CREDIT, AMT_GOODS_PRICE, CNT_PAYMENT.\n",
    "\n",
    "Numerical, no missing values, 23.5% zeros, no negative values.\n",
    "\n",
    "Minimum\t0, Maximum 6,905,160, Mean 175,233.86. Right skewed. Outliers."
   ]
  },
  {
   "cell_type": "markdown",
   "id": "bc368265-eb6a-44d1-aeba-d33388ea9072",
   "metadata": {},
   "source": []
  },
  {
   "cell_type": "markdown",
   "id": "c3e82fc2-cfaa-45b8-9a41-f33c16580659",
   "metadata": {},
   "source": [
    "    AMT_CREDIT - Final credit amount on the previous application. This differs from AMT_APPLICATION in a way that the AMT_APPLICATION is the amount for which the client initially applied for, but during our approval process he could have received different amount - AMT_CREDIT"
   ]
  },
  {
   "cell_type": "markdown",
   "id": "1e8d3e26-799c-49b1-9811-c2c617c72cbf",
   "metadata": {},
   "source": [
    "High correlation with AMT_ANNUITY, AMT_APPLICATION, AMT_GOODS_PRICE.\n",
    "\n",
    "Numerical, <0.1% missing values, 20.2% zeros, no negative values.\n",
    "\n",
    "Minimum\t0, Maximum 6,905,160, Mean 196,114.02. Right skewed. Outliers.\n",
    "\n",
    "    Feature engineering:\n",
    "        - How much did they ask for vs how much they got\n",
    "            APP_CREDIT_DIFF = AMT_APPLICATION - AMT_CREDIT\n",
    "            APP_CREDIT_RATIO = AMT_CREDIT / AMT_APPLICATION\n",
    "            to avoid extreme values APP_CREDIT_RATIO.clip(0.5, 1.5)"
   ]
  },
  {
   "cell_type": "markdown",
   "id": "6e935298-2aa2-49ad-9b69-4fa7837559a4",
   "metadata": {},
   "source": []
  },
  {
   "cell_type": "markdown",
   "id": "99c05a8e-f99c-4c7c-a58f-09e65e970c22",
   "metadata": {},
   "source": [
    "    AMT_DOWN_PAYMENT - Down payment on the previous application"
   ]
  },
  {
   "cell_type": "markdown",
   "id": "9ca1fb1b-d346-4aaf-9203-f7c4c9848aba",
   "metadata": {},
   "source": [
    "High correlation with RATE_DOWN_PAYMENT.\n",
    "\n",
    "Numerical, 53.6% missing values, 22.1% zeros, negative < 0.1%.\n",
    "\n",
    "Minimum\t-0.9, Maximum 3,060,045, Mean 6,697.4. Outliers."
   ]
  },
  {
   "cell_type": "markdown",
   "id": "ce6fb2e0-a9da-4c81-9c36-5e40ae3a4204",
   "metadata": {},
   "source": []
  },
  {
   "cell_type": "markdown",
   "id": "514115bf-1bfa-469c-9894-951f501567bb",
   "metadata": {},
   "source": [
    "    AMT_GOODS_PRICE - Goods price of good that client asked for (if applicable) on the previous application"
   ]
  },
  {
   "cell_type": "markdown",
   "id": "ad6ec0f8-f7e8-4c4f-a8f0-17f75f005701",
   "metadata": {},
   "source": [
    "High correlation with AMT_ANNUITY, AMT_APPLICATION, AMT_CREDIT.\n",
    "\n",
    "Numerical, 23.1% missing values, 0.4% zeros, no negative values.\n",
    "\n",
    "Minimum\t0, Maximum 6,905,160, Mean 227,847.28. Right skewed. Outliers."
   ]
  },
  {
   "cell_type": "markdown",
   "id": "193e04ac-b2ed-4bc6-8184-1b2ad3af6be7",
   "metadata": {},
   "source": []
  },
  {
   "cell_type": "markdown",
   "id": "d9324378-5a44-46c2-b84e-e6443b583b04",
   "metadata": {},
   "source": [
    "    WEEKDAY_APPR_PROCESS_START - On which day of the week did the client apply for previous application"
   ]
  },
  {
   "cell_type": "markdown",
   "id": "b68883ea-e3b5-4ad7-8c22-4e8fc33fc6dc",
   "metadata": {},
   "source": [
    "Categorical, no missing values.\n",
    "\n",
    "Distinct 7. Mon - Sat: 14.4% - 15.3%, Sun - 9.9%."
   ]
  },
  {
   "cell_type": "markdown",
   "id": "a67367bd-ac91-494a-b00f-2d95665d7f7f",
   "metadata": {},
   "source": []
  },
  {
   "cell_type": "markdown",
   "id": "fd149be3-e29a-4362-bb1b-02971329beb7",
   "metadata": {},
   "source": [
    "    HOUR_APPR_PROCESS_START - Approximately at what day hour did the client apply for the previous application, rounded"
   ]
  },
  {
   "cell_type": "markdown",
   "id": "1d43c0f9-b055-468e-b9d4-c815195a9f91",
   "metadata": {},
   "source": [
    "Numerical, no missing values, <0.1% zeros.\n",
    "\n",
    "Minimum 0, Maximum 23, Mean 12.5. Distribution close to normal, right skewed. Outliers."
   ]
  },
  {
   "cell_type": "markdown",
   "id": "15fd2035-eeae-488c-90eb-e098a133a5ed",
   "metadata": {},
   "source": []
  },
  {
   "cell_type": "markdown",
   "id": "c39a6a21-7c3d-4ae2-812f-b150377caaca",
   "metadata": {},
   "source": [
    "    FLAG_LAST_APPL_PER_CONTRACT - Flag if it was last application for the previous contract. Sometimes by mistake of client or our clerk there could be more applications for one single contract"
   ]
  },
  {
   "attachments": {},
   "cell_type": "markdown",
   "id": "086e3631-3218-4244-aa83-5d96df54d02b",
   "metadata": {},
   "source": [
    "High correlation with DAYS_FIRST_DRAWING, DAYS_FIRST_DUE, DAYS_LAST_DUE, DAYS_LAST_DUE_1ST_VERSION, DAYS_TERMINATION, NFLAG_INSURED_ON_APPROVAL, NFLAG_LAST_APPL_IN_DAY, RATE_INTEREST_PRIMARY, RATE_INTEREST_PRIVILEGED.\n",
    "\n",
    "Boolean, no missing values, 2 distinct, imbalanced distribution: True - 99.5%, False - 0.5%."
   ]
  },
  {
   "cell_type": "markdown",
   "id": "8ccb65cd-90bc-4219-8a7e-265fa908bcb8",
   "metadata": {},
   "source": []
  },
  {
   "cell_type": "markdown",
   "id": "9ce51c81-f1ef-4778-806a-4a88584b82fe",
   "metadata": {},
   "source": [
    "    NFLAG_LAST_APPL_IN_DAY - Flag if the application was the last application per day of the client. Sometimes clients apply for more applications a day. Rarely it could also be error in our system that one application is in the database twice"
   ]
  },
  {
   "cell_type": "markdown",
   "id": "eef4041e-17f8-4aa1-9752-f151a9160c80",
   "metadata": {},
   "source": [
    "High correlation with FLAG_LAST_APPL_PER_CONTRACT.\n",
    "\n",
    "Categorical, no missing values, 2 distinct, imbalanced distribution: 1 - 99.6%, 0 - 0.4%."
   ]
  },
  {
   "cell_type": "markdown",
   "id": "43549583-0219-4e8c-9deb-d9ab20a90544",
   "metadata": {},
   "source": []
  },
  {
   "cell_type": "markdown",
   "id": "a49fac96-3a3f-452c-9dfd-50fd1f07ddf0",
   "metadata": {},
   "source": [
    "    RATE_DOWN_PAYMENT - Down payment rate normalized on previous credit, normalized"
   ]
  },
  {
   "cell_type": "markdown",
   "id": "863eda0d-9bc2-45e9-8906-9d6d421708b2",
   "metadata": {},
   "source": [
    "High correlation with AMT_DOWN_PAYMENT.\n",
    "\n",
    "Numerical, 53.6% missing values, 22.1% zeros, negative < 0.1%.\n",
    "\n",
    "Minimum\t-0.000015, Maximum 1, Mean 0.08. Right skewed. Outliers.\n",
    "\n",
    "    Clip on 0."
   ]
  },
  {
   "cell_type": "markdown",
   "id": "bb5ece13-6f04-48f0-856f-e7b357647837",
   "metadata": {},
   "source": []
  },
  {
   "cell_type": "markdown",
   "id": "fba9a70b-7c3b-4158-b2bb-6234b57fd4b8",
   "metadata": {},
   "source": [
    "    RATE_INTEREST_PRIMARY - Interest rate normalized on previous credit,normalized."
   ]
  },
  {
   "attachments": {},
   "cell_type": "markdown",
   "id": "61ab0a74-f0ba-404a-a8cf-07164304b9fb",
   "metadata": {},
   "source": [
    "High correlation with FLAG_LAST_APPL_PER_CONTRACT, NAME_CASH_LOAN_PURPOSE, NAME_CONTRACT_STATUS, NAME_CONTRACT_TYPE, NAME_PORTFOLIO, NAME_PRODUCT_TYPE, NAME_YIELD_GROUP, RATE_INTEREST_PRIVILEGED.\n",
    "\n",
    "Numerical, 99.6% missing values, no zeros, no negative values.\n",
    "\n",
    "Minimum\t0.03, Maximum 1, Mean 0.188. Outliers. "
   ]
  },
  {
   "cell_type": "markdown",
   "id": "40ba629f-fd10-48e9-bf0a-44c95d196346",
   "metadata": {},
   "source": []
  },
  {
   "cell_type": "markdown",
   "id": "c30da51a-ebea-40e4-abcd-e8e27166f5ca",
   "metadata": {},
   "source": [
    "    RATE_INTEREST_PRIVILEGED - Interest rate normalized on previous credit,normalized"
   ]
  },
  {
   "cell_type": "markdown",
   "id": "0feb0ff5-f1e5-4964-be64-eb5a0cc617aa",
   "metadata": {},
   "source": [
    "High correlation with FLAG_LAST_APPL_PER_CONTRACT, NAME_CASH_LOAN_PURPOSE, NAME_CONTRACT_STATUS, NAME_CONTRACT_TYPE, NAME_PORTFOLIO, NAME_PRODUCT_TYPE, NAME_YIELD_GROUP, RATE_INTEREST_PRIMARY.\n",
    "\n",
    "Numerical, 99.6% missing values, no zeros.\n",
    "\n",
    "Minimum\t0.37, Maximum 1, Mean 0.77. Left skewed. Outliers."
   ]
  },
  {
   "cell_type": "markdown",
   "id": "b860c396-833a-4258-9bd2-5c5e5a85b284",
   "metadata": {},
   "source": []
  },
  {
   "cell_type": "markdown",
   "id": "5c459ab9-2ab6-4cd9-8c59-ba32d4a47b46",
   "metadata": {},
   "source": [
    "    NAME_CASH_LOAN_PURPOSE - Purpose of the cash loan"
   ]
  },
  {
   "cell_type": "markdown",
   "id": "64c6eee5-6e75-4c7f-abf8-6826d38edec1",
   "metadata": {},
   "source": [
    "High correlation with NAME_CONTRACT_STATUS, NAME_PRODUCT_TYPE, NFLAG_INSURED_ON_APPROVAL, RATE_INTEREST_PRIMARY, RATE_INTEREST_PRIVILEGED.\n",
    "\n",
    "Categorical, no missing values, 25 distinct values, imbalanced distribution: XAP 55.2%, XNA 40.6%."
   ]
  },
  {
   "cell_type": "markdown",
   "id": "c072eb11-51f3-43ba-b0af-1c8b1b80a08a",
   "metadata": {},
   "source": []
  },
  {
   "cell_type": "markdown",
   "id": "005bed3d-4c1d-4034-ba3a-4958e13b90ee",
   "metadata": {},
   "source": [
    "    NAME_CONTRACT_STATUS - Contract status (approved, cancelled, ...) of previous application"
   ]
  },
  {
   "attachments": {},
   "cell_type": "markdown",
   "id": "71b53088-805c-4a57-8c1b-8a1fea7d05ad",
   "metadata": {},
   "source": [
    "High correlation with CODE_REJECT_REASON, DAYS_FIRST_DRAWING, DAYS_FIRST_DUE, DAYS_LAST_DUE\tDAYS_LAST_DUE_1ST_VERSION, DAYS_TERMINATION, NFLAG_INSURED_ON_APPROVAL, RATE_INTEREST_PRIMARY, RATE_INTEREST_PRIVILEGED.\n",
    "\n",
    "Categorical, no missing values, 4 distinct values, imbalanced distribution: Approved 62.1%, Canceled 18.9%, Refused 17.4%, Unused offer 1.6%.\n",
    "\n",
    "    Flags for application status."
   ]
  },
  {
   "cell_type": "markdown",
   "id": "2b4b9914-4663-4550-8d0f-f0ee9215a6d1",
   "metadata": {},
   "source": []
  },
  {
   "cell_type": "markdown",
   "id": "e1f03e78-6b42-4ed5-b320-0c1b2baf881c",
   "metadata": {},
   "source": [
    "    DAYS_DECISION - Relative to current application when was the decision about previous application made,time only relative to the application"
   ]
  },
  {
   "cell_type": "markdown",
   "id": "7245b2bc-877d-4761-bf9b-96b98c5f748f",
   "metadata": {},
   "source": [
    "High correlation with DAYS_FIRST_DUE, DAYS_LAST_DUE_1ST_VERSION, DAYS_LAST_DUE, DAYS_TERMINATION, RATE_INTEREST_PRIVILEGED.\n",
    "\n",
    "Numerical, no missing values, no zeros.\n",
    "\n",
    "Minimum\t-2,922 (~8 years), Maximum -1, Mean\t-880.7. Left skewed. Outliers.\n",
    "\n",
    "    Convert to positive."
   ]
  },
  {
   "cell_type": "markdown",
   "id": "0a167d7d-56cb-4971-a950-f8d50e5d29e3",
   "metadata": {},
   "source": []
  },
  {
   "cell_type": "markdown",
   "id": "e0c8629b-50f9-4fe2-89b4-300b308886d0",
   "metadata": {},
   "source": [
    "    NAME_PAYMENT_TYPE - Payment method that client chose to pay for the previous application"
   ]
  },
  {
   "cell_type": "markdown",
   "id": "fc837458-c0b7-437b-9308-934c08f53787",
   "metadata": {},
   "source": [
    "Categorical, no missing values, 4 distinct values, imbalanced distribution: Cash through the bank 61.9%, XNA 37.6%, Non-cash from your account \t0.5%, Cashless from the account of the employer 0.1%."
   ]
  },
  {
   "cell_type": "markdown",
   "id": "e1683d69-79c3-459a-bb28-95f61b1e3a4d",
   "metadata": {},
   "source": []
  },
  {
   "cell_type": "markdown",
   "id": "e0502cf4-279a-4d2d-8e3e-0a47a01279a2",
   "metadata": {},
   "source": [
    "    CODE_REJECT_REASON - Why was the previous application rejected"
   ]
  },
  {
   "cell_type": "markdown",
   "id": "2df49f0c-2374-4fe7-8657-ff9d8153cf22",
   "metadata": {},
   "source": [
    "High correlation with NAME_CONTRACT_STATUS.\n",
    "\n",
    "Categorical, no missing values, 9 distinct values, imbalanced distribution: XAP 81.0%, HC 10.5%, LIMIT 3.3%.\n",
    "\n",
    "    Feature engineering:\n",
    "    - Create binary flag for top reason.\n",
    "    - Create ratios rejections / total previous applications for top 3 reason."
   ]
  },
  {
   "cell_type": "markdown",
   "id": "7bd4f7b4-d3cd-41f4-a2de-a3c736aef23a",
   "metadata": {},
   "source": []
  },
  {
   "cell_type": "markdown",
   "id": "290905b1-f981-4e8d-8171-5e0398a6c69d",
   "metadata": {},
   "source": [
    "    NAME_TYPE_SUITE - Who accompanied client when applying for the previous application"
   ]
  },
  {
   "cell_type": "markdown",
   "id": "c1c2b8ae-dccb-4762-8a04-aa6c89235c87",
   "metadata": {},
   "source": [
    "Categorical, 49.1% missing values, 7 distinct values, imbalanced distribution: Unaccompanied 30.5%, Family 12.8%, Spouse, partner 4.0%."
   ]
  },
  {
   "cell_type": "markdown",
   "id": "d2f3fdd5-e680-4ab3-8a5f-c8222c995995",
   "metadata": {},
   "source": []
  },
  {
   "cell_type": "markdown",
   "id": "f9547c2f-484c-4c79-af67-05094fa2e14e",
   "metadata": {},
   "source": [
    "    NAME_CLIENT_TYPE - Was the client old or new client when applying for the previous application"
   ]
  },
  {
   "cell_type": "markdown",
   "id": "f25036f9-d64d-4eff-bb42-930b475ab37c",
   "metadata": {},
   "source": [
    "Categorical, no missing values, 4 distinct values, imbalanced distribution: Repeater 73.7%, New 18.0%, Refreshed 8.1%, XNA 0.1%."
   ]
  },
  {
   "cell_type": "markdown",
   "id": "35c8d248-d110-48ee-bf7f-d564a2c698d2",
   "metadata": {},
   "source": []
  },
  {
   "cell_type": "markdown",
   "id": "2b8f4520-b6df-446f-9bc2-13aec1dc2734",
   "metadata": {},
   "source": [
    "    NAME_GOODS_CATEGORY - What kind of goods did the client apply for in the previous application"
   ]
  },
  {
   "cell_type": "markdown",
   "id": "9bf7266f-a4d5-4f37-b53e-75d13c38f2f3",
   "metadata": {},
   "source": [
    "High correlation with NAME_SELLER_INDUSTRY.\n",
    "\n",
    "Categorical, no missing values, 28 distinct values, imbalanced distribution: XNA 56.9%, Mobile 13.5%, Consumer Electronics 7.3%."
   ]
  },
  {
   "cell_type": "markdown",
   "id": "d4551b29-1542-42ce-aaef-ca222669152d",
   "metadata": {},
   "source": []
  },
  {
   "cell_type": "markdown",
   "id": "b8348551-0d76-4c5c-9b84-28040bd8ed05",
   "metadata": {},
   "source": [
    "    NAME_PORTFOLIO - Was the previous application for CASH, POS, CAR, …"
   ]
  },
  {
   "cell_type": "markdown",
   "id": "dcb167c6-b95f-4679-a18d-33852e9845b0",
   "metadata": {},
   "source": [
    "High correlation with DAYS_FIRST_DRAWING, DAYS_LAST_DUE_1ST_VERSION, NAME_CONTRACT_TYPE, NAME_PRODUCT_TYPE, PRODUCT_COMBINATION, RATE_INTEREST_PRIMARY, RATE_INTEREST_PRIVILEGED.\n",
    "\n",
    "Categorical, no missing values, 5 distinct values, imbalanced distribution: POS 41.4%, Cash 27.6%, XNA 22.3%, Cards 8.7%, Cars < 0.1%."
   ]
  },
  {
   "cell_type": "markdown",
   "id": "9422ce5a-d756-436e-8526-ac79f646623e",
   "metadata": {},
   "source": []
  },
  {
   "cell_type": "markdown",
   "id": "14c0d8c9-a5bb-4b05-8a94-e2cb7db8c4e5",
   "metadata": {},
   "source": [
    "    NAME_PRODUCT_TYPE - Was the previous application x-sell o walk-in"
   ]
  },
  {
   "cell_type": "markdown",
   "id": "2254a582-4c58-4545-b09f-014cc2cacd93",
   "metadata": {},
   "source": [
    "High correlation with NAME_PORTFOLIO, PRODUCT_COMBINATION, RATE_INTEREST_PRIMARY, RATE_INTEREST_PRIVILEGED.\n",
    "\n",
    "Categorical, no missing values, 3 distinct values, imbalanced distribution: XNA 63.7%, x-sell 27.3%, walk-in 9.0%."
   ]
  },
  {
   "cell_type": "markdown",
   "id": "03e0a816-b12e-4780-bc43-3584dee55ed5",
   "metadata": {},
   "source": []
  },
  {
   "cell_type": "markdown",
   "id": "b6b75b5c-9597-4826-a216-5a70e3885239",
   "metadata": {},
   "source": [
    "    CHANNEL_TYPE - Through which channel we acquired the client on the previous application"
   ]
  },
  {
   "cell_type": "markdown",
   "id": "67eba3f0-75b7-4e58-81a2-2abb3bac1b3d",
   "metadata": {},
   "source": [
    "Categorical, no missing values, 8 distinct values, imbalanced distribution: Credit and cash offices 43.1%, Country-wide 29.6%, Stone 12.7%, Regional / Local 6.5%."
   ]
  },
  {
   "cell_type": "markdown",
   "id": "48ff9ec7-cd52-4b1c-9385-f5f09eb10878",
   "metadata": {},
   "source": []
  },
  {
   "cell_type": "markdown",
   "id": "1e526511-decd-40fa-b27c-3f3f2fd2862c",
   "metadata": {},
   "source": [
    "    SELLERPLACE_AREA - Selling area of seller place of the previous application"
   ]
  },
  {
   "cell_type": "markdown",
   "id": "75084e49-7c64-4f06-81a3-37ca2e811d6e",
   "metadata": {},
   "source": [
    "Numerical, no missing values, 3.6% zeros.\n",
    "\n",
    "Minimum\t-1, Maximum\t4,000,000.0, Mean 313.95. Right skewed. Outliers."
   ]
  },
  {
   "cell_type": "markdown",
   "id": "3e4b1426-3952-4ded-9b31-023bd06bb77e",
   "metadata": {},
   "source": []
  },
  {
   "cell_type": "markdown",
   "id": "a7d44cc9-8044-485f-81ba-0900b8b55d07",
   "metadata": {},
   "source": [
    "    NAME_SELLER_INDUSTRY - The industry of the seller"
   ]
  },
  {
   "cell_type": "markdown",
   "id": "934f59c8-7e7b-4da8-a3c6-a2d634f421bc",
   "metadata": {},
   "source": [
    "High correlation with NAME_GOODS_CATEGORY.\n",
    "\n",
    "Categorical, no missing values, 11 distinct values, distribution: XNA 51.2%, Consumer electronics 23.8%, Connectivity 16.5%."
   ]
  },
  {
   "cell_type": "markdown",
   "id": "1f0ec403-f52a-4799-b160-aeabd660545f",
   "metadata": {},
   "source": []
  },
  {
   "cell_type": "markdown",
   "id": "2c8aa579-d669-4857-8dbb-4af9d29549a9",
   "metadata": {},
   "source": [
    "    CNT_PAYMENT - Term of previous credit at application of the previous application"
   ]
  },
  {
   "cell_type": "markdown",
   "id": "43b9bb5d-d949-474b-b5ed-8099b6233cdf",
   "metadata": {},
   "source": [
    "Numerical, 22.3% missing values, 8.7% zeros, no negative values.\n",
    "\n",
    "Minimum\t0, Maximum\t84, Mean 16.1. Right skewed. Outliers."
   ]
  },
  {
   "cell_type": "markdown",
   "id": "63df57d0-5c78-42cf-9389-75db7c35c737",
   "metadata": {},
   "source": []
  },
  {
   "cell_type": "markdown",
   "id": "a7d6a417-a040-4cc4-85df-e1d32821273a",
   "metadata": {},
   "source": [
    "    NAME_YIELD_GROUP - Grouped interest rate into small medium and high of the previous application,grouped"
   ]
  },
  {
   "cell_type": "markdown",
   "id": "93b80a60-cbd0-4aae-aac9-6a06d65d9f47",
   "metadata": {},
   "source": [
    "High correlation with DAYS_FIRST_DRAWING, DAYS_LAST_DUE_1ST_VERSION, PRODUCT_COMBINATION, RATE_INTEREST_PRIMARY, RATE_INTEREST_PRIVILEGED.\n",
    "\n",
    "Categorical, no missing values, 5 distinct values, distribution: XNA 31.0%, middle 23.1%, high 21.2%, low_normal 19.3%, low_action 5.5%."
   ]
  },
  {
   "cell_type": "markdown",
   "id": "d80fab23-318e-4cbc-a15d-2d50042c8f09",
   "metadata": {},
   "source": []
  },
  {
   "cell_type": "markdown",
   "id": "2f80c699-35d6-482d-b718-1652138b3ca2",
   "metadata": {},
   "source": [
    "    PRODUCT_COMBINATION - Detailed product combination of the previous application"
   ]
  },
  {
   "cell_type": "markdown",
   "id": "bcdce86f-e72b-4281-9fc9-8c7a6f975f8b",
   "metadata": {},
   "source": [
    "High correlation with DAYS_FIRST_DRAWING, DAYS_LAST_DUE_1ST_VERSION, NAME_CONTRACT_TYPE, NAME_PORTFOLIO, NAME_PRODUCT_TYPE, NAME_YIELD_GROUP.\n",
    "\n",
    "Categorical, <0.1% missing values, 17 distinct values, distribution: Cash 17.1%, POS household with interest 15.8%, POS mobile with interest 13.2%, Cash X-Sell: middle 8.6%, Cash X-Sell: low 7.8%."
   ]
  },
  {
   "cell_type": "markdown",
   "id": "8a588b6d-69a7-4b74-a449-26b57e6a76a7",
   "metadata": {},
   "source": []
  },
  {
   "cell_type": "markdown",
   "id": "18dce23e-0ba8-41a6-9b47-006e9e8d5c95",
   "metadata": {},
   "source": [
    "    DAYS_FIRST_DRAWING - Relative to application date of current application when was the first disbursement of the previous application,time only relative to the application"
   ]
  },
  {
   "attachments": {},
   "cell_type": "markdown",
   "id": "2acbd2d4-0291-4ea3-b0dd-4fb94f74d595",
   "metadata": {},
   "source": [
    "High correlation with FLAG_LAST_APPL_PER_CONTRACT, NAME_CONTRACT_STATUS, NAME_CONTRACT_TYPE, NAME_PORTFOLIO, NAME_YIELD_GROUP, PRODUCT_COMBINATION.\n",
    "\n",
    "Minimum\t-2922 (~8 years), Maximum 365,243 ( 1,000 years, count 934,444, 55.9%), Mean 342,209.86. Anomalies.\n",
    "\n",
    "    Convert to days, flag anomalies."
   ]
  },
  {
   "cell_type": "markdown",
   "id": "06b590b6-966b-410e-81ee-9957668d975e",
   "metadata": {},
   "source": []
  },
  {
   "cell_type": "markdown",
   "id": "a88fd652-c19d-4a4c-af3b-30020e86fa02",
   "metadata": {},
   "source": [
    "    DAYS_FIRST_DUE - Relative to application date of current application when was the first due supposed to be of the previous application,time only relative to the application"
   ]
  },
  {
   "attachments": {},
   "cell_type": "markdown",
   "id": "4d37d62b-d7ec-4258-a12d-2d32bafaf0fb",
   "metadata": {},
   "source": [
    "High correlation with DAYS_DECISION, DAYS_LAST_DUE, DAYS_LAST_DUE_1ST_VERSION, DAYS_TERMINATION, FLAG_LAST_APPL_PER_CONTRACT, NAME_CONTRACT_STATUS. \n",
    "\n",
    "Numerical, 40.3% missing values, no zeros.\n",
    "\n",
    "Minimum\t-2922 (~8 years), Maximum 365,243 (1,000 years, count 934,444, 55.9%), Mean 342,209.86. Anomalies.\n",
    "\n",
    "    Convert to days, flag anomalies."
   ]
  },
  {
   "cell_type": "markdown",
   "id": "4b39e27e-5bc2-4c70-b72a-c7d8ea2bce96",
   "metadata": {},
   "source": []
  },
  {
   "cell_type": "markdown",
   "id": "c00fffcf-0833-433c-a483-d9289c13d50a",
   "metadata": {},
   "source": [
    "    DAYS_LAST_DUE_1ST_VERSION - Relative to application date of current application when was the first due of the previous application,time only relative to the application"
   ]
  },
  {
   "attachments": {},
   "cell_type": "markdown",
   "id": "6fb931ec-edd1-49b1-828f-e1abfa39b3bc",
   "metadata": {},
   "source": [
    "High correlation with DAYS_DECISION, DAYS_FIRST_DUE, DAYS_LAST_DUE, DAYS_TERMINATION, FLAG_LAST_APPL_PER_CONTRACT, NAME_CONTRACT_STATUS, NAME_CONTRACT_TYPE, NAME_PORTFOLIO, NAME_YIELD_GROUP, PRODUCT_COMBINATION.\n",
    "\n",
    "Numerical, 40.3% missing values, <0.1% zeros.\n",
    "\n",
    "Minimum\t-2801 (~8 years), Maximum 365,243 (1,000 years, count 93,864, 5.6%), Mean 33,767.8. Anomalies.\n",
    "\n",
    "    Convert to days, flag anomalies."
   ]
  },
  {
   "cell_type": "markdown",
   "id": "c1ae2e55-e493-4c28-8f29-23ad0f20e3b9",
   "metadata": {},
   "source": []
  },
  {
   "cell_type": "markdown",
   "id": "106ddbda-1763-4f3b-9873-58d7a1ae2231",
   "metadata": {},
   "source": [
    "    DAYS_LAST_DUE - Relative to application date of current application when was the last due date of the previous application,time only relative to the application"
   ]
  },
  {
   "cell_type": "markdown",
   "id": "7201a017-5c4c-493a-93f5-3c2f7fc3ab92",
   "metadata": {},
   "source": [
    "High correlation with  DAYS_DECISION, DAYS_FIRST_DUE, DAYS_LAST_DUE_1ST_VERSION, DAYS_TERMINATION, FLAG_LAST_APPL_PER_CONTRACT, NAME_CONTRACT_STATUS.\n",
    "\n",
    "Numerical, 40.3% missing values, no zeros.\n",
    "\n",
    "Minimum\t-2889 (~8 years), Maximum 365,243 (1,000 years, count 211,221, 12.6%), Mean 76,582.4. Anomalies.\n",
    "\n",
    "    Convert to days, flag anomalies."
   ]
  },
  {
   "cell_type": "markdown",
   "id": "47a10ca0-ff20-4d4b-ad1e-af0fdbab1c7f",
   "metadata": {},
   "source": []
  },
  {
   "cell_type": "markdown",
   "id": "44cb629f-db2c-4e61-8d95-3c8c22c27844",
   "metadata": {},
   "source": [
    "    DAYS_TERMINATION - Relative to application date of current application when was the expected termination of the previous application,time only relative to the application"
   ]
  },
  {
   "cell_type": "markdown",
   "id": "9f7da99d-21ec-4cb7-9d82-60853fbd8b81",
   "metadata": {},
   "source": [
    "High correlation with  DAYS_DECISION, DAYS_FIRST_DUE, DAYS_LAST_DUE_1ST_VERSION, DAYS_LAST_DUE, FLAG_LAST_APPL_PER_CONTRACT, NAME_CONTRACT_STATUS.\n",
    "\n",
    "Numerical, 40.3% missing values, no zeros.\n",
    "\n",
    "Minimum\t-2874 (~8 years), Maximum 365,243 (1,000 years, count 225,913, 13.5%), Mean 81,992.3. Anomalies.\n",
    "\n",
    "    Convert to days, flag anomalies."
   ]
  },
  {
   "cell_type": "markdown",
   "id": "9fdf212c-53fc-4816-a006-b46312660dbf",
   "metadata": {},
   "source": []
  },
  {
   "cell_type": "markdown",
   "id": "754915f0-f7a5-4f87-a5ff-774de6b5e6a7",
   "metadata": {},
   "source": [
    "    NFLAG_INSURED_ON_APPROVAL - Did the client requested insurance during the previous application"
   ]
  },
  {
   "cell_type": "markdown",
   "id": "1394e199-98af-4f83-a241-e6f16dffcc13",
   "metadata": {},
   "source": [
    "High correlation with FLAG_LAST_APPL_PER_CONTRACT, NAME_CONTRACT_STATUS.\n",
    "\n",
    "Categorical, 40.3% missing values, 2 distinct values, distribution: 0.0 39.8%, 1.0 19.9%."
   ]
  },
  {
   "cell_type": "markdown",
   "id": "e97478c9-7ac6-4e33-9a50-c22a399474f3",
   "metadata": {},
   "source": []
  },
  {
   "cell_type": "markdown",
   "id": "13694ccd-a726-4416-8900-a13d77064d84",
   "metadata": {},
   "source": [
    "### Correlation"
   ]
  },
  {
   "cell_type": "markdown",
   "id": "148fbe53-92d0-4e30-9f87-4b8b13a70b4c",
   "metadata": {},
   "source": [
    "We will analyze the relationships between features using a Ydata-Quality report. This report will provide a comprehensive overview of our data, including an automated correlation matrix for all features.\n",
    "\n",
    "To determine which features are most impactful for our model, we will use a more robust method: LightGBM's feature importance. After aggregating the columns from specific datasets into our main dataset, the LightGBM model will automatically calculate the importance of each feature in predicting the target variable. This approach is superior as it directly assesses a feature's predictive power within the context of our chosen model, providing a more reliable measure of its relationship with the target."
   ]
  },
  {
   "cell_type": "markdown",
   "id": "79bf7a39-0321-420b-9a4d-3a87d1f18e7a",
   "metadata": {},
   "source": [
    "**Feature Relationships**\n",
    "\n",
    "High correlation (Ydata Report):\n",
    "    \n",
    "    NAME_CONTRACT_TYPE, DAYS_FIRST_DRAWING, DAYS_LAST_DUE_1ST_VERSION, NAME_PORTFOLIO, PRODUCT_COMBINATION, RATE_INTEREST_PRIMARY, RATE_INTEREST_PRIVILEGED\n",
    "    \n",
    "    AMT_ANNUITY, AMT_APPLICATION, AMT_CREDIT, AMT_GOODS_PRICE.\n",
    "    \n",
    "    AMT_APPLICATION, AMT_CREDIT, AMT_GOODS_PRICE, CNT_PAYMENT.\n",
    "    \n",
    "    AMT_CREDIT, AMT_GOODS_PRICE.\n",
    "\n",
    "    AMT_DOWN_PAYMENT, RATE_DOWN_PAYMENT.\n",
    "\n",
    "    FLAG_LAST_APPL_PER_CONTRACT,  DAYS_FIRST_DRAWING, DAYS_FIRST_DUE, DAYS_LAST_DUE, DAYS_LAST_DUE_1ST_VERSION, DAYS_TERMINATION, NFLAG_INSURED_ON_APPROVAL, NFLAG_LAST_APPL_IN_DAY, RATE_INTEREST_PRIMARY, RATE_INTEREST_PRIVILEGED.\n",
    "    \n",
    "    RATE_INTEREST_PRIMARY, NAME_CASH_LOAN_PURPOSE, NAME_CONTRACT_STATUS, NAME_PORTFOLIO, NAME_PRODUCT_TYPE, NAME_YIELD_GROUP, RATE_INTEREST_PRIVILEGED.\n",
    "    \n",
    "    RATE_INTEREST_PRIVILEGED, NAME_CASH_LOAN_PURPOSE, NAME_CONTRACT_STATUS, NAME_PORTFOLIO, NAME_PRODUCT_TYPE, NAME_YIELD_GROUP,\n",
    "    \n",
    "    NAME_CASH_LOAN_PURPOSE, NAME_CONTRACT_STATUS, NAME_PRODUCT_TYPE, NFLAG_INSURED_ON_APPROVAL.\n",
    "    \n",
    "    NAME_CONTRACT_STATUS, CODE_REJECT_REASON, DAYS_FIRST_DRAWING, DAYS_FIRST_DUE, DAYS_LAST_DUE DAYS_LAST_DUE_1ST_VERSION, DAYS_TERMINATION, NFLAG_INSURED_ON_APPROVAL, \n",
    "    \n",
    "    DAYS_DECISION, DAYS_FIRST_DUE, DAYS_LAST_DUE_1ST_VERSION, DAYS_LAST_DUE, DAYS_TERMINATION.\n",
    "    \n",
    "    NAME_GOODS_CATEGORY, NAME_SELLER_INDUSTRY.\n",
    "    \n",
    "    NAME_PORTFOLIO, DAYS_FIRST_DRAWING, DAYS_LAST_DUE_1ST_VERSION, NAME_PRODUCT_TYPE, PRODUCT_COMBINATION.\n",
    "    \n",
    "    NAME_PRODUCT_TYPE, PRODUCT_COMBINATION.\n",
    "    \n",
    "    NAME_YIELD_GROUP, DAYS_FIRST_DRAWING, DAYS_LAST_DUE_1ST_VERSION, PRODUCT_COMBINATION.\n",
    "    \n",
    "    PRODUCT_COMBINATION, DAYS_FIRST_DRAWING, DAYS_LAST_DUE_1ST_VERSION.\n",
    "    \n",
    "    DAYS_FIRST_DUE, DAYS_LAST_DUE, DAYS_LAST_DUE_1ST_VERSION, DAYS_TERMINATION.\n",
    "    \n",
    "    DAYS_LAST_DUE_1ST_VERSION, DAYS_LAST_DUE, DAYS_TERMINATION.\n",
    "    \n",
    "    DAYS_LAST_DUE, DAYS_TERMINATION."
   ]
  },
  {
   "cell_type": "markdown",
   "id": "9e139d1a-1ec6-451a-abe4-b51f01602a57",
   "metadata": {},
   "source": []
  },
  {
   "cell_type": "markdown",
   "id": "1f561451-0b30-4ec7-9f15-affd22dc791a",
   "metadata": {},
   "source": [
    "## 3. Summary"
   ]
  },
  {
   "cell_type": "markdown",
   "id": "ee94c455-1e74-48f4-9be0-fe0f41061628",
   "metadata": {},
   "source": [
    "**Key EDA findings for Previous application:**\n",
    "\n",
    "    - Total features: 37 (numeric 19, categorical 17, boolean 1), rows: ~ 1.67M,\n",
    "\n",
    "    - Missing cells\t18.0%, rows with missing values - 100%,\n",
    "    \n",
    "    - Missing values (>15%):\n",
    "        RATE_INTEREST_PRIVILEGED  99.6%\n",
    "        RATE_INTEREST_PRIMARY\t  99.6%\n",
    "        AMT_DOWN_PAYMENT\t\t  53.6%\n",
    "        RATE_DOWN_PAYMENT\t\t  53.6%\n",
    "        NAME_TYPE_SUITE           49.1%\n",
    "        NFLAG_INSURED_ON_APPROVAL 40.3%\n",
    "        DAYS_TERMINATION\t\t  40.3%\n",
    "        DAYS_LAST_DUE\t\t      40.3%\n",
    "        DAYS_LAST_DUE_1ST_VERSION 40.3%\n",
    "        DAYS_FIRST_DUE\t\t      40.3%\n",
    "        DAYS_FIRST_DRAWING\t\t  40.3%\n",
    "        AMT_GOODS_PRICE\t\t      23.1%\n",
    "        AMT_ANNUITY\t              22.3%\n",
    "        CNT_PAYMENT\t\t          22.3%\n",
    "        \n",
    "    - Negative values (>40%):\n",
    "        DAYS_DECISION - 100.0%\n",
    "        SELLERPLACE_AREA - 45.7%\n",
    "        DAYS_FIRST_DUE - 57.3%\n",
    "        DAYS_LAST_DUE_1ST_VERSION - 40.6%\n",
    "        DAYS_LAST_DUE - 47.1%\n",
    "        DAYS_TERMINATION - 46.2%\n",
    "        \n",
    "\n",
    "    - Zeros (>20%):\n",
    "        AMT_APPLICATION - 23.5%\n",
    "        AMT_CREDIT - 20.2%\n",
    "        AMT_DOWN_PAYMENT - 22.1%\n",
    "        RATE_DOWN_PAYMENT - 22.1%\n",
    "        \n",
    "\n",
    "    - Strong correlations (>0.7):\n",
    "        Mentioned in Feature Relationships (too many features to duplicate here)\n",
    "    \n",
    "    - Duplicates: none"
   ]
  },
  {
   "cell_type": "markdown",
   "id": "414c1355-a485-4043-9820-241500cd1ccd",
   "metadata": {},
   "source": [
    "**Planned Feature Engineering: previous application**\n",
    "\n",
    "The previous_application table contains the client’s historical applications and outcomes with Home Credit. It is highly predictive of future risk behavior.\n",
    "\n",
    "    Preprocessing (Before Feature Engineering)\n",
    "\n",
    "        - Convert all DAYS_* columns into YEARS_* (divide by -365).\n",
    "        \n",
    "        - Create anomaly flags for invalid values (e.g., 1000 years).\n",
    "\n",
    "**Planned Feature Engineering Steps**\n",
    "\n",
    "    1. Application Status Flags\n",
    "\n",
    "        WAS_APPROVED – 1 if NAME_CONTRACT_STATUS == \"Approved\", else 0.\n",
    "        \n",
    "        WAS_REFUSED – 1 if NAME_CONTRACT_STATUS == \"Refused\", else 0.\n",
    "        \n",
    "        WAS_CANCELED - 1 if NAME_CONTRACT_STATUS == \"Canceled\", else 0.\n",
    "\n",
    "            - Captures approval history, refusal history.\n",
    "\n",
    "    2. Financial Features & Ratios\n",
    "\n",
    "        APP_CREDIT_DIFF = AMT_APPLICATION – AMT_CREDIT\n",
    "\n",
    "        APP_CREDIT_RATIO = AMT_CREDIT / AMT_APPLICATION\n",
    "\n",
    "            - Reveals whether the client typically applies for more/less than what is granted.\n",
    "            - Strong predictor of over-optimistic or risky applications.\n",
    "\n",
    "    3. Aggregated Financials\n",
    "\n",
    "        AMT_APPLICATION, AMT_CREDIT, AMT_ANNUITY, AMT_DOWN_PAYMENT, AMT_GOODS_PRICE\n",
    "        - aggregated with mean, max.\n",
    "            Shows the typical loan size, repayment burden, and upfront down payment.\n",
    "\n",
    "    4. Loan Structure Features\n",
    "\n",
    "        CNT_PAYMENT (number of installments requested).\n",
    "        - aggregated with mean, max.\n",
    "\n",
    "        YEARS_DECISION (recency of applications).\n",
    "        - aggregated with min, max, mean.\n",
    "            Recent and frequent refusals are a strong risk signal.\n",
    "\n",
    "    5. Diversity Features\n",
    "\n",
    "        PRODUCT_DIVERSITY = number of unique NAME_CONTRACT_TYPE values per client.\n",
    "            Indicates whether the client is experimenting with multiple product types (higher risk).\n",
    "\n",
    "    6. Count Features\n",
    "\n",
    "        PREV_APP_COUNT – total number of previous applications.\n",
    "        \n",
    "        PREV_APP_APPROVED_COUNT – number of approved applications.\n",
    "        \n",
    "        PREV_APP_REFUSED_COUNT – number of refused applications.\n",
    "\n",
    "            - Absolute volumes of approvals/refusals.\n",
    "\n",
    "    7. Ratio Features\n",
    "\n",
    "        PREV_APPROVAL_RATE = approved / total.\n",
    "        \n",
    "        PREV_REFUSAL_RATE = refused / total.\n",
    "        \n",
    "        PREV_REFUSAL_TO_APPROVAL = refused / approved.\n",
    "\n",
    "            - Proportional history of risk-taking vs acceptance.\n",
    "    \n",
    "    8. Must keep list\n",
    "    \n",
    "        \"PREV_APP_COUNT\" - Total number of previous applications submitted by the client.\n",
    "        \n",
    "        \"PREV_APP_APPROVED_COUNT\" – Number of approved previous applications.\n",
    "        \n",
    "        \"PREV_APP_REFUSED_COUNT\" – Number of refused previous applications.\n",
    "        \n",
    "        \"PREV_APPROVAL_RATE\" – Ratio of approved applications to total applications.\n",
    "        \n",
    "        \"PREV_REFUSAL_RATE\" – Ratio of refused applications to total applications.\n",
    "        \n",
    "        \"PREV_REFUSAL_TO_APPROVAL\" – Ratio of refusals to approvals.\n",
    "        \n",
    "        \"PREV_AMT_APPLICATION_mean\" – Average amount requested in previous applications.\n",
    "        \n",
    "        \"PREV_AMT_CREDIT_mean\" – Average credit amount granted in previous applications.\n",
    "        \n",
    "        \"PREV_AMT_ANNUITY_mean\" – Average annuity value across previous applications.\n",
    "        \n",
    "        \"PREV_AMT_DOWN_PAYMENT_mean\" – Average down payment amount in previous applications.\n",
    "        \n",
    "        \"PREV_AMT_GOODS_PRICE_mean\" – Average goods price requested in previous applications.\n",
    "        \n",
    "        \"PREV_CNT_PAYMENT_mean\" – Average number of installments across previous applications.\n",
    "        \n",
    "        \"PREV_APP_CREDIT_DIFF_mean\" – Average difference between requested and granted credit.\n",
    "        \n",
    "        \"PREV_APP_CREDIT_RATIO_mean\" – Average ratio of requested to granted credit.\n",
    "        \n",
    "        \"PREV_YEARS_DECISION_min\" - Earliest (minimum) years since a previous decision.\n",
    "        \n",
    "        \"PREV_YEARS_DECISION_max\" – Most recent (maximum) years since a previous decision.\n",
    "        \n",
    "        \"PREV_NAME_CONTRACT_TYPE_PRODUCT_DIVERSITY\" – Number of unique product types in previous contracts.\n",
    "\n",
    "    9. Feature Selection\n",
    "\n",
    "        Use LightGBM importance + ROC-AUC ranking to select top features.\n",
    "\n",
    "        Merge selected features to main data frame for model training."
   ]
  },
  {
   "cell_type": "markdown",
   "id": "cc6e6a65-6af2-4599-aeed-de9a5822ad19",
   "metadata": {},
   "source": []
  }
 ],
 "metadata": {
  "kernelspec": {
   "display_name": "Python (myenv)",
   "language": "python",
   "name": "myenv"
  },
  "language_info": {
   "codemirror_mode": {
    "name": "ipython",
    "version": 3
   },
   "file_extension": ".py",
   "mimetype": "text/x-python",
   "name": "python",
   "nbconvert_exporter": "python",
   "pygments_lexer": "ipython3",
   "version": "3.11.9"
  }
 },
 "nbformat": 4,
 "nbformat_minor": 5
}
