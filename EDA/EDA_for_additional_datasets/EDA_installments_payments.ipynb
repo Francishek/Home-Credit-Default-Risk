{
 "cells": [
  {
   "cell_type": "markdown",
   "id": "3b1951dc-8916-4afe-a129-fbce58526e3a",
   "metadata": {},
   "source": [
    "# Home Credit Default Risk - EDA INSTALLMENTS PAYMENTS"
   ]
  },
  {
   "cell_type": "markdown",
   "id": "43cb92c7-a096-46f1-a9ad-088aa6ee1e7f",
   "metadata": {},
   "source": [
    "## 1. Introduction"
   ]
  },
  {
   "cell_type": "markdown",
   "id": "bfd173ba-afb8-4221-83c8-8c93b62ba357",
   "metadata": {},
   "source": [
    "**Context:**\n",
    "\n",
    "This notebook contains basic EDA for INSTALLMENTS PAYMENTS data set.\n",
    "\n",
    "This is additional source of data (application_train/application_test are the main training and testing data).\n",
    "\n",
    "installments_payments.csv\n",
    "\n",
    "    Repayment history for the previously disbursed credits in Home Credit related to the loans in our sample.\n",
    "    There is a) one row for every payment that was made plus b) one row each for missed payment.\n",
    "    One row is equivalent to one payment of one installment OR one installment corresponding to one payment of one previous Home Credit credit related to loans in our sample.\n",
    "\n",
    "**Goals:**\n",
    "\n",
    "    To comprehensively understand the dataset's structure, identify key patterns, and discover meaningful insights that will inform a robust feature engineering and modeling strategy.\n",
    "\n",
    "**Objectives:**\n",
    "\n",
    "    Conduct a comprehensive Exploratory Data Analysis (EDA): Perform an in-depth exploration of the datasets to understand their statistical properties and distributions.\n",
    "\n",
    "    Identify and address data quality issues: Investigate missing values, identify and handle data anomalies.\n",
    "\n",
    "    Analyze feature relationships: Evaluate correlations between features and assess their individual relationships with the target variable to prioritize their importance for the model.\n",
    "\n",
    "    Leverage automated tools for initial insights: Utilize libraries like Sweetviz to quickly generate an initial feature exploration report.\n"
   ]
  },
  {
   "cell_type": "markdown",
   "id": "1323ffeb-25c1-430b-b280-58a2071cfd28",
   "metadata": {},
   "source": []
  },
  {
   "cell_type": "markdown",
   "id": "fcb1999a-3424-4274-b4d8-555f3eeeb22f",
   "metadata": {},
   "source": [
    "## 2. Exploratory Data Analysis (EDA)"
   ]
  },
  {
   "cell_type": "markdown",
   "id": "3086a715-6e0a-4223-8c3f-b635bb9afae0",
   "metadata": {},
   "source": [
    "### A. Data loading & Initial checks"
   ]
  },
  {
   "cell_type": "code",
   "execution_count": 1,
   "id": "3f5e517c-1eb1-48e0-804d-81198e55c1de",
   "metadata": {},
   "outputs": [],
   "source": [
    "%load_ext jupyter_black"
   ]
  },
  {
   "cell_type": "code",
   "execution_count": 2,
   "id": "640fc3cf-a79b-443e-a83f-f11c68324f84",
   "metadata": {},
   "outputs": [
    {
     "data": {
      "text/html": [
       "\n",
       "            <div>\n",
       "                <ins><a href=\"https://ydata.ai/register\">Upgrade to ydata-sdk</a></ins>\n",
       "                <p>\n",
       "                    Improve your data and profiling with ydata-sdk, featuring data quality scoring, redundancy detection, outlier identification, text validation, and synthetic data generation.\n",
       "                </p>\n",
       "            </div>\n",
       "            "
      ],
      "text/plain": [
       "<IPython.core.display.HTML object>"
      ]
     },
     "metadata": {},
     "output_type": "display_data"
    }
   ],
   "source": [
    "import pandas as pd\n",
    "import numpy as np\n",
    "import sys\n",
    "import os\n",
    "from typing import Dict, Optional, List, Tuple, Union\n",
    "import warnings\n",
    "\n",
    "warnings.filterwarnings(\"ignore\", category=UserWarning, module=\"sweetviz.graph\")\n",
    "import sweetviz as sv\n",
    "from ydata_profiling import ProfileReport\n",
    "from IPython.display import IFrame"
   ]
  },
  {
   "cell_type": "code",
   "execution_count": 3,
   "id": "107813fc-cccb-4a23-902a-b0a384fa74e6",
   "metadata": {},
   "outputs": [],
   "source": [
    "sys.path.append(os.path.abspath(\"..\"))\n",
    "from Data.utils_EDA import feature_types, missing_columns, calculate_missing_rows\n",
    "from Data.utils_modeling import downcast_numeric_col"
   ]
  },
  {
   "cell_type": "markdown",
   "id": "187453ae-85dd-4523-95ee-c7017c1c0b81",
   "metadata": {},
   "source": [
    "**Loading dataset**"
   ]
  },
  {
   "cell_type": "code",
   "execution_count": 5,
   "id": "b00af6d3-a16f-4157-9e66-6ef1f1fc8a1e",
   "metadata": {},
   "outputs": [
    {
     "data": {
      "text/plain": [
       "(13605401, 8)"
      ]
     },
     "execution_count": 5,
     "metadata": {},
     "output_type": "execute_result"
    }
   ],
   "source": [
    "installments = pd.read_csv(r\"..\\Data\\installments_payments.csv\")\n",
    "installments.shape"
   ]
  },
  {
   "cell_type": "markdown",
   "id": "de158e24-c5a5-49b9-b174-c9e02cd5af1f",
   "metadata": {},
   "source": [
    "**Downcasting numeric columns**"
   ]
  },
  {
   "cell_type": "code",
   "execution_count": 6,
   "id": "b0d0895a-923d-446b-b87f-4a8ce5d16a3f",
   "metadata": {},
   "outputs": [
    {
     "data": {
      "text/plain": [
       "array([dtype('int32'), dtype('float32'), dtype('int16'), dtype('float64')],\n",
       "      dtype=object)"
      ]
     },
     "execution_count": 6,
     "metadata": {},
     "output_type": "execute_result"
    }
   ],
   "source": [
    "installments = installments.copy()\n",
    "downcast_numeric_col(installments)\n",
    "installments.dtypes.unique()"
   ]
  },
  {
   "cell_type": "code",
   "execution_count": 7,
   "id": "a9854d42-e61b-4fd8-8997-c8d9282001e5",
   "metadata": {},
   "outputs": [
    {
     "data": {
      "text/html": [
       "<div>\n",
       "<style scoped>\n",
       "    .dataframe tbody tr th:only-of-type {\n",
       "        vertical-align: middle;\n",
       "    }\n",
       "\n",
       "    .dataframe tbody tr th {\n",
       "        vertical-align: top;\n",
       "    }\n",
       "\n",
       "    .dataframe thead th {\n",
       "        text-align: right;\n",
       "    }\n",
       "</style>\n",
       "<table border=\"1\" class=\"dataframe\">\n",
       "  <thead>\n",
       "    <tr style=\"text-align: right;\">\n",
       "      <th></th>\n",
       "      <th>SK_ID_PREV</th>\n",
       "      <th>SK_ID_CURR</th>\n",
       "      <th>NUM_INSTALMENT_VERSION</th>\n",
       "      <th>NUM_INSTALMENT_NUMBER</th>\n",
       "      <th>DAYS_INSTALMENT</th>\n",
       "      <th>DAYS_ENTRY_PAYMENT</th>\n",
       "      <th>AMT_INSTALMENT</th>\n",
       "      <th>AMT_PAYMENT</th>\n",
       "    </tr>\n",
       "  </thead>\n",
       "  <tbody>\n",
       "    <tr>\n",
       "      <th>0</th>\n",
       "      <td>1054186</td>\n",
       "      <td>161674</td>\n",
       "      <td>1.0</td>\n",
       "      <td>6</td>\n",
       "      <td>-1180.0</td>\n",
       "      <td>-1187.0</td>\n",
       "      <td>6948.360</td>\n",
       "      <td>6948.360</td>\n",
       "    </tr>\n",
       "    <tr>\n",
       "      <th>1</th>\n",
       "      <td>1330831</td>\n",
       "      <td>151639</td>\n",
       "      <td>0.0</td>\n",
       "      <td>34</td>\n",
       "      <td>-2156.0</td>\n",
       "      <td>-2156.0</td>\n",
       "      <td>1716.525</td>\n",
       "      <td>1716.525</td>\n",
       "    </tr>\n",
       "    <tr>\n",
       "      <th>2</th>\n",
       "      <td>2085231</td>\n",
       "      <td>193053</td>\n",
       "      <td>2.0</td>\n",
       "      <td>1</td>\n",
       "      <td>-63.0</td>\n",
       "      <td>-63.0</td>\n",
       "      <td>25425.000</td>\n",
       "      <td>25425.000</td>\n",
       "    </tr>\n",
       "    <tr>\n",
       "      <th>3</th>\n",
       "      <td>2452527</td>\n",
       "      <td>199697</td>\n",
       "      <td>1.0</td>\n",
       "      <td>3</td>\n",
       "      <td>-2418.0</td>\n",
       "      <td>-2426.0</td>\n",
       "      <td>24350.130</td>\n",
       "      <td>24350.130</td>\n",
       "    </tr>\n",
       "    <tr>\n",
       "      <th>4</th>\n",
       "      <td>2714724</td>\n",
       "      <td>167756</td>\n",
       "      <td>1.0</td>\n",
       "      <td>2</td>\n",
       "      <td>-1383.0</td>\n",
       "      <td>-1366.0</td>\n",
       "      <td>2165.040</td>\n",
       "      <td>2160.585</td>\n",
       "    </tr>\n",
       "  </tbody>\n",
       "</table>\n",
       "</div>"
      ],
      "text/plain": [
       "   SK_ID_PREV  SK_ID_CURR  NUM_INSTALMENT_VERSION  NUM_INSTALMENT_NUMBER  \\\n",
       "0     1054186      161674                     1.0                      6   \n",
       "1     1330831      151639                     0.0                     34   \n",
       "2     2085231      193053                     2.0                      1   \n",
       "3     2452527      199697                     1.0                      3   \n",
       "4     2714724      167756                     1.0                      2   \n",
       "\n",
       "   DAYS_INSTALMENT  DAYS_ENTRY_PAYMENT  AMT_INSTALMENT  AMT_PAYMENT  \n",
       "0          -1180.0             -1187.0        6948.360     6948.360  \n",
       "1          -2156.0             -2156.0        1716.525     1716.525  \n",
       "2            -63.0               -63.0       25425.000    25425.000  \n",
       "3          -2418.0             -2426.0       24350.130    24350.130  \n",
       "4          -1383.0             -1366.0        2165.040     2160.585  "
      ]
     },
     "execution_count": 7,
     "metadata": {},
     "output_type": "execute_result"
    }
   ],
   "source": [
    "installments.head()"
   ]
  },
  {
   "cell_type": "code",
   "execution_count": 8,
   "id": "e6c55d5e-66e1-4166-82cb-dae8d138d8a6",
   "metadata": {
    "scrolled": true
   },
   "outputs": [
    {
     "name": "stdout",
     "output_type": "stream",
     "text": [
      "<class 'pandas.core.frame.DataFrame'>\n",
      "RangeIndex: 13605401 entries, 0 to 13605400\n",
      "Data columns (total 8 columns):\n",
      " #   Column                  Dtype  \n",
      "---  ------                  -----  \n",
      " 0   SK_ID_PREV              int32  \n",
      " 1   SK_ID_CURR              int32  \n",
      " 2   NUM_INSTALMENT_VERSION  float32\n",
      " 3   NUM_INSTALMENT_NUMBER   int16  \n",
      " 4   DAYS_INSTALMENT         float32\n",
      " 5   DAYS_ENTRY_PAYMENT      float32\n",
      " 6   AMT_INSTALMENT          float64\n",
      " 7   AMT_PAYMENT             float64\n",
      "dtypes: float32(3), float64(2), int16(1), int32(2)\n",
      "memory usage: 493.1 MB\n"
     ]
    }
   ],
   "source": [
    "installments.info()"
   ]
  },
  {
   "cell_type": "markdown",
   "id": "6daf47ab-a975-4e05-88d5-d83745139b77",
   "metadata": {},
   "source": [
    "**Feature descriptions:**\n"
   ]
  },
  {
   "cell_type": "markdown",
   "id": "fee7c902-a1bd-4476-8cce-dd612851ede9",
   "metadata": {},
   "source": [
    "1. SK_ID_PREV ,\"ID of previous credit in Home credit related to loan in our sample. (One loan in our sample can have 0,1,2 or more previous loans in Home Credit)\",hashed\n",
    "\n",
    "2. SK_ID_CURR,ID of loan in our sample,hashed\n",
    "\n",
    "3. NUM_INSTALMENT_VERSION,Version of installment calendar (0 is for credit card) of previous credit. Change of installment version from month to month signifies that some parameter of payment calendar has changed,\n",
    "\n",
    "4. NUM_INSTALMENT_NUMBER,On which installment we observe payment,\n",
    "\n",
    "5. DAYS_INSTALMENT,When the installment of previous credit was supposed to be paid (relative to application date of current loan),time only relative to the application\n",
    "\n",
    "6. DAYS_ENTRY_PAYMENT,When was the installments of previous credit paid actually (relative to application date of current loan),time only relative to the application\n",
    "\n",
    "7. AMT_INSTALMENT,What was the prescribed installment amount of previous credit on this installment,\n",
    "\n",
    "8. AMT_PAYMENT,What the client actually paid on previous credit on this installment,"
   ]
  },
  {
   "cell_type": "markdown",
   "id": "a0c0b622-fadc-4dc1-9eed-83b26cdb4765",
   "metadata": {},
   "source": []
  },
  {
   "cell_type": "markdown",
   "id": "c4b5ca37-e730-455a-8975-587dc3699e84",
   "metadata": {},
   "source": [
    "**Feature types**"
   ]
  },
  {
   "cell_type": "code",
   "execution_count": 9,
   "id": "f07bb414-e316-48c4-9d98-c386e028c458",
   "metadata": {},
   "outputs": [
    {
     "name": "stdout",
     "output_type": "stream",
     "text": [
      "Numerical features: ['SK_ID_PREV', 'SK_ID_CURR', 'NUM_INSTALMENT_VERSION', 'NUM_INSTALMENT_NUMBER', 'DAYS_INSTALMENT', 'DAYS_ENTRY_PAYMENT', 'AMT_INSTALMENT', 'AMT_PAYMENT']\n",
      "Categorical features: []\n",
      "Binary features: []\n"
     ]
    }
   ],
   "source": [
    "feature_types(installments)"
   ]
  },
  {
   "cell_type": "code",
   "execution_count": 10,
   "id": "401183dc-0752-4e00-a2c1-a77d001e6016",
   "metadata": {},
   "outputs": [
    {
     "data": {
      "text/plain": [
       "float32    3\n",
       "int32      2\n",
       "float64    2\n",
       "int16      1\n",
       "Name: count, dtype: int64"
      ]
     },
     "execution_count": 10,
     "metadata": {},
     "output_type": "execute_result"
    }
   ],
   "source": [
    "installments.dtypes.value_counts()"
   ]
  },
  {
   "cell_type": "code",
   "execution_count": 11,
   "id": "9e149642-d4c2-47d5-a6a7-8c16d7d382d9",
   "metadata": {},
   "outputs": [
    {
     "data": {
      "text/html": [
       "<div>\n",
       "<style scoped>\n",
       "    .dataframe tbody tr th:only-of-type {\n",
       "        vertical-align: middle;\n",
       "    }\n",
       "\n",
       "    .dataframe tbody tr th {\n",
       "        vertical-align: top;\n",
       "    }\n",
       "\n",
       "    .dataframe thead th {\n",
       "        text-align: right;\n",
       "    }\n",
       "</style>\n",
       "<table border=\"1\" class=\"dataframe\">\n",
       "  <thead>\n",
       "    <tr style=\"text-align: right;\">\n",
       "      <th></th>\n",
       "      <th>count</th>\n",
       "      <th>mean</th>\n",
       "      <th>std</th>\n",
       "      <th>min</th>\n",
       "      <th>25%</th>\n",
       "      <th>50%</th>\n",
       "      <th>75%</th>\n",
       "      <th>max</th>\n",
       "    </tr>\n",
       "  </thead>\n",
       "  <tbody>\n",
       "    <tr>\n",
       "      <th>SK_ID_PREV</th>\n",
       "      <td>13605401.0</td>\n",
       "      <td>1.903365e+06</td>\n",
       "      <td>536202.905546</td>\n",
       "      <td>1000001.0</td>\n",
       "      <td>1434191.000</td>\n",
       "      <td>1896520.000</td>\n",
       "      <td>2369094.000</td>\n",
       "      <td>2843499.000</td>\n",
       "    </tr>\n",
       "    <tr>\n",
       "      <th>SK_ID_CURR</th>\n",
       "      <td>13605401.0</td>\n",
       "      <td>2.784449e+05</td>\n",
       "      <td>102718.310411</td>\n",
       "      <td>100001.0</td>\n",
       "      <td>189639.000</td>\n",
       "      <td>278685.000</td>\n",
       "      <td>367530.000</td>\n",
       "      <td>456255.000</td>\n",
       "    </tr>\n",
       "    <tr>\n",
       "      <th>NUM_INSTALMENT_VERSION</th>\n",
       "      <td>13605401.0</td>\n",
       "      <td>8.566373e-01</td>\n",
       "      <td>1.035216</td>\n",
       "      <td>0.0</td>\n",
       "      <td>0.000</td>\n",
       "      <td>1.000</td>\n",
       "      <td>1.000</td>\n",
       "      <td>178.000</td>\n",
       "    </tr>\n",
       "    <tr>\n",
       "      <th>NUM_INSTALMENT_NUMBER</th>\n",
       "      <td>13605401.0</td>\n",
       "      <td>1.887090e+01</td>\n",
       "      <td>26.664067</td>\n",
       "      <td>1.0</td>\n",
       "      <td>4.000</td>\n",
       "      <td>8.000</td>\n",
       "      <td>19.000</td>\n",
       "      <td>277.000</td>\n",
       "    </tr>\n",
       "    <tr>\n",
       "      <th>DAYS_INSTALMENT</th>\n",
       "      <td>13605401.0</td>\n",
       "      <td>-1.042270e+03</td>\n",
       "      <td>800.946289</td>\n",
       "      <td>-2922.0</td>\n",
       "      <td>-1654.000</td>\n",
       "      <td>-818.000</td>\n",
       "      <td>-361.000</td>\n",
       "      <td>-1.000</td>\n",
       "    </tr>\n",
       "    <tr>\n",
       "      <th>DAYS_ENTRY_PAYMENT</th>\n",
       "      <td>13602496.0</td>\n",
       "      <td>-1.051114e+03</td>\n",
       "      <td>800.585876</td>\n",
       "      <td>-4921.0</td>\n",
       "      <td>-1662.000</td>\n",
       "      <td>-827.000</td>\n",
       "      <td>-370.000</td>\n",
       "      <td>-1.000</td>\n",
       "    </tr>\n",
       "    <tr>\n",
       "      <th>AMT_INSTALMENT</th>\n",
       "      <td>13605401.0</td>\n",
       "      <td>1.705091e+04</td>\n",
       "      <td>50570.254429</td>\n",
       "      <td>0.0</td>\n",
       "      <td>4226.085</td>\n",
       "      <td>8884.080</td>\n",
       "      <td>16710.210</td>\n",
       "      <td>3771487.845</td>\n",
       "    </tr>\n",
       "    <tr>\n",
       "      <th>AMT_PAYMENT</th>\n",
       "      <td>13602496.0</td>\n",
       "      <td>1.723822e+04</td>\n",
       "      <td>54735.783981</td>\n",
       "      <td>0.0</td>\n",
       "      <td>3398.265</td>\n",
       "      <td>8125.515</td>\n",
       "      <td>16108.425</td>\n",
       "      <td>3771487.845</td>\n",
       "    </tr>\n",
       "  </tbody>\n",
       "</table>\n",
       "</div>"
      ],
      "text/plain": [
       "                             count          mean            std        min  \\\n",
       "SK_ID_PREV              13605401.0  1.903365e+06  536202.905546  1000001.0   \n",
       "SK_ID_CURR              13605401.0  2.784449e+05  102718.310411   100001.0   \n",
       "NUM_INSTALMENT_VERSION  13605401.0  8.566373e-01       1.035216        0.0   \n",
       "NUM_INSTALMENT_NUMBER   13605401.0  1.887090e+01      26.664067        1.0   \n",
       "DAYS_INSTALMENT         13605401.0 -1.042270e+03     800.946289    -2922.0   \n",
       "DAYS_ENTRY_PAYMENT      13602496.0 -1.051114e+03     800.585876    -4921.0   \n",
       "AMT_INSTALMENT          13605401.0  1.705091e+04   50570.254429        0.0   \n",
       "AMT_PAYMENT             13602496.0  1.723822e+04   54735.783981        0.0   \n",
       "\n",
       "                                25%          50%          75%          max  \n",
       "SK_ID_PREV              1434191.000  1896520.000  2369094.000  2843499.000  \n",
       "SK_ID_CURR               189639.000   278685.000   367530.000   456255.000  \n",
       "NUM_INSTALMENT_VERSION        0.000        1.000        1.000      178.000  \n",
       "NUM_INSTALMENT_NUMBER         4.000        8.000       19.000      277.000  \n",
       "DAYS_INSTALMENT           -1654.000     -818.000     -361.000       -1.000  \n",
       "DAYS_ENTRY_PAYMENT        -1662.000     -827.000     -370.000       -1.000  \n",
       "AMT_INSTALMENT             4226.085     8884.080    16710.210  3771487.845  \n",
       "AMT_PAYMENT                3398.265     8125.515    16108.425  3771487.845  "
      ]
     },
     "execution_count": 11,
     "metadata": {},
     "output_type": "execute_result"
    }
   ],
   "source": [
    "pd.set_option(\"display.max_rows\", 120)\n",
    "pd.set_option(\"display.max_columns\", 120)\n",
    "\n",
    "installments.describe().T"
   ]
  },
  {
   "cell_type": "markdown",
   "id": "eae1e113-81c6-4e0d-a06f-ffcc420ae115",
   "metadata": {},
   "source": [
    "**Key insights:**\n",
    "\n",
    "Outliers: Some columns show extreme max values (e.g., 277 installments, 3.77M payments).\n",
    "\n",
    "The minimum for DAYS_ENTRY_PAYMENT is -4921, which is over 13 years."
   ]
  },
  {
   "cell_type": "markdown",
   "id": "7d2a9f16-7462-4b37-989c-8e1df182115f",
   "metadata": {},
   "source": []
  },
  {
   "cell_type": "markdown",
   "id": "6891aa59-81a3-4ab9-a699-0c3345b29f29",
   "metadata": {},
   "source": [
    "**Missing values**"
   ]
  },
  {
   "cell_type": "code",
   "execution_count": 12,
   "id": "3c7aa44e-905a-4b72-b7fe-e6df05ede557",
   "metadata": {},
   "outputs": [
    {
     "data": {
      "text/html": [
       "<div>\n",
       "<style scoped>\n",
       "    .dataframe tbody tr th:only-of-type {\n",
       "        vertical-align: middle;\n",
       "    }\n",
       "\n",
       "    .dataframe tbody tr th {\n",
       "        vertical-align: top;\n",
       "    }\n",
       "\n",
       "    .dataframe thead th {\n",
       "        text-align: right;\n",
       "    }\n",
       "</style>\n",
       "<table border=\"1\" class=\"dataframe\">\n",
       "  <thead>\n",
       "    <tr style=\"text-align: right;\">\n",
       "      <th></th>\n",
       "      <th>Missing Count</th>\n",
       "      <th>Missing Count Ratio</th>\n",
       "      <th>Missing Count %</th>\n",
       "    </tr>\n",
       "  </thead>\n",
       "  <tbody>\n",
       "    <tr>\n",
       "      <th>DAYS_ENTRY_PAYMENT</th>\n",
       "      <td>2905</td>\n",
       "      <td>0.000214</td>\n",
       "      <td>0.0</td>\n",
       "    </tr>\n",
       "    <tr>\n",
       "      <th>AMT_PAYMENT</th>\n",
       "      <td>2905</td>\n",
       "      <td>0.000214</td>\n",
       "      <td>0.0</td>\n",
       "    </tr>\n",
       "  </tbody>\n",
       "</table>\n",
       "</div>"
      ],
      "text/plain": [
       "                    Missing Count  Missing Count Ratio  Missing Count %\n",
       "DAYS_ENTRY_PAYMENT           2905             0.000214              0.0\n",
       "AMT_PAYMENT                  2905             0.000214              0.0"
      ]
     },
     "execution_count": 12,
     "metadata": {},
     "output_type": "execute_result"
    }
   ],
   "source": [
    "missing_columns(installments)"
   ]
  },
  {
   "cell_type": "code",
   "execution_count": 13,
   "id": "0a39f247-18db-46a9-92a2-64e22925f12f",
   "metadata": {},
   "outputs": [
    {
     "name": "stdout",
     "output_type": "stream",
     "text": [
      "Missing rows: 2905 of 13605401 total rows in data set.\n",
      "Missing rows %: 0.02\n"
     ]
    }
   ],
   "source": [
    "calculate_missing_rows(installments)"
   ]
  },
  {
   "cell_type": "markdown",
   "id": "1c0ddbb4-6942-454f-88e0-569fae7e89aa",
   "metadata": {},
   "source": [
    "Almost no missing values. Use imputation."
   ]
  },
  {
   "cell_type": "markdown",
   "id": "560b8c1f-9070-4454-ad78-15e871be2012",
   "metadata": {},
   "source": []
  },
  {
   "cell_type": "markdown",
   "id": "329b053b-d77e-439c-8a7f-8b139d4f0f56",
   "metadata": {},
   "source": [
    "**Checking for duplicates.**"
   ]
  },
  {
   "cell_type": "code",
   "execution_count": 14,
   "id": "7315c77d-6676-41bc-8cd8-fae847c36b47",
   "metadata": {},
   "outputs": [
    {
     "name": "stdout",
     "output_type": "stream",
     "text": [
      "Duplicates: 0, 0.00%\n"
     ]
    }
   ],
   "source": [
    "print(\n",
    "    f\"Duplicates: {installments.duplicated().sum()}, {(installments.duplicated().sum() / len(installments) * 100):.2f}%\"\n",
    ")"
   ]
  },
  {
   "cell_type": "markdown",
   "id": "4578d776-ab40-4d9d-bc11-2a6560f9cb0f",
   "metadata": {},
   "source": [
    "No duplicates in this dataset."
   ]
  },
  {
   "cell_type": "markdown",
   "id": "a42eab11-2c79-4594-95b9-d72ed4657bcd",
   "metadata": {},
   "source": []
  },
  {
   "cell_type": "markdown",
   "id": "9ca1fed1-a501-4296-a87c-b2aa8ac5219c",
   "metadata": {},
   "source": [
    "**Sweetviz report**\n",
    "\n",
    "We can find the report in EDA folder."
   ]
  },
  {
   "cell_type": "code",
   "execution_count": null,
   "id": "01e5d958-d8a5-434d-aad2-558fbaf0718b",
   "metadata": {
    "scrolled": true
   },
   "outputs": [],
   "source": [
    "report = sv.analyze(df)\n",
    "html_file = f\"installments_sweetviz_report.html\"\n",
    "report.show_html(html_file)\n",
    "#display(IFrame(html_file, width=950, height=600))"
   ]
  },
  {
   "cell_type": "markdown",
   "id": "1d7b1a2c-aff2-4cb5-affa-c9caed4d0f00",
   "metadata": {},
   "source": []
  },
  {
   "cell_type": "markdown",
   "id": "47d0a675-866d-4a3c-b43b-5984bb5113c0",
   "metadata": {},
   "source": [
    "**Ydata report**\n",
    "\n",
    "We can find the report in EDA folder."
   ]
  },
  {
   "cell_type": "code",
   "execution_count": null,
   "id": "5cda0e8f-382b-41a7-9486-9078e5b117da",
   "metadata": {},
   "outputs": [],
   "source": [
    "profile = ProfileReport(df, title=\"installments EDA\", explorative=True)\n",
    "\n",
    "profile.to_file(\"installments_payments_EDA.html\")"
   ]
  },
  {
   "cell_type": "markdown",
   "id": "09943e00-b0f4-4805-984f-3735d7356f97",
   "metadata": {},
   "source": []
  },
  {
   "cell_type": "markdown",
   "id": "3cb38261-d48d-4729-b2d7-452b3390744c",
   "metadata": {},
   "source": [
    "### B. Feature analysis"
   ]
  },
  {
   "cell_type": "markdown",
   "id": "fefad8af-d545-4af4-b441-321a9925d966",
   "metadata": {},
   "source": [
    "    NUM_INSTALMENT_VERSION - Version of installment calendar (0 is for credit card) of previous credit. Change of installment version from month to month signifies that some parameter of payment calendar has changed"
   ]
  },
  {
   "cell_type": "markdown",
   "id": "bd81d2eb-4675-4bd3-aea6-9f835b1b2bbc",
   "metadata": {},
   "source": [
    "Numerical, no missing values, 30.0% zeros. \"1\" value 62.4%.\n",
    "\n",
    "Minimum\t0, Maximum 178, Mean 0.86. Right skewed. Outliers."
   ]
  },
  {
   "cell_type": "markdown",
   "id": "0b62e08d-a177-4204-93b2-3a61beb42772",
   "metadata": {},
   "source": []
  },
  {
   "cell_type": "markdown",
   "id": "60e91b2e-e04e-4890-9dd9-63cce69b7339",
   "metadata": {},
   "source": [
    "    NUM_INSTALMENT_NUMBER - On which installment we observe payment"
   ]
  },
  {
   "cell_type": "markdown",
   "id": "33a91bd7-3923-4b9c-b764-5f9b8565cc6f",
   "metadata": {},
   "source": [
    "Numerical, no missing values, no zeros.\n",
    "\n",
    "Minimum\t1, Maximum 277, Mean 18.9. Right skewed. Outliers."
   ]
  },
  {
   "cell_type": "markdown",
   "id": "916976c1-9a02-4877-8ee6-8fb5fd9d5d62",
   "metadata": {},
   "source": []
  },
  {
   "cell_type": "markdown",
   "id": "ccfe0cd0-2615-49eb-9d72-a4d144dd6a41",
   "metadata": {},
   "source": [
    "    DAYS_INSTALMENT - When the installment of previous credit was supposed to be paid (relative to application date of current loan),time only relative to the application"
   ]
  },
  {
   "cell_type": "markdown",
   "id": "165da8d2-4774-4c26-a31f-3c804567be89",
   "metadata": {},
   "source": [
    "High correlation with DAYS_ENTRY_PAYMENT.\n",
    "\n",
    "Numerical, no missing values, no zeros.\n",
    "\n",
    "Minimum\t-2,922 (~8 years), Maximum\t-1, Mean -1,042.27. Left skewed.\n",
    "\n",
    "    Convert to years."
   ]
  },
  {
   "cell_type": "markdown",
   "id": "944255ff-4cc5-4221-99ca-0551390b1c27",
   "metadata": {},
   "source": []
  },
  {
   "cell_type": "markdown",
   "id": "52747a36-978f-43d3-8a1f-d9a2a00eb6f8",
   "metadata": {},
   "source": [
    "    DAYS_ENTRY_PAYMENT - When was the installments of previous credit paid actually (relative to application date of current loan),time only relative to the application"
   ]
  },
  {
   "cell_type": "markdown",
   "id": "aa074b58-d668-46a7-bd87-6bb099b287ff",
   "metadata": {},
   "source": [
    "High correlation with DAYS_INSTALMENT.\n",
    "\n",
    "Numerical, <0.1% missing values, no zeros.\n",
    "\n",
    "Minimum\t-4,921 (~13.5 years), Maximum -1, Mean -1,051.1. Left skewed.\n",
    "\n",
    "    Convert to years.\n",
    "    Feature engineering:\n",
    "    - calculate late payment LATE_YEARS = YEARS_ENTRY_PAYMENT - YEARS_INSTALMENT\n",
    "    - flag for late years"
   ]
  },
  {
   "cell_type": "markdown",
   "id": "ca2de233-7d99-4bdf-969a-00318da260cb",
   "metadata": {},
   "source": []
  },
  {
   "cell_type": "markdown",
   "id": "d0e97309-9ddc-41a4-87c1-2a9173a15ec2",
   "metadata": {},
   "source": [
    "    AMT_INSTALMENT - What was the prescribed installment amount of previous credit on this installment"
   ]
  },
  {
   "cell_type": "markdown",
   "id": "bcd6ca3f-1591-449d-a5eb-d0a255306a09",
   "metadata": {},
   "source": [
    "High correlation with AMT_PAYMENT, NUM_INSTALMENT_VERSION.\n",
    "\n",
    "Numerical, no missing values, <0.1% zeros.\n",
    "\n",
    "Minimum\t0, Maximum 3,771,487.8, Mean 17,050.9. Right skewed. Outliers."
   ]
  },
  {
   "cell_type": "markdown",
   "id": "883145fa-15bf-48a9-975a-575384a78f23",
   "metadata": {},
   "source": []
  },
  {
   "cell_type": "markdown",
   "id": "cb9a5f29-d8af-4a96-bf57-24618689cf38",
   "metadata": {},
   "source": [
    "    AMT_PAYMENT - What the client actually paid on previous credit on this installment."
   ]
  },
  {
   "cell_type": "markdown",
   "id": "412d89ca-8c1c-4064-a8f6-cb585cdb4aca",
   "metadata": {},
   "source": [
    "High correlation with AMT_INSTALMENT.\n",
    "\n",
    "Numerical, <0.1% missing values, <0.1% zeros.\n",
    "\n",
    "Minimum\t0, Maximum 3,771,487.8, Mean 17,238.2. Right skewed. Outliers.\n",
    "\n",
    "    Feature engineering:\n",
    "    - UNDERPAYMENT_RATIO = AMT_PAYMENT / AMT_INSTALMENT\n",
    "    - flag for UNDERPAYMENT_RATIO < 0.95 (5% tolerance)\n",
    "    - flag for overpayments UNDERPAYMENT_RATIO > 1.05 (5% tolerance)\n",
    "    - payment difference = AMT_PAYMENT - AMT_INSTALMENT\n",
    "    - absolute payment difference"
   ]
  },
  {
   "cell_type": "markdown",
   "id": "660de8a8-1174-4b71-8fc3-00287b23040f",
   "metadata": {},
   "source": []
  },
  {
   "cell_type": "markdown",
   "id": "939ef1bf-2179-4cfc-81ed-d9a413c98e20",
   "metadata": {},
   "source": [
    "### Correlation"
   ]
  },
  {
   "cell_type": "markdown",
   "id": "511844bb-2034-4770-b52c-6ff187ea0b06",
   "metadata": {},
   "source": [
    "We will analyze the relationships between features using a Ydata-Quality report. This report will provide a comprehensive overview of our data, including an automated correlation matrix for all features.\n",
    "\n",
    "To determine which features are most impactful for our model, we will use a more robust method: LightGBM's feature importance. After aggregating the columns from specific datasets into our main dataset, the LightGBM model will automatically calculate the importance of each feature in predicting the target variable. This approach is superior as it directly assesses a feature's predictive power within the context of our chosen model, providing a more reliable measure of its relationship with the target."
   ]
  },
  {
   "cell_type": "markdown",
   "id": "b8fed6bd-a640-436f-8475-05089519a880",
   "metadata": {},
   "source": [
    "**Feature Relationships**\n",
    "\n",
    "High correlation (Ydata Report):\n",
    "    AMT_INSTALMENT - AMT_PAYMENT\n",
    "    DAYS_ENTRY_PAYMENT - DAYS_INSTALMENT"
   ]
  },
  {
   "cell_type": "markdown",
   "id": "aa3f2425-a4a1-4268-9d6d-8f39bb2bc988",
   "metadata": {},
   "source": []
  },
  {
   "cell_type": "markdown",
   "id": "63d475db-28e2-42fa-a7ba-233e2e910619",
   "metadata": {},
   "source": [
    "## 3. Summary"
   ]
  },
  {
   "cell_type": "markdown",
   "id": "60e98c4f-e2c3-41a1-a5ce-a4aa4ce7d0f9",
   "metadata": {},
   "source": [
    "**Key EDA findings for Credit card balance:**\n",
    "\n",
    "    - Total features: 8 (numeric 8, categorical 0), rows: ~ 13.6M,\n",
    "\n",
    "    - Missing cells\t<0.1%, rows with missing values - 0.02%,\n",
    "    \n",
    "    - Missing values (>15%): none\n",
    "        \n",
    "    - Negative values (>50%):\n",
    "        - DAYS_INSTALMENT - 100.0%\n",
    "        - DAYS_ENTRY_PAYMENT > 99.9%\n",
    "\n",
    "    - Zeros (>30%):\n",
    "        - NUM_INSTALMENT_VERSION - 30.0%\n",
    "\n",
    "    - Strong correlations (>0.7):\n",
    "        - AMT_INSTALMENT - AMT_PAYMENT\n",
    "        - DAYS_ENTRY_PAYMENT - DAYS_INSTALMENT\n",
    "    \n",
    "    - Duplicates: None"
   ]
  },
  {
   "cell_type": "markdown",
   "id": "df95bd6c-f5d1-4fec-b25d-1fb230ee6954",
   "metadata": {},
   "source": [
    "**Planned Feature Engineering: Installments Payments**\n",
    "\n",
    "The goal is to capture payment punctuality, underpayment behavior, and overpayment patterns, which strongly influence default risk. Steps:\n",
    "\n",
    "    1. Convert Time Columns\n",
    "\n",
    "        - Convert DAYS_INSTALMENT and DAYS_ENTRY_PAYMENT into YEARS_INSTALMENT and YEARS_ENTRY_PAYMENT for interpretability.\n",
    "\n",
    "    2. Late Payment Features\n",
    "\n",
    "        - LATE_YEARS = Difference between actual and scheduled payment (in years).\n",
    "\n",
    "        - LATE_FLAG = 1 if payment was late, else 0.\n",
    "\n",
    "        - Aggregate metrics:\n",
    "\n",
    "            INSTAL_LATE_YEARS_max – maximum delay in years.\n",
    "\n",
    "            INSTAL_LATE_FLAG_sum – total number of late payments.\n",
    "\n",
    "            INSTAL_LATE_FLAG_mean – proportion of payments late.\n",
    "\n",
    "    3. Underpayment and Overpayment Behavior\n",
    "\n",
    "        - UNDERPAYMENT_RATIO = AMT_PAYMENT / AMT_INSTALMENT\n",
    "\n",
    "        - Handles division by zero safely.\n",
    "\n",
    "        - Flags:\n",
    "\n",
    "            UNDERPAYMENT_FLAG = 1 if paid < 95% of due amount.\n",
    "\n",
    "            FULL_REPAYMENT_FLAG = 1 if paid ≥ 105% (possible early closure).\n",
    "\n",
    "        - Aggregate metrics:\n",
    "\n",
    "            INSTAL_UNDERPAYMENT_RATIO_min – worst underpayment ratio.\n",
    "            \n",
    "            INSTAL_UNDERPAYMENT_RATIO_std – variability in payment ratios.\n",
    "            \n",
    "            INSTAL_UNDERPAYMENT_FLAG_sum – count of underpayments.\n",
    "            \n",
    "            INSTAL_FULL_REPAYMENT_FLAG_sum – count of full overpayments.\n",
    "\n",
    "    4. Payment Difference Features\n",
    "\n",
    "        - PAYMENT_DIFF = AMT_PAYMENT - AMT_INSTALMENT\n",
    "        \n",
    "        - ABS_PAYMENT_DIFF = absolute difference (captures both under and overpayments)\n",
    "        \n",
    "        - Aggregate metrics:\n",
    "        \n",
    "            Mean, sum for both difference features.\n",
    "\n",
    "    5. Standard Aggregations\n",
    "\n",
    "        In addition to custom metrics, compute numerical aggregates:\n",
    "\n",
    "            AMT_INSTALMENT: mean, max, sum\n",
    "    \n",
    "            AMT_PAYMENT: mean, max, sum\n",
    "    \n",
    "            YEARS_INSTALMENT and YEARS_ENTRY_PAYMENT: mean, max\n",
    "\n",
    "    6. Must-Keep Features\n",
    "\n",
    "        Critical indicators to ensure inclusion:\n",
    "\n",
    "            INSTAL_LATE_DAYS_max – worst delay\n",
    "            \n",
    "            INSTAL_UNDERPAYMENT_RATIO_min – worst underpayment ratio\n",
    "            \n",
    "            INSTAL_UNDERPAYMENT_FLAG_sum – count of underpayments\n",
    "            \n",
    "            INSTAL_LATE_FLAG_sum – count of late payments\n",
    "\n",
    "    7. Feature Selection\n",
    "\n",
    "        Use LightGBM importance + ROC-AUC ranking to select top features.\n",
    "\n",
    "        Merge selected features back to main data frame for model training.\n",
    "\n",
    "\n",
    "This feature set will help capture payment reliability, financial stress signals, and aggressive repayment patterns, which are highly predictive of credit risk.  "
   ]
  },
  {
   "cell_type": "markdown",
   "id": "841c0faf-7826-441c-8796-e642986d036c",
   "metadata": {},
   "source": []
  }
 ],
 "metadata": {
  "kernelspec": {
   "display_name": "Python (myenv)",
   "language": "python",
   "name": "myenv"
  },
  "language_info": {
   "codemirror_mode": {
    "name": "ipython",
    "version": 3
   },
   "file_extension": ".py",
   "mimetype": "text/x-python",
   "name": "python",
   "nbconvert_exporter": "python",
   "pygments_lexer": "ipython3",
   "version": "3.11.9"
  }
 },
 "nbformat": 4,
 "nbformat_minor": 5
}
